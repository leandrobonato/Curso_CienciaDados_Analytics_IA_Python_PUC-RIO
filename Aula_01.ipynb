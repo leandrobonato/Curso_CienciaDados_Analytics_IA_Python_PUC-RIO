{
  "nbformat": 4,
  "nbformat_minor": 0,
  "metadata": {
    "colab": {
      "provenance": [],
      "toc_visible": true,
      "authorship_tag": "ABX9TyMxbGh2Vt/DhBplClm3IUBp",
      "include_colab_link": true
    },
    "kernelspec": {
      "name": "python3",
      "display_name": "Python 3"
    },
    "language_info": {
      "name": "python"
    }
  },
  "cells": [
    {
      "cell_type": "markdown",
      "metadata": {
        "id": "view-in-github",
        "colab_type": "text"
      },
      "source": [
        "<a href=\"https://colab.research.google.com/github/leandrobonato/Curso_CienciaDados_Analytics_IA_Python_PUC-RIO/blob/main/Aula_01.ipynb\" target=\"_parent\"><img src=\"https://colab.research.google.com/assets/colab-badge.svg\" alt=\"Open In Colab\"/></a>"
      ]
    },
    {
      "cell_type": "markdown",
      "source": [
        "#Tudo foi copiado, corrigido, e resolvido por Leandro Miozzo Bonato para reforçar o aprendizado."
      ],
      "metadata": {
        "id": "ddP8WUUwM65c"
      }
    },
    {
      "cell_type": "markdown",
      "source": [
        "##Aula 01 - Exercícios 01"
      ],
      "metadata": {
        "id": "VZRKoJOmXHIG"
      }
    },
    {
      "cell_type": "markdown",
      "source": [
        "###Roteiro da primeira lista de exercícios"
      ],
      "metadata": {
        "id": "W8keQLy-MH10"
      }
    },
    {
      "cell_type": "markdown",
      "source": [
        "Ao longo deste documento, haverá vários exemplos e exercícios comentados para consolidar o conhecimento adquirido sobre tipos de dados, operadores aritméticos e expressões aritméticas. Ao final, serão apresentados alguns desafios para os quais as respostas são fornecidas para simples conferência."
      ],
      "metadata": {
        "id": "0GSdEfDpMPlk"
      }
    },
    {
      "cell_type": "markdown",
      "source": [
        "###Operadores aritméticos e expressões"
      ],
      "metadata": {
        "id": "1ni7wIDyMdH0"
      }
    },
    {
      "cell_type": "code",
      "source": [
        "# Este é um comentário. Não é considerado pelo ambiente na execução do código\n",
        "# Execute esta célula que contém a expressão abaixo com dois valores reais.\n",
        "# Repare que é utilizado o ponto decimal.\n",
        "18.72 + 3.34    # É possível escrever um comentário ao lado de uma linha de código"
      ],
      "metadata": {
        "colab": {
          "base_uri": "https://localhost:8080/"
        },
        "id": "moya1Fq6MjHO",
        "outputId": "384e3758-d954-44df-83fc-fadd5ae8c185"
      },
      "execution_count": 51,
      "outputs": [
        {
          "output_type": "execute_result",
          "data": {
            "text/plain": [
              "22.06"
            ]
          },
          "metadata": {},
          "execution_count": 51
        }
      ]
    },
    {
      "cell_type": "code",
      "source": [
        "# Mas cuidado! Ao executar o código abaixo, ocorrerá um erro.\n",
        "# Motivo: um espaço em branco antes da expressão.\n",
        "18.72 + 3.34 #Corrigido para a identação correta."
      ],
      "metadata": {
        "colab": {
          "base_uri": "https://localhost:8080/"
        },
        "id": "EDNolFVFMnTA",
        "outputId": "f688284c-9eb8-4d11-e933-9fb6a082136d"
      },
      "execution_count": 52,
      "outputs": [
        {
          "output_type": "execute_result",
          "data": {
            "text/plain": [
              "22.06"
            ]
          },
          "metadata": {},
          "execution_count": 52
        }
      ]
    },
    {
      "cell_type": "markdown",
      "source": [
        "Agora, execute as próximas 7 células com expressões envolvendo apenas valores inteiros. Certifique-se de analisar com cuidado os 3 últimos resultados."
      ],
      "metadata": {
        "id": "1otguxVuM2B0"
      }
    },
    {
      "cell_type": "code",
      "source": [
        "13 + 5 #Adição"
      ],
      "metadata": {
        "colab": {
          "base_uri": "https://localhost:8080/"
        },
        "id": "PYfr92D_M5pR",
        "outputId": "3a2b60bd-a9c9-4f12-93dd-1b39ec2e28a2"
      },
      "execution_count": 53,
      "outputs": [
        {
          "output_type": "execute_result",
          "data": {
            "text/plain": [
              "18"
            ]
          },
          "metadata": {},
          "execution_count": 53
        }
      ]
    },
    {
      "cell_type": "code",
      "source": [
        "13 - 5 #Subtração"
      ],
      "metadata": {
        "colab": {
          "base_uri": "https://localhost:8080/"
        },
        "id": "iDvm1w2SNR7g",
        "outputId": "03e8002e-ba54-45bc-c599-8fde594d89ee"
      },
      "execution_count": 54,
      "outputs": [
        {
          "output_type": "execute_result",
          "data": {
            "text/plain": [
              "8"
            ]
          },
          "metadata": {},
          "execution_count": 54
        }
      ]
    },
    {
      "cell_type": "code",
      "source": [
        "13 ** 5 #Exponenciação"
      ],
      "metadata": {
        "colab": {
          "base_uri": "https://localhost:8080/"
        },
        "id": "We-l-410NZJh",
        "outputId": "10660fc0-11ee-45ec-eaf5-d4bbe73c9fa1"
      },
      "execution_count": 55,
      "outputs": [
        {
          "output_type": "execute_result",
          "data": {
            "text/plain": [
              "371293"
            ]
          },
          "metadata": {},
          "execution_count": 55
        }
      ]
    },
    {
      "cell_type": "markdown",
      "source": [
        "O operador / é responsável por executar a operação de divisão como conhecemos na Matemática. Por isso, o resultado de 13 dividido por 5 tem como resultado 2.6."
      ],
      "metadata": {
        "id": "pX8n_3Z8Nz33"
      }
    },
    {
      "cell_type": "code",
      "source": [
        "13 / 5 #Divisão"
      ],
      "metadata": {
        "colab": {
          "base_uri": "https://localhost:8080/"
        },
        "id": "yEBjSjjmNa55",
        "outputId": "9a54e081-457f-4037-e210-34a41dd5abac"
      },
      "execution_count": 56,
      "outputs": [
        {
          "output_type": "execute_result",
          "data": {
            "text/plain": [
              "2.6"
            ]
          },
          "metadata": {},
          "execution_count": 56
        }
      ]
    },
    {
      "cell_type": "markdown",
      "source": [
        "Já o operador // executa uma divisão na qual o resultado é o maior inteiro menor do que o quociente da divisão tradicional. Na expressão acima, o resultado é 2 porque este é o maior inteiro menor que 2.6 (resultado de 13 / 5)."
      ],
      "metadata": {
        "id": "9Shmv5FDN4gg"
      }
    },
    {
      "cell_type": "code",
      "source": [
        "13 // 5 #Divisão de inteiros"
      ],
      "metadata": {
        "colab": {
          "base_uri": "https://localhost:8080/"
        },
        "id": "zGRsZl5-Nkcv",
        "outputId": "89bdaeaa-7631-406b-cc29-6722db77beac"
      },
      "execution_count": 57,
      "outputs": [
        {
          "output_type": "execute_result",
          "data": {
            "text/plain": [
              "2"
            ]
          },
          "metadata": {},
          "execution_count": 57
        }
      ]
    },
    {
      "cell_type": "markdown",
      "source": [
        "O operador % calcula o resto da divisão do primeiro operando pelo segundo. No caso, o resultado é 3:\n",
        "13 - (13 // 5) * 5.\n"
      ],
      "metadata": {
        "id": "Uvh-HzY4N8UC"
      }
    },
    {
      "cell_type": "code",
      "source": [
        "13 % 5 #Resto da divisão"
      ],
      "metadata": {
        "colab": {
          "base_uri": "https://localhost:8080/"
        },
        "id": "fRFEuM_JNpn3",
        "outputId": "83f91981-600d-453e-f4f2-811a405f8277"
      },
      "execution_count": 58,
      "outputs": [
        {
          "output_type": "execute_result",
          "data": {
            "text/plain": [
              "3"
            ]
          },
          "metadata": {},
          "execution_count": 58
        }
      ]
    },
    {
      "cell_type": "markdown",
      "source": [
        "Mas cuidado! A expressão abaixo gera um valor que pode parecer estranho para alguns. Lembre-se que o resultado é o maior inteiro menor do que o quociente da divisão tradicional (-2.6)."
      ],
      "metadata": {
        "id": "F-TZxdqRODI5"
      }
    },
    {
      "cell_type": "code",
      "source": [
        "(-13) // 5"
      ],
      "metadata": {
        "colab": {
          "base_uri": "https://localhost:8080/"
        },
        "id": "MpZfWN9HOG2h",
        "outputId": "ed13d5c2-6b1c-4d2f-c7d5-ec46e4252623"
      },
      "execution_count": 59,
      "outputs": [
        {
          "output_type": "execute_result",
          "data": {
            "text/plain": [
              "-3"
            ]
          },
          "metadata": {},
          "execution_count": 59
        }
      ]
    },
    {
      "cell_type": "markdown",
      "source": [
        "Calcule o resultado da expressão aritmética abaixo."
      ],
      "metadata": {
        "id": "MsCkLYnROLCA"
      }
    },
    {
      "cell_type": "code",
      "source": [
        "10 - 3 * 2 + 4 ** 3 // 8\n",
        "#parte 1: exponenciação -> 4 ** 3 = 64\n",
        "#parte 2: divisão, multiplicação e divisão por inteiros -> 3 * 2 = 6\n",
        "#parte 3: o restante -> 64 // 8 = 8\n",
        "#parte 4: subtração -> 10 - 6 = 4\n",
        "#parte 5: adição -> 4 + 8 = 12"
      ],
      "metadata": {
        "colab": {
          "base_uri": "https://localhost:8080/"
        },
        "id": "-PvB_JzcOKTG",
        "outputId": "1ca793d0-480e-4e1c-ae9c-a39b348dc282"
      },
      "execution_count": 60,
      "outputs": [
        {
          "output_type": "execute_result",
          "data": {
            "text/plain": [
              "12"
            ]
          },
          "metadata": {},
          "execution_count": 60
        }
      ]
    },
    {
      "cell_type": "markdown",
      "source": [
        "O resultado já era conhecido pois é a mesma expressão vista no texto do início da primeira aula. Mas como fica a expressão com alguns parênteses? O resultado muda? Experimente!"
      ],
      "metadata": {
        "id": "gxsbF_esPCe0"
      }
    },
    {
      "cell_type": "code",
      "source": [
        "(10 - 3) * 2 + 4 ** (3 // 8)\n",
        "#parte 1: parentênsis -> 10 - 3 = 7\n",
        "#parte 2: parentênsis -> 3 // 8 = 0\n",
        "#parte 3: exponenciação -> 4 ** 0 = 1 --> o truque está aqui, pois 4 exponenciado à 0 é sempre 1 e não zero.\n",
        "#parte 4: multiplicação -> 7 * 2 = 14\n",
        "#parte 5: adição -> 1 + 14 = 15"
      ],
      "metadata": {
        "colab": {
          "base_uri": "https://localhost:8080/"
        },
        "id": "eF7aUXh3PFrC",
        "outputId": "077eb9ce-857b-4731-84a8-477393831e5e"
      },
      "execution_count": 61,
      "outputs": [
        {
          "output_type": "execute_result",
          "data": {
            "text/plain": [
              "15"
            ]
          },
          "metadata": {},
          "execution_count": 61
        }
      ]
    },
    {
      "cell_type": "markdown",
      "source": [
        "A execução do código da próxima célula provoca um erro comum, principalmente, para iniciantes na programação. Execute-a e observe a mensagem de erro exibida."
      ],
      "metadata": {
        "id": "3sAz9OXbQW95"
      }
    },
    {
      "cell_type": "code",
      "source": [
        "#10 / 0       # não é possível dividir um valor por zero!\n",
        "#para evitar esse erro, terá que fazer um IF\n",
        "numerador = 10\n",
        "divisor = 0\n",
        "divisao_segura = 0\n",
        "if divisor <= 0: divisao_segura = 0\n",
        "else: divisao_segura = numerador / divisor\n",
        "print(divisao_segura)"
      ],
      "metadata": {
        "colab": {
          "base_uri": "https://localhost:8080/"
        },
        "id": "C3GHgN9KQY9e",
        "outputId": "ef87f46e-de40-4ad1-af24-61a28be9bb4a"
      },
      "execution_count": 62,
      "outputs": [
        {
          "output_type": "stream",
          "name": "stdout",
          "text": [
            "0\n"
          ]
        }
      ]
    },
    {
      "cell_type": "markdown",
      "source": [
        "###Desafios"
      ],
      "metadata": {
        "id": "Xk3Dcq2HSRw4"
      }
    },
    {
      "cell_type": "markdown",
      "source": [
        "Agora, resolva os desafios abaixo, adicionando novas células de código e definindo as expressões necessárias para calcular o resultado. Repare que a resposta de cada desafio é dada.\n",
        "\n"
      ],
      "metadata": {
        "id": "4l_pUCubSbS4"
      }
    },
    {
      "cell_type": "markdown",
      "source": [
        "####DESAFIO 1\n",
        "\n",
        "Qual o volume, em metros cúbicos, de um reservatório, em forma de paralelepípedo, com 79 metros de comprimento, 10 metros de largura e 4 metros de profundidade?"
      ],
      "metadata": {
        "id": "LGb_53rvStLn"
      }
    },
    {
      "cell_type": "code",
      "source": [
        "comprimento = 79\n",
        "largura = 10\n",
        "profundidade = 4\n",
        "volume = 0\n",
        "\n",
        "volume = comprimento * largura * profundidade\n",
        "\n",
        "print(str(volume) + ' m³')"
      ],
      "metadata": {
        "colab": {
          "base_uri": "https://localhost:8080/"
        },
        "id": "DNb49YjISwNu",
        "outputId": "b87879d9-4d60-4408-ee37-04fc8263a338"
      },
      "execution_count": 45,
      "outputs": [
        {
          "output_type": "stream",
          "name": "stdout",
          "text": [
            "3160 m³\n"
          ]
        }
      ]
    },
    {
      "cell_type": "markdown",
      "source": [
        "####DESAFIO 2\n",
        "\n",
        "Considerando que 1 metro cúbico corresponde a 1000 litros de água, quantos litros cabem no reservatório do desafio 1?\n"
      ],
      "metadata": {
        "id": "BbGITbmFSh_C"
      }
    },
    {
      "cell_type": "code",
      "source": [
        "capacidade_volume = 1000\n",
        "capacidade_final = 0\n",
        "\n",
        "capacidade_final = volume * capacidade_volume\n",
        "\n",
        "print(str(capacidade_final) + ' litros de água')"
      ],
      "metadata": {
        "colab": {
          "base_uri": "https://localhost:8080/"
        },
        "id": "Osj94mHKTNFo",
        "outputId": "b2253e37-3092-45a2-f786-08c9501b9f14"
      },
      "execution_count": 47,
      "outputs": [
        {
          "output_type": "stream",
          "name": "stdout",
          "text": [
            "3160000 litros de água\n"
          ]
        }
      ]
    },
    {
      "cell_type": "markdown",
      "source": [
        "####DESAFIO 3\n",
        "\n",
        "Considere uma torneira que despeja 75 litros de água por hora. Em quantos minutos a torneira encheria o reservatório dos desafios 1 e 2?"
      ],
      "metadata": {
        "id": "pS-hJSScSl8C"
      }
    },
    {
      "cell_type": "code",
      "source": [
        "litros_agua_hora = 75\n",
        "tempo_enchimento_horas = 0\n",
        "tempo_minutos = 0\n",
        "tempo_dias = 0\n",
        "\n",
        "tempo_enchimento_horas = (capacidade_final / litros_agua_hora)\n",
        "tempo_minutos = tempo_enchimento_horas * 60 #converte de litros/hora para litros/minutos\n",
        "tempo_dias = tempo_enchimento_horas / 24 #converte de litros/hora para litros/dias\n",
        "\n",
        "print(str(round(tempo_enchimento_horas, 2)) + ' horas ou ' + str(tempo_minutos) + ' minutos ou ' + str(round(tempo_dias, 2)) + ' dias')"
      ],
      "metadata": {
        "colab": {
          "base_uri": "https://localhost:8080/"
        },
        "id": "qecCU1XBT06Q",
        "outputId": "97dae1de-5797-460b-8f5c-8268c9755cf0"
      },
      "execution_count": 50,
      "outputs": [
        {
          "output_type": "stream",
          "name": "stdout",
          "text": [
            "42133.33 horas ou 2528000.0 minutos ou 1755.56 dias\n"
          ]
        }
      ]
    }
  ]
}