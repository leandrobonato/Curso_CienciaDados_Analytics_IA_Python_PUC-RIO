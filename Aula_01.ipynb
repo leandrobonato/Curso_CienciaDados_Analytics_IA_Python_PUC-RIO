{
  "nbformat": 4,
  "nbformat_minor": 0,
  "metadata": {
    "colab": {
      "provenance": [],
      "toc_visible": true,
      "authorship_tag": "ABX9TyOACclP9UwMiDUWA6FpqoLH",
      "include_colab_link": true
    },
    "kernelspec": {
      "name": "python3",
      "display_name": "Python 3"
    },
    "language_info": {
      "name": "python"
    }
  },
  "cells": [
    {
      "cell_type": "markdown",
      "metadata": {
        "id": "view-in-github",
        "colab_type": "text"
      },
      "source": [
        "<a href=\"https://colab.research.google.com/github/leandrobonato/Curso_CienciaDados_Analytics_IA_Python_PUC-RIO/blob/main/Aula_01.ipynb\" target=\"_parent\"><img src=\"https://colab.research.google.com/assets/colab-badge.svg\" alt=\"Open In Colab\"/></a>"
      ]
    },
    {
      "cell_type": "markdown",
      "source": [
        "#Tudo foi copiado, corrigido, e resolvido por Leandro Miozzo Bonato para reforçar o aprendizado."
      ],
      "metadata": {
        "id": "ddP8WUUwM65c"
      }
    },
    {
      "cell_type": "markdown",
      "source": [
        "##Aula 01 - Exercícios 01"
      ],
      "metadata": {
        "id": "VZRKoJOmXHIG"
      }
    },
    {
      "cell_type": "markdown",
      "source": [
        "###Roteiro da primeira lista de exercícios"
      ],
      "metadata": {
        "id": "W8keQLy-MH10"
      }
    },
    {
      "cell_type": "markdown",
      "source": [
        "Ao longo deste documento, haverá vários exemplos e exercícios comentados para consolidar o conhecimento adquirido sobre tipos de dados, operadores aritméticos e expressões aritméticas. Ao final, serão apresentados alguns desafios para os quais as respostas são fornecidas para simples conferência."
      ],
      "metadata": {
        "id": "0GSdEfDpMPlk"
      }
    },
    {
      "cell_type": "markdown",
      "source": [
        "###Operadores aritméticos e expressões"
      ],
      "metadata": {
        "id": "1ni7wIDyMdH0"
      }
    },
    {
      "cell_type": "code",
      "source": [
        "# Este é um comentário. Não é considerado pelo ambiente na execução do código\n",
        "# Execute esta célula que contém a expressão abaixo com dois valores reais.\n",
        "# Repare que é utilizado o ponto decimal.\n",
        "18.72 + 3.34    # É possível escrever um comentário ao lado de uma linha de código"
      ],
      "metadata": {
        "colab": {
          "base_uri": "https://localhost:8080/"
        },
        "id": "moya1Fq6MjHO",
        "outputId": "384e3758-d954-44df-83fc-fadd5ae8c185"
      },
      "execution_count": 51,
      "outputs": [
        {
          "output_type": "execute_result",
          "data": {
            "text/plain": [
              "22.06"
            ]
          },
          "metadata": {},
          "execution_count": 51
        }
      ]
    },
    {
      "cell_type": "code",
      "source": [
        "# Mas cuidado! Ao executar o código abaixo, ocorrerá um erro.\n",
        "# Motivo: um espaço em branco antes da expressão.\n",
        "18.72 + 3.34 #Corrigido para a identação correta."
      ],
      "metadata": {
        "colab": {
          "base_uri": "https://localhost:8080/"
        },
        "id": "EDNolFVFMnTA",
        "outputId": "f688284c-9eb8-4d11-e933-9fb6a082136d"
      },
      "execution_count": 52,
      "outputs": [
        {
          "output_type": "execute_result",
          "data": {
            "text/plain": [
              "22.06"
            ]
          },
          "metadata": {},
          "execution_count": 52
        }
      ]
    },
    {
      "cell_type": "markdown",
      "source": [
        "Agora, execute as próximas 7 células com expressões envolvendo apenas valores inteiros. Certifique-se de analisar com cuidado os 3 últimos resultados."
      ],
      "metadata": {
        "id": "1otguxVuM2B0"
      }
    },
    {
      "cell_type": "code",
      "source": [
        "13 + 5 #Adição"
      ],
      "metadata": {
        "colab": {
          "base_uri": "https://localhost:8080/"
        },
        "id": "PYfr92D_M5pR",
        "outputId": "3a2b60bd-a9c9-4f12-93dd-1b39ec2e28a2"
      },
      "execution_count": 53,
      "outputs": [
        {
          "output_type": "execute_result",
          "data": {
            "text/plain": [
              "18"
            ]
          },
          "metadata": {},
          "execution_count": 53
        }
      ]
    },
    {
      "cell_type": "code",
      "source": [
        "13 - 5 #Subtração"
      ],
      "metadata": {
        "colab": {
          "base_uri": "https://localhost:8080/"
        },
        "id": "iDvm1w2SNR7g",
        "outputId": "03e8002e-ba54-45bc-c599-8fde594d89ee"
      },
      "execution_count": 54,
      "outputs": [
        {
          "output_type": "execute_result",
          "data": {
            "text/plain": [
              "8"
            ]
          },
          "metadata": {},
          "execution_count": 54
        }
      ]
    },
    {
      "cell_type": "code",
      "source": [
        "13 ** 5 #Exponenciação"
      ],
      "metadata": {
        "colab": {
          "base_uri": "https://localhost:8080/"
        },
        "id": "We-l-410NZJh",
        "outputId": "10660fc0-11ee-45ec-eaf5-d4bbe73c9fa1"
      },
      "execution_count": 55,
      "outputs": [
        {
          "output_type": "execute_result",
          "data": {
            "text/plain": [
              "371293"
            ]
          },
          "metadata": {},
          "execution_count": 55
        }
      ]
    },
    {
      "cell_type": "markdown",
      "source": [
        "O operador / é responsável por executar a operação de divisão como conhecemos na Matemática. Por isso, o resultado de 13 dividido por 5 tem como resultado 2.6."
      ],
      "metadata": {
        "id": "pX8n_3Z8Nz33"
      }
    },
    {
      "cell_type": "code",
      "source": [
        "13 / 5 #Divisão"
      ],
      "metadata": {
        "colab": {
          "base_uri": "https://localhost:8080/"
        },
        "id": "yEBjSjjmNa55",
        "outputId": "9a54e081-457f-4037-e210-34a41dd5abac"
      },
      "execution_count": 56,
      "outputs": [
        {
          "output_type": "execute_result",
          "data": {
            "text/plain": [
              "2.6"
            ]
          },
          "metadata": {},
          "execution_count": 56
        }
      ]
    },
    {
      "cell_type": "markdown",
      "source": [
        "Já o operador // executa uma divisão na qual o resultado é o maior inteiro menor do que o quociente da divisão tradicional. Na expressão acima, o resultado é 2 porque este é o maior inteiro menor que 2.6 (resultado de 13 / 5)."
      ],
      "metadata": {
        "id": "9Shmv5FDN4gg"
      }
    },
    {
      "cell_type": "code",
      "source": [
        "13 // 5 #Divisão de inteiros"
      ],
      "metadata": {
        "colab": {
          "base_uri": "https://localhost:8080/"
        },
        "id": "zGRsZl5-Nkcv",
        "outputId": "89bdaeaa-7631-406b-cc29-6722db77beac"
      },
      "execution_count": 57,
      "outputs": [
        {
          "output_type": "execute_result",
          "data": {
            "text/plain": [
              "2"
            ]
          },
          "metadata": {},
          "execution_count": 57
        }
      ]
    },
    {
      "cell_type": "markdown",
      "source": [
        "O operador % calcula o resto da divisão do primeiro operando pelo segundo. No caso, o resultado é 3:\n",
        "13 - (13 // 5) * 5.\n"
      ],
      "metadata": {
        "id": "Uvh-HzY4N8UC"
      }
    },
    {
      "cell_type": "code",
      "source": [
        "13 % 5 #Resto da divisão"
      ],
      "metadata": {
        "colab": {
          "base_uri": "https://localhost:8080/"
        },
        "id": "fRFEuM_JNpn3",
        "outputId": "83f91981-600d-453e-f4f2-811a405f8277"
      },
      "execution_count": 58,
      "outputs": [
        {
          "output_type": "execute_result",
          "data": {
            "text/plain": [
              "3"
            ]
          },
          "metadata": {},
          "execution_count": 58
        }
      ]
    },
    {
      "cell_type": "markdown",
      "source": [
        "Mas cuidado! A expressão abaixo gera um valor que pode parecer estranho para alguns. Lembre-se que o resultado é o maior inteiro menor do que o quociente da divisão tradicional (-2.6)."
      ],
      "metadata": {
        "id": "F-TZxdqRODI5"
      }
    },
    {
      "cell_type": "code",
      "source": [
        "(-13) // 5"
      ],
      "metadata": {
        "colab": {
          "base_uri": "https://localhost:8080/"
        },
        "id": "MpZfWN9HOG2h",
        "outputId": "ed13d5c2-6b1c-4d2f-c7d5-ec46e4252623"
      },
      "execution_count": 59,
      "outputs": [
        {
          "output_type": "execute_result",
          "data": {
            "text/plain": [
              "-3"
            ]
          },
          "metadata": {},
          "execution_count": 59
        }
      ]
    },
    {
      "cell_type": "markdown",
      "source": [
        "Calcule o resultado da expressão aritmética abaixo."
      ],
      "metadata": {
        "id": "MsCkLYnROLCA"
      }
    },
    {
      "cell_type": "code",
      "source": [
        "10 - 3 * 2 + 4 ** 3 // 8\n",
        "#parte 1: exponenciação -> 4 ** 3 = 64\n",
        "#parte 2: divisão, multiplicação e divisão por inteiros -> 3 * 2 = 6\n",
        "#parte 3: o restante -> 64 // 8 = 8\n",
        "#parte 4: subtração -> 10 - 6 = 4\n",
        "#parte 5: adição -> 4 + 8 = 12"
      ],
      "metadata": {
        "colab": {
          "base_uri": "https://localhost:8080/"
        },
        "id": "-PvB_JzcOKTG",
        "outputId": "1ca793d0-480e-4e1c-ae9c-a39b348dc282"
      },
      "execution_count": 60,
      "outputs": [
        {
          "output_type": "execute_result",
          "data": {
            "text/plain": [
              "12"
            ]
          },
          "metadata": {},
          "execution_count": 60
        }
      ]
    },
    {
      "cell_type": "markdown",
      "source": [
        "O resultado já era conhecido pois é a mesma expressão vista no texto do início da primeira aula. Mas como fica a expressão com alguns parênteses? O resultado muda? Experimente!"
      ],
      "metadata": {
        "id": "gxsbF_esPCe0"
      }
    },
    {
      "cell_type": "code",
      "source": [
        "(10 - 3) * 2 + 4 ** (3 // 8)\n",
        "#parte 1: parentênsis -> 10 - 3 = 7\n",
        "#parte 2: parentênsis -> 3 // 8 = 0\n",
        "#parte 3: exponenciação -> 4 ** 0 = 1 --> o truque está aqui, pois 4 exponenciado à 0 é sempre 1 e não zero.\n",
        "#parte 4: multiplicação -> 7 * 2 = 14\n",
        "#parte 5: adição -> 1 + 14 = 15"
      ],
      "metadata": {
        "colab": {
          "base_uri": "https://localhost:8080/"
        },
        "id": "eF7aUXh3PFrC",
        "outputId": "077eb9ce-857b-4731-84a8-477393831e5e"
      },
      "execution_count": 61,
      "outputs": [
        {
          "output_type": "execute_result",
          "data": {
            "text/plain": [
              "15"
            ]
          },
          "metadata": {},
          "execution_count": 61
        }
      ]
    },
    {
      "cell_type": "markdown",
      "source": [
        "A execução do código da próxima célula provoca um erro comum, principalmente, para iniciantes na programação. Execute-a e observe a mensagem de erro exibida."
      ],
      "metadata": {
        "id": "3sAz9OXbQW95"
      }
    },
    {
      "cell_type": "code",
      "source": [
        "#10 / 0       # não é possível dividir um valor por zero!\n",
        "#para evitar esse erro, terá que fazer um IF\n",
        "numerador = 10\n",
        "divisor = 0\n",
        "divisao_segura = 0\n",
        "if divisor <= 0: divisao_segura = 0\n",
        "else: divisao_segura = numerador / divisor\n",
        "print(divisao_segura)"
      ],
      "metadata": {
        "colab": {
          "base_uri": "https://localhost:8080/"
        },
        "id": "C3GHgN9KQY9e",
        "outputId": "ef87f46e-de40-4ad1-af24-61a28be9bb4a"
      },
      "execution_count": 62,
      "outputs": [
        {
          "output_type": "stream",
          "name": "stdout",
          "text": [
            "0\n"
          ]
        }
      ]
    },
    {
      "cell_type": "markdown",
      "source": [
        "###Desafios"
      ],
      "metadata": {
        "id": "Xk3Dcq2HSRw4"
      }
    },
    {
      "cell_type": "markdown",
      "source": [
        "Agora, resolva os desafios abaixo, adicionando novas células de código e definindo as expressões necessárias para calcular o resultado. Repare que a resposta de cada desafio é dada.\n",
        "\n"
      ],
      "metadata": {
        "id": "4l_pUCubSbS4"
      }
    },
    {
      "cell_type": "markdown",
      "source": [
        "####DESAFIO 1\n",
        "\n",
        "Qual o volume, em metros cúbicos, de um reservatório, em forma de paralelepípedo, com 79 metros de comprimento, 10 metros de largura e 4 metros de profundidade?"
      ],
      "metadata": {
        "id": "LGb_53rvStLn"
      }
    },
    {
      "cell_type": "code",
      "source": [
        "comprimento = 79\n",
        "largura = 10\n",
        "profundidade = 4\n",
        "volume = 0\n",
        "\n",
        "volume = comprimento * largura * profundidade\n",
        "\n",
        "print(str(volume) + ' m³')"
      ],
      "metadata": {
        "colab": {
          "base_uri": "https://localhost:8080/"
        },
        "id": "DNb49YjISwNu",
        "outputId": "b87879d9-4d60-4408-ee37-04fc8263a338"
      },
      "execution_count": 45,
      "outputs": [
        {
          "output_type": "stream",
          "name": "stdout",
          "text": [
            "3160 m³\n"
          ]
        }
      ]
    },
    {
      "cell_type": "markdown",
      "source": [
        "####DESAFIO 2\n",
        "\n",
        "Considerando que 1 metro cúbico corresponde a 1000 litros de água, quantos litros cabem no reservatório do desafio 1?\n"
      ],
      "metadata": {
        "id": "BbGITbmFSh_C"
      }
    },
    {
      "cell_type": "code",
      "source": [
        "capacidade_volume = 1000\n",
        "capacidade_final = 0\n",
        "\n",
        "capacidade_final = volume * capacidade_volume\n",
        "\n",
        "print(str(capacidade_final) + ' litros de água')"
      ],
      "metadata": {
        "colab": {
          "base_uri": "https://localhost:8080/"
        },
        "id": "Osj94mHKTNFo",
        "outputId": "b2253e37-3092-45a2-f786-08c9501b9f14"
      },
      "execution_count": 47,
      "outputs": [
        {
          "output_type": "stream",
          "name": "stdout",
          "text": [
            "3160000 litros de água\n"
          ]
        }
      ]
    },
    {
      "cell_type": "markdown",
      "source": [
        "####DESAFIO 3\n",
        "\n",
        "Considere uma torneira que despeja 75 litros de água por hora. Em quantos minutos a torneira encheria o reservatório dos desafios 1 e 2?"
      ],
      "metadata": {
        "id": "pS-hJSScSl8C"
      }
    },
    {
      "cell_type": "code",
      "source": [
        "litros_agua_hora = 75\n",
        "tempo_enchimento_horas = 0\n",
        "tempo_minutos = 0\n",
        "tempo_dias = 0\n",
        "\n",
        "tempo_enchimento_horas = (capacidade_final / litros_agua_hora)\n",
        "tempo_minutos = tempo_enchimento_horas * 60 #converte de litros/hora para litros/minutos\n",
        "tempo_dias = tempo_enchimento_horas / 24 #converte de litros/hora para litros/dias\n",
        "\n",
        "print(str(round(tempo_enchimento_horas, 2)) + ' horas ou ' + str(tempo_minutos) + ' minutos ou ' + str(round(tempo_dias, 2)) + ' dias')"
      ],
      "metadata": {
        "colab": {
          "base_uri": "https://localhost:8080/"
        },
        "id": "qecCU1XBT06Q",
        "outputId": "97dae1de-5797-460b-8f5c-8268c9755cf0"
      },
      "execution_count": 50,
      "outputs": [
        {
          "output_type": "stream",
          "name": "stdout",
          "text": [
            "42133.33 horas ou 2528000.0 minutos ou 1755.56 dias\n"
          ]
        }
      ]
    },
    {
      "cell_type": "markdown",
      "source": [
        "##Aula 01 - Exercícios 02"
      ],
      "metadata": {
        "id": "udJ6M1RhXt29"
      }
    },
    {
      "cell_type": "markdown",
      "source": [
        "###Roteiro da segunda lista de exercícios\n"
      ],
      "metadata": {
        "id": "ohV2RAetZeMe"
      }
    },
    {
      "cell_type": "markdown",
      "source": [
        "Ao longo deste documento, haverá vários exemplos e exercícios comentados para consolidar o conhecimento adquirido sobre variáveis que envolve naturalmente as expressões aritméticas e seus operadores. Depois, resolva os desafios propostos cujas respostas encontram-se na última seção para sua conferência."
      ],
      "metadata": {
        "id": "0Pvu6ne4Zg8Q"
      }
    },
    {
      "cell_type": "markdown",
      "source": [
        "####Exemplos apostila"
      ],
      "metadata": {
        "id": "HAxaLcTlZmiL"
      }
    },
    {
      "cell_type": "code",
      "source": [
        "fator1 = 87 * 100 + 82\n",
        "\n",
        "print(str(fator1))"
      ],
      "metadata": {
        "colab": {
          "base_uri": "https://localhost:8080/"
        },
        "id": "5psHSe_eYUEA",
        "outputId": "98f375b1-6241-4931-de68-3388af55409e"
      },
      "execution_count": 67,
      "outputs": [
        {
          "output_type": "stream",
          "name": "stdout",
          "text": [
            "8782\n"
          ]
        }
      ]
    },
    {
      "cell_type": "code",
      "source": [
        "fator2 = fator1 ** 2\n",
        "\n",
        "print(str(fator2))"
      ],
      "metadata": {
        "colab": {
          "base_uri": "https://localhost:8080/"
        },
        "id": "jgPO9O-uYgIw",
        "outputId": "3b5d8ff3-2f9b-4f4f-c819-b66001aec194"
      },
      "execution_count": 68,
      "outputs": [
        {
          "output_type": "stream",
          "name": "stdout",
          "text": [
            "77123524\n"
          ]
        }
      ]
    },
    {
      "cell_type": "code",
      "source": [
        "total = 1\n",
        "total = total + 1\n",
        "\n",
        "print(total)"
      ],
      "metadata": {
        "colab": {
          "base_uri": "https://localhost:8080/"
        },
        "id": "fYo9PKfNYp7j",
        "outputId": "a49b6e40-7f8d-41eb-8515-9e07ddad8278"
      },
      "execution_count": 69,
      "outputs": [
        {
          "output_type": "stream",
          "name": "stdout",
          "text": [
            "2\n"
          ]
        }
      ]
    },
    {
      "cell_type": "markdown",
      "source": [
        "####Variáveis"
      ],
      "metadata": {
        "id": "npP9zVukZpe0"
      }
    },
    {
      "cell_type": "markdown",
      "source": [
        "Para \"guardar\" o resultado de uma expressão é necessário utilizar uma variável. Na 1a. linha da próxima célula, o valor inteiro 15 será armazenado na variável especificada do lado esquerdo do sinal de atribuição: n1. Ao executar a 2a. linha, o conteúdo da variável n1 será exibido."
      ],
      "metadata": {
        "id": "y7-_cEgRZuRs"
      }
    },
    {
      "cell_type": "code",
      "source": [
        "n1 = (10 - 3) * 2 + 4 ** (3 // 8)\n",
        "print(str(n1))"
      ],
      "metadata": {
        "colab": {
          "base_uri": "https://localhost:8080/"
        },
        "id": "vu9AcrrHZ2gc",
        "outputId": "5c12f882-2506-48bc-c1a4-2c590d3ed8fc"
      },
      "execution_count": 70,
      "outputs": [
        {
          "output_type": "stream",
          "name": "stdout",
          "text": [
            "15\n"
          ]
        }
      ]
    },
    {
      "cell_type": "markdown",
      "source": [
        "A partir da criação/inicialização da variável, é possível utilizá-la, por exemplo, em uma expressão. Na célula abaixo, o valor armazenado em n1 será elevado ao quadrado gerando o valor 225. Em seguida, esse valor será armazenado na variável do lado esquerdo do sinal de atribuição (n2). Por último, será impresso o valor armazenado em n2: 225."
      ],
      "metadata": {
        "id": "Scyxea4TZ8RK"
      }
    },
    {
      "cell_type": "code",
      "source": [
        "n1 = (10 - 3) * 2 + 4 ** (3 // 8)\n",
        "n2 = n1 ** 2\n",
        "print(str(n2))"
      ],
      "metadata": {
        "colab": {
          "base_uri": "https://localhost:8080/"
        },
        "id": "y_1H0VpKZ-K7",
        "outputId": "6f5239f3-4167-4869-9dba-9a4725c5e981"
      },
      "execution_count": 71,
      "outputs": [
        {
          "output_type": "stream",
          "name": "stdout",
          "text": [
            "225\n"
          ]
        }
      ]
    },
    {
      "cell_type": "markdown",
      "source": [
        "Na célula acima, após executá-la, experimente clicar em cima do nome da variável n1 e manter o ponteiro do mouse em cima do nome da variável. O ambiente mostrará o valor armazenado em n1 e seu tipo (no caso, int).\n",
        "\n",
        "Uma variável armazena um valor de cada vez. Ou seja, ao armazenar um novo valor, o anterior é perdido. Veja o que acontece ao executar o código na próxima célula. Ao armazenar o valor 7.5 na variável nota, o valor 10.0 é perdido."
      ],
      "metadata": {
        "id": "J2dfNySLaElb"
      }
    },
    {
      "cell_type": "code",
      "source": [
        "nota = 10.0\n",
        "nota = 7.5\n",
        "print(str(nota))"
      ],
      "metadata": {
        "colab": {
          "base_uri": "https://localhost:8080/"
        },
        "id": "CodqJcRnaHDD",
        "outputId": "0d14f901-eee9-4212-c500-95af9ebbd241"
      },
      "execution_count": 72,
      "outputs": [
        {
          "output_type": "stream",
          "name": "stdout",
          "text": [
            "7.5\n"
          ]
        }
      ]
    },
    {
      "cell_type": "markdown",
      "source": [
        "Python é uma linguagem de \"tipagem\" dinâmica, ou seja, o tipo de uma variável não é fixo. Por isso, é possível criar uma variável com determinado valor e depois atribuir à mesma variável um valor de outro tipo. Execute a célula abaixo que demonstra exatamente isso."
      ],
      "metadata": {
        "id": "5juQ6zFxaNCf"
      }
    },
    {
      "cell_type": "code",
      "source": [
        "x = 10.5\n",
        "x = 'Mudou para string!'\n",
        "print(x)"
      ],
      "metadata": {
        "colab": {
          "base_uri": "https://localhost:8080/"
        },
        "id": "Ti4_h0gpaPVr",
        "outputId": "b9093212-da7f-4304-f3fc-6b50dff625a1"
      },
      "execution_count": 73,
      "outputs": [
        {
          "output_type": "stream",
          "name": "stdout",
          "text": [
            "Mudou para string!\n"
          ]
        }
      ]
    },
    {
      "cell_type": "markdown",
      "source": [
        "Agora, vamos provocar alguns erros comuns, principalmente, para iniciantes na programação. Execute as duas próximas células e observe as mensagens de erro exibidas."
      ],
      "metadata": {
        "id": "TRoC9WJpaTfJ"
      }
    },
    {
      "cell_type": "code",
      "source": [
        "#n = a + 5     # a variável a não foi criada/inicializada/definida;\n",
        "#n             # por isso, não é possível calcular o resultado da expressão;\n",
        "               # repare que a variável a já aparece sublinhada indicando erro"
      ],
      "metadata": {
        "id": "TjUiyTUzaVgO"
      },
      "execution_count": 75,
      "outputs": []
    },
    {
      "cell_type": "code",
      "source": [
        "#10 / 0       # não é possível dividir um valor por zero!"
      ],
      "metadata": {
        "id": "wumoYzWFaizZ"
      },
      "execution_count": 77,
      "outputs": []
    },
    {
      "cell_type": "markdown",
      "source": [
        "###Desafio"
      ],
      "metadata": {
        "id": "uAzN4pgwam0h"
      }
    },
    {
      "cell_type": "markdown",
      "source": [
        "Para resolver os desafios propostos, adicione novas células de código e defina as expressões necessárias para calcular os resultados. Depois, confira possíveis soluções na última seção."
      ],
      "metadata": {
        "id": "C7e9hlIyawd6"
      }
    },
    {
      "cell_type": "markdown",
      "source": [
        "#### **DESAFIO 1**\n",
        "\n",
        "Considere um reservatório com as seguintes medidas: 79 m de comprimento, 10 m de largura e 4 m de profundidade. Em quantos minutos uma torneira que despeja 75 litros de água por hora encheria essse reservatório? Sabe-se que um 1 metro cúbico corresponde a 1000 l de água.\n",
        "\n",
        "Importante: armazene o cálculo do volume do reservatório e da vazão por minuto em variáveis; depois, utilize essas duas variáveis no cálculo final.\n"
      ],
      "metadata": {
        "id": "Om-sU63VdR9d"
      }
    },
    {
      "cell_type": "code",
      "source": [
        "comprimento = 79\n",
        "largura = 10\n",
        "profundidade = 4\n",
        "volume = 0\n",
        "\n",
        "volume = comprimento * largura * profundidade\n",
        "\n",
        "print(str(volume) + ' m³')\n",
        "\n",
        "capacidade_volume = 1000\n",
        "capacidade_final = 0\n",
        "\n",
        "capacidade_final = volume * capacidade_volume\n",
        "\n",
        "print(str(capacidade_final) + ' litros de água')\n",
        "\n",
        "litros_agua_hora = 75\n",
        "tempo_enchimento_horas = 0\n",
        "tempo_minutos = 0\n",
        "tempo_dias = 0\n",
        "\n",
        "tempo_enchimento_horas = (capacidade_final / litros_agua_hora)\n",
        "tempo_minutos = tempo_enchimento_horas * 60 #converte de litros/hora para litros/minutos\n",
        "tempo_dias = tempo_enchimento_horas / 24 #converte de litros/hora para litros/dias\n",
        "\n",
        "print(str(round(tempo_enchimento_horas, 2)) + ' horas ou ' + str(tempo_minutos) + ' minutos ou ' + str(round(tempo_dias, 2)) + ' dias')"
      ],
      "metadata": {
        "colab": {
          "base_uri": "https://localhost:8080/"
        },
        "id": "niV6mVZudiQS",
        "outputId": "f3571501-fdab-4c13-d314-ce583d28c45c"
      },
      "execution_count": 80,
      "outputs": [
        {
          "output_type": "stream",
          "name": "stdout",
          "text": [
            "3160 m³\n",
            "3160000 litros de água\n",
            "42133.33 horas ou 2528000.0 minutos ou 1755.56 dias\n"
          ]
        }
      ]
    },
    {
      "cell_type": "markdown",
      "source": [
        "####**DESAFIO 2**\n",
        "\n",
        "A fórmula de Bhaskara abaixo calcula as duas raízes reais de uma equação do 2º grau, uma utilizando o sinal '+' e a outra, o sinal '-'. Calcule as raízes para os coeficientes: a = 1, b = 5 e c = 6. Dica: um valor elevado ao expoente 0.5 é equivalente à raiz quadrada do valor.\n",
        "\n",
        "![image.png](data:image/png;base64,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)\n"
      ],
      "metadata": {
        "id": "8LPLKtWmdbIi"
      }
    },
    {
      "cell_type": "code",
      "source": [
        "import math\n",
        "\n",
        "a = 1\n",
        "b = 5\n",
        "c = 6\n",
        "raiz_delta = 0\n",
        "x1 = 0\n",
        "x2 = 0\n",
        "\n",
        "raiz_delta = math.sqrt(b ** 2 - 4 * a * c)\n",
        "x1 = (-b + raiz_delta) / 2 * a\n",
        "x2 = (-b - raiz_delta) / 2 * a\n",
        "\n",
        "print('x1: ' + str(x1) + '\\nx2: ' + str(x2))"
      ],
      "metadata": {
        "colab": {
          "base_uri": "https://localhost:8080/"
        },
        "id": "26k1I80AeCAz",
        "outputId": "642c845c-4498-4bef-f0b2-471261ef8c65"
      },
      "execution_count": 91,
      "outputs": [
        {
          "output_type": "stream",
          "name": "stdout",
          "text": [
            "x1: -2.0\n",
            "x2: -3.0\n"
          ]
        }
      ]
    }
  ]
}