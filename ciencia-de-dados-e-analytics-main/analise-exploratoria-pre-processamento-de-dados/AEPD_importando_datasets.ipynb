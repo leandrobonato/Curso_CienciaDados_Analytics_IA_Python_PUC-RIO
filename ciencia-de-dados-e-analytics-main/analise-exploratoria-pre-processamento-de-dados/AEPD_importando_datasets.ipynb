{
  "nbformat": 4,
  "nbformat_minor": 0,
  "metadata": {
    "colab": {
      "provenance": [],
      "toc_visible": true,
      "authorship_tag": "ABX9TyNbPEGcfXqG2U2fdTe6j6Na",
      "include_colab_link": true
    },
    "kernelspec": {
      "name": "python3",
      "display_name": "Python 3"
    }
  },
  "cells": [
    {
      "cell_type": "markdown",
      "metadata": {
        "id": "view-in-github",
        "colab_type": "text"
      },
      "source": [
        "<a href=\"https://colab.research.google.com/github/dipucriodigital/ciencia-de-dados-e-analytics/blob/main/analise-exploratoria-pre-processamento-de-dados/AEPD_importando_datasets.ipynb\" target=\"_parent\"><img src=\"https://colab.research.google.com/assets/colab-badge.svg\" alt=\"Open In Colab\"/></a>"
      ]
    },
    {
      "cell_type": "markdown",
      "metadata": {
        "id": "iKWGbqf_MpOV"
      },
      "source": [
        "# Análise Exploratória e Pré-Processamento de Dados\n",
        "## Prof. Tatiana Escovedo\n",
        "\n",
        "## Conteúdo Extra: 4 maneiras de trabalhar com datasets\n",
        "\n",
        "*OBS: Dependendo da forma de importar, o cabeçalho das colunas (nome das características) pode ser diferente.*"
      ]
    },
    {
      "cell_type": "markdown",
      "source": [
        "### 1) Importando dados de uma url para um dataframe\n",
        "\n",
        "*Dica: você pode colocar o arquivo em um repositório seu do github e referenciá-lo na URL com a sua versão raw, por exemplo https://raw.githubusercontent.com/tatianaesc/datascience/main/diabetes.csv*"
      ],
      "metadata": {
        "id": "0PrCzlsa4TS_"
      }
    },
    {
      "cell_type": "code",
      "metadata": {
        "id": "MAlSLjvwuMtW"
      },
      "source": [
        "# 1) Importando dados de uma url para um dataframe\n",
        "\n",
        "# imports necessários\n",
        "import pandas as pd\n",
        "\n",
        "# url a importar\n",
        "url_dados = 'https://archive.ics.uci.edu/ml/machine-learning-databases/iris/iris.data'\n",
        "\n",
        "# labels dos atributos do dataset\n",
        "labels_atributos = ['comprimento_sepala', 'largura_sepala', 'comprimento_petala', 'largura_petala', 'especie']\n",
        "\n",
        "# carga do dataset através do csv\n",
        "iris = pd.read_csv(url_dados, names=labels_atributos)\n",
        "\n",
        "# verifica o tipo de iris\n",
        "print(type(iris))\n",
        "\n",
        "# exibe as 5 primeiras linhas\n",
        "iris.head()"
      ],
      "execution_count": null,
      "outputs": []
    },
    {
      "cell_type": "markdown",
      "source": [
        "### 2) Importando dados de um dataset do scikit-Learn para um dataframe"
      ],
      "metadata": {
        "id": "s7NaIt2R4WE_"
      }
    },
    {
      "cell_type": "code",
      "metadata": {
        "id": "tjaUHWqvufYZ"
      },
      "source": [
        "# 2) Importando dados de um dataset do scikit-Learn para um dataframe\n",
        "# https://scikit-learn.org/stable/datasets/toy_dataset.html\n",
        "\n",
        "# imports necessários\n",
        "import pandas as pd\n",
        "from sklearn import datasets\n",
        "\n",
        "# carga do dataset através do scikit-learn\n",
        "iris = datasets.load_iris()\n",
        "\n",
        "# verifica o tipo de iris\n",
        "print(type(iris))"
      ],
      "execution_count": null,
      "outputs": []
    },
    {
      "cell_type": "code",
      "source": [
        "# conversão para dataframe\n",
        "iris_df = pd.DataFrame(iris.data, columns=iris.feature_names)\n",
        "\n",
        "# adição da coluna target\n",
        "iris_df['target'] = iris.target\n",
        "\n",
        "# verifica o tipo de iris_df\n",
        "print(type(iris_df))\n",
        "\n",
        "# exibe as 5 primeiras linhas\n",
        "iris_df.head()"
      ],
      "metadata": {
        "id": "_1DCniFGSuhm"
      },
      "execution_count": null,
      "outputs": []
    },
    {
      "cell_type": "markdown",
      "source": [
        "### 3) Importando dados de um arquivo .csv local"
      ],
      "metadata": {
        "id": "b46w6CpZ4X-_"
      }
    },
    {
      "cell_type": "code",
      "metadata": {
        "id": "71VnANHlxMLM"
      },
      "source": [
        "# 3) Importando dados de um arquivo .csv local\n",
        "\n",
        "# imports necessários\n",
        "import pandas as pd\n",
        "\n",
        "# carga do dataset através de um arquivo\n",
        "filename = \"iris.csv\" # este arquivo deve estar dentro da aba \"Arquivos\" do Colab\n",
        "iris = pd.read_csv(filename) # se o cabeçalho estiver sendo importado como dados, use o parâmetro skiprows = 1 na função read_csv\n",
        "\n",
        "# verifica o tipo de iris\n",
        "print(type(iris))\n",
        "\n",
        "# exibe as 5 primeiras linhas\n",
        "iris.head()\n"
      ],
      "execution_count": null,
      "outputs": []
    },
    {
      "cell_type": "markdown",
      "source": [
        "### 4) Importando dados de um arquivo .csv no Google Drive"
      ],
      "metadata": {
        "id": "CbUI5wrR4Zde"
      }
    },
    {
      "cell_type": "code",
      "metadata": {
        "id": "JVCQccSLz0Ad"
      },
      "source": [
        "# 4) Importando dados de um arquivo .csv no Google Drive\n",
        "\n",
        "# imports necessários\n",
        "import pandas as pd\n",
        "from google.colab import drive\n",
        "\n",
        "# monta o drive\n",
        "drive.mount(\"/content/drive\") # neste momento irá aparecer um link do seu GoogleDrive para você clicar e copiar um código de acesso OU apenas um popup de autorização"
      ],
      "execution_count": null,
      "outputs": []
    },
    {
      "cell_type": "code",
      "source": [
        "# carga do dataset através de um arquivo\n",
        "iris = pd.read_csv(\"drive/MyDrive/datasets/iris.csv\") # este arquivo deve estar dentro da pasta \"datasets\" do seu GoogleDrive\n",
        "\n",
        "# verifica o tipo de iris\n",
        "print(type(iris))\n",
        "\n",
        "# exibe as 5 primeiras linhas\n",
        "iris.head()"
      ],
      "metadata": {
        "id": "AO264Bqd4QpM"
      },
      "execution_count": null,
      "outputs": []
    }
  ]
}
