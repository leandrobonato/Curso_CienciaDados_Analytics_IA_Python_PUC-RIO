{
  "nbformat": 4,
  "nbformat_minor": 0,
  "metadata": {
    "colab": {
      "provenance": [],
      "toc_visible": true,
      "authorship_tag": "ABX9TyNTER2vYNo4MvNpUwh9OwZL",
      "include_colab_link": true
    },
    "kernelspec": {
      "name": "python3",
      "display_name": "Python 3"
    },
    "language_info": {
      "name": "python"
    }
  },
  "cells": [
    {
      "cell_type": "markdown",
      "metadata": {
        "id": "view-in-github",
        "colab_type": "text"
      },
      "source": [
        "<a href=\"https://colab.research.google.com/github/leandrobonato/Curso_CienciaDados_Analytics_IA_Python_PUC-RIO/blob/main/Exemplos.ipynb\" target=\"_parent\"><img src=\"https://colab.research.google.com/assets/colab-badge.svg\" alt=\"Open In Colab\"/></a>"
      ]
    },
    {
      "cell_type": "markdown",
      "source": [
        "##Biblioteca NumPy"
      ],
      "metadata": {
        "id": "t2U5rhQ9UoSp"
      }
    },
    {
      "cell_type": "code",
      "execution_count": null,
      "metadata": {
        "colab": {
          "base_uri": "https://localhost:8080/"
        },
        "id": "JncgebJuT_m_",
        "outputId": "961ea397-354d-4972-9de4-cfbd218c480b"
      },
      "outputs": [
        {
          "output_type": "stream",
          "name": "stdout",
          "text": [
            "[ 2  4  6  8 10]\n"
          ]
        }
      ],
      "source": [
        "\n",
        "import numpy as np\n",
        "\n",
        "meu_array = np.array([1, 2, 3, 4, 5])\n",
        "meu_array = meu_array * 2\n",
        "print(meu_array)"
      ]
    },
    {
      "cell_type": "markdown",
      "source": [
        "#Exemplo de funções"
      ],
      "metadata": {
        "id": "g5Xj3n5-EthE"
      }
    },
    {
      "cell_type": "code",
      "source": [
        "#Bloco de funções\n",
        "def validaMatricula(matricula):\n",
        "  tam = len(matricula)\n",
        "  if tam != 6:\n",
        "      return False\n",
        "  ano = int(matricula[:2])\n",
        "  semestre = matricula[2]\n",
        "  if tam != 6 or ano < 10 or ano > 25 or semestre not in '12':\n",
        "      return False\n",
        "  return True\n",
        "\n",
        "def retornarMatricula():\n",
        "  matricula = str(input('Digite a matrícula: '))\n",
        "  if not matricula.isdigit():\n",
        "    return ' '\n",
        "  return matricula\n",
        "\n",
        "#Bloco principal\n",
        "while not validaMatricula(retornarMatricula()):\n",
        "  print('Matrícula inválida')\n",
        "\n",
        "print('Vou processar...')"
      ],
      "metadata": {
        "colab": {
          "base_uri": "https://localhost:8080/"
        },
        "id": "f8x3pUZ_Esqq",
        "outputId": "edc5f2e1-f177-42bc-c7e8-909381dec428"
      },
      "execution_count": null,
      "outputs": [
        {
          "output_type": "stream",
          "name": "stdout",
          "text": [
            "Digite a matrícula: \n",
            "Matrícula inválida\n",
            "Digite a matrícula: asass\n",
            "Matrícula inválida\n",
            "Digite a matrícula: 1231223\n",
            "Matrícula inválida\n",
            "Digite a matrícula: 1231212\n",
            "Matrícula inválida\n",
            "Digite a matrícula: 1231323\n",
            "Matrícula inválida\n",
            "Digite a matrícula: 122332\n",
            "Vou processar...\n"
          ]
        }
      ]
    }
  ]
}