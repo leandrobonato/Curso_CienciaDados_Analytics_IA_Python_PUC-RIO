{
  "nbformat": 4,
  "nbformat_minor": 0,
  "metadata": {
    "colab": {
      "provenance": [],
      "toc_visible": true,
      "authorship_tag": "ABX9TyMpmt/wNo5E+XH1UqDB0vH0",
      "include_colab_link": true
    },
    "kernelspec": {
      "name": "python3",
      "display_name": "Python 3"
    },
    "language_info": {
      "name": "python"
    }
  },
  "cells": [
    {
      "cell_type": "markdown",
      "metadata": {
        "id": "view-in-github",
        "colab_type": "text"
      },
      "source": [
        "<a href=\"https://colab.research.google.com/github/leandrobonato/Curso_CienciaDados_Analytics_IA_Python_PUC-RIO/blob/main/Exemplos.ipynb\" target=\"_parent\"><img src=\"https://colab.research.google.com/assets/colab-badge.svg\" alt=\"Open In Colab\"/></a>"
      ]
    },
    {
      "cell_type": "markdown",
      "source": [
        "##Biblioteca NumPy"
      ],
      "metadata": {
        "id": "t2U5rhQ9UoSp"
      }
    },
    {
      "cell_type": "code",
      "execution_count": 5,
      "metadata": {
        "colab": {
          "base_uri": "https://localhost:8080/"
        },
        "id": "JncgebJuT_m_",
        "outputId": "961ea397-354d-4972-9de4-cfbd218c480b"
      },
      "outputs": [
        {
          "output_type": "stream",
          "name": "stdout",
          "text": [
            "[ 2  4  6  8 10]\n"
          ]
        }
      ],
      "source": [
        "\n",
        "import numpy as np\n",
        "\n",
        "meu_array = np.array([1, 2, 3, 4, 5])\n",
        "meu_array = meu_array * 2\n",
        "print(meu_array)"
      ]
    }
  ]
}