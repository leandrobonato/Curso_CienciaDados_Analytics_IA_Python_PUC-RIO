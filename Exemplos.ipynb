{
  "nbformat": 4,
  "nbformat_minor": 0,
  "metadata": {
    "colab": {
      "provenance": [],
      "toc_visible": true,
      "authorship_tag": "ABX9TyOp5MVBG8SnvY74T5PhuzlC",
      "include_colab_link": true
    },
    "kernelspec": {
      "name": "python3",
      "display_name": "Python 3"
    },
    "language_info": {
      "name": "python"
    }
  },
  "cells": [
    {
      "cell_type": "markdown",
      "metadata": {
        "id": "view-in-github",
        "colab_type": "text"
      },
      "source": [
        "<a href=\"https://colab.research.google.com/github/leandrobonato/Curso_CienciaDados_Analytics_IA_Python_PUC-RIO/blob/main/Exemplos.ipynb\" target=\"_parent\"><img src=\"https://colab.research.google.com/assets/colab-badge.svg\" alt=\"Open In Colab\"/></a>"
      ]
    },
    {
      "cell_type": "markdown",
      "source": [
        "##Biblioteca NumPy"
      ],
      "metadata": {
        "id": "t2U5rhQ9UoSp"
      }
    },
    {
      "cell_type": "code",
      "execution_count": null,
      "metadata": {
        "colab": {
          "base_uri": "https://localhost:8080/"
        },
        "id": "JncgebJuT_m_",
        "outputId": "961ea397-354d-4972-9de4-cfbd218c480b"
      },
      "outputs": [
        {
          "output_type": "stream",
          "name": "stdout",
          "text": [
            "[ 2  4  6  8 10]\n"
          ]
        }
      ],
      "source": [
        "\n",
        "import numpy as np\n",
        "\n",
        "meu_array = np.array([1, 2, 3, 4, 5])\n",
        "meu_array = meu_array * 2\n",
        "print(meu_array)"
      ]
    },
    {
      "cell_type": "markdown",
      "source": [
        "#Exemplo de funções"
      ],
      "metadata": {
        "id": "g5Xj3n5-EthE"
      }
    },
    {
      "cell_type": "code",
      "source": [
        "#Bloco de funções\n",
        "def validaMatricula(matricula):\n",
        "  tam = len(matricula)\n",
        "  if tam != 6:\n",
        "      return False\n",
        "  ano = int(matricula[:2])\n",
        "  semestre = matricula[2]\n",
        "  if tam != 6 or ano < 10 or ano > 25 or semestre not in '12':\n",
        "      return False\n",
        "  return True\n",
        "\n",
        "def retornarMatricula():\n",
        "  matricula = str(input('Digite a matrícula: '))\n",
        "  if not matricula.isdigit():\n",
        "    return ' '\n",
        "  return matricula\n",
        "\n",
        "#Bloco principal\n",
        "while not validaMatricula(retornarMatricula()):\n",
        "  print('Matrícula inválida')\n",
        "\n",
        "print('Vou processar...')"
      ],
      "metadata": {
        "colab": {
          "base_uri": "https://localhost:8080/"
        },
        "id": "f8x3pUZ_Esqq",
        "outputId": "edc5f2e1-f177-42bc-c7e8-909381dec428"
      },
      "execution_count": null,
      "outputs": [
        {
          "output_type": "stream",
          "name": "stdout",
          "text": [
            "Digite a matrícula: \n",
            "Matrícula inválida\n",
            "Digite a matrícula: asass\n",
            "Matrícula inválida\n",
            "Digite a matrícula: 1231223\n",
            "Matrícula inválida\n",
            "Digite a matrícula: 1231212\n",
            "Matrícula inválida\n",
            "Digite a matrícula: 1231323\n",
            "Matrícula inválida\n",
            "Digite a matrícula: 122332\n",
            "Vou processar...\n"
          ]
        }
      ]
    },
    {
      "cell_type": "markdown",
      "source": [
        "#Exemplo quebra de linha no código"
      ],
      "metadata": {
        "id": "6_bkOzoNoSZ9"
      }
    },
    {
      "cell_type": "code",
      "source": [
        "def calculoMedia(n1, n2):\n",
        "  return 0\n",
        "\n",
        "media = calculoMedia(\n",
        "  float(input('Insira a nota 1: ')),\n",
        "  float(input('Insira a nota 2: '))\n",
        ")"
      ],
      "metadata": {
        "colab": {
          "base_uri": "https://localhost:8080/"
        },
        "id": "g7ygVmrUoU7x",
        "outputId": "e9a64284-1fe0-4910-fbb9-c3733c39476e"
      },
      "execution_count": null,
      "outputs": [
        {
          "name": "stdout",
          "output_type": "stream",
          "text": [
            "Insira a nota 1: 12\n",
            "Insira a nota 2: 12\n"
          ]
        }
      ]
    },
    {
      "cell_type": "markdown",
      "source": [
        "#Exemplo de listas"
      ],
      "metadata": {
        "id": "-UvVfSV-KZPI"
      }
    },
    {
      "cell_type": "code",
      "source": [
        "def alteraListaV1(a1):\n",
        "  for e1 in a1:\n",
        "    e1 = e1 * 2\n",
        "  return\n",
        "\n",
        "#Teste\n",
        "lNumeros = [2,2,1,8,8,3,6,9]\n",
        "alteraListaV1(lNumeros)\n",
        "print(lNumeros)"
      ],
      "metadata": {
        "id": "RGRKTB30Kcus"
      },
      "execution_count": null,
      "outputs": []
    },
    {
      "cell_type": "markdown",
      "source": [
        "#Exemplos calculos de médias e correções efetuadas pelo professor\n"
      ],
      "metadata": {
        "id": "zCUS3P97mmCc"
      }
    },
    {
      "cell_type": "code",
      "source": [
        "#Funções\n",
        "def calculaMedia(x1, x2, p1, p2):\n",
        "  return (x1 * p1 + x2 * p2) / (p1 + p2)\n",
        "\n",
        "def exibeMedias(m1, m2, m3):\n",
        "    print(f'\\nMédia dos testes: {m1:.2f}')\n",
        "    print(f'Média das provas: {m2:.2f}')\n",
        "    print(f'Média da disciplina: {m3:.2f}')\n",
        "    if m3 >= 7:\n",
        "      print('\\nStatus: Aprovado')\n",
        "    elif m3 <= 3:\n",
        "      print('\\nStatus: Reprovado')\n",
        "    else: print('\\nStatus: Em prova final')\n",
        "\n",
        "#Bloco principal\n",
        "#Leitura das notas e dos pesos\n",
        "peso1 = float(input('Peso da nota 1 = '))\n",
        "peso2 = float(input('Peso da nota 2 = '))\n",
        "contador = 1\n",
        "somaDasMedias = 0\n",
        "reprovados = 0\n",
        "somaDasMediasR = 0\n",
        "while contador <= 2:\n",
        "  input('\\nAluno: ')\n",
        "  teste1 = float(input('\\nNota do teste 1 = '))\n",
        "  teste2 = float(input('Nota do teste 2 = '))\n",
        "  prova1 = float(input('Nota da prova 1 = '))\n",
        "  prova2 = float(input('Nota da prova 2 = '))\n",
        "\n",
        "  #Cálculo das médias\n",
        "  mediaDosTestes = calculaMedia(teste1, teste2, peso1, peso2)\n",
        "  mediaDasProvas = calculaMedia(prova1, prova2, peso1, peso2)\n",
        "  mediaDisciplina = (mediaDosTestes * peso1 + mediaDasProvas * peso2) / (peso1 + peso2)\n",
        "\n",
        "  #Exibição de resultado\n",
        "  medias = exibeMedias(mediaDosTestes, mediaDasProvas, mediaDisciplina)\n",
        "  somaDasMedias = somaDasMedias + mediaDisciplina\n",
        "  if mediaDisciplina < 3:\n",
        "    reprovados = reprovados + 1\n",
        "    somaDasMediasR = somaDasMediasR + mediaDisciplina\n",
        "    mediaDosReprovados = somaDasMediasR / reprovados\n",
        "  contador = contador + 1\n",
        "if reprovados != 0:\n",
        "    print(f'A média dos reprovados é: {mediaDosReprovados:.2f}')\n",
        "else: print('Não há reprovados')\n",
        "\n",
        "mediaDosAlunos = somaDasMedias / (contador - 1)\n",
        "print(f'\\nA média dos alunos é: {mediaDosAlunos:.2f}')"
      ],
      "metadata": {
        "colab": {
          "base_uri": "https://localhost:8080/",
          "height": 356
        },
        "id": "x-aRGZJ7mwhO",
        "outputId": "7f1954a0-61e4-42aa-88b5-e8434a732827"
      },
      "execution_count": null,
      "outputs": [
        {
          "output_type": "error",
          "ename": "KeyboardInterrupt",
          "evalue": "Interrupted by user",
          "traceback": [
            "\u001b[0;31m---------------------------------------------------------------------------\u001b[0m",
            "\u001b[0;31mKeyboardInterrupt\u001b[0m                         Traceback (most recent call last)",
            "\u001b[0;32m/tmp/ipython-input-2669010215.py\u001b[0m in \u001b[0;36m<cell line: 0>\u001b[0;34m()\u001b[0m\n\u001b[1;32m     14\u001b[0m \u001b[0;31m#Bloco principal\u001b[0m\u001b[0;34m\u001b[0m\u001b[0;34m\u001b[0m\u001b[0m\n\u001b[1;32m     15\u001b[0m \u001b[0;31m#Leitura das notas e dos pesos\u001b[0m\u001b[0;34m\u001b[0m\u001b[0;34m\u001b[0m\u001b[0m\n\u001b[0;32m---> 16\u001b[0;31m \u001b[0mpeso1\u001b[0m \u001b[0;34m=\u001b[0m \u001b[0mfloat\u001b[0m\u001b[0;34m(\u001b[0m\u001b[0minput\u001b[0m\u001b[0;34m(\u001b[0m\u001b[0;34m'Peso da nota 1 = '\u001b[0m\u001b[0;34m)\u001b[0m\u001b[0;34m)\u001b[0m\u001b[0;34m\u001b[0m\u001b[0;34m\u001b[0m\u001b[0m\n\u001b[0m\u001b[1;32m     17\u001b[0m \u001b[0mpeso2\u001b[0m \u001b[0;34m=\u001b[0m \u001b[0mfloat\u001b[0m\u001b[0;34m(\u001b[0m\u001b[0minput\u001b[0m\u001b[0;34m(\u001b[0m\u001b[0;34m'Peso da nota 2 = '\u001b[0m\u001b[0;34m)\u001b[0m\u001b[0;34m)\u001b[0m\u001b[0;34m\u001b[0m\u001b[0;34m\u001b[0m\u001b[0m\n\u001b[1;32m     18\u001b[0m \u001b[0mcontador\u001b[0m \u001b[0;34m=\u001b[0m \u001b[0;36m1\u001b[0m\u001b[0;34m\u001b[0m\u001b[0;34m\u001b[0m\u001b[0m\n",
            "\u001b[0;32m/usr/local/lib/python3.11/dist-packages/ipykernel/kernelbase.py\u001b[0m in \u001b[0;36mraw_input\u001b[0;34m(self, prompt)\u001b[0m\n\u001b[1;32m   1175\u001b[0m                 \u001b[0;34m\"raw_input was called, but this frontend does not support input requests.\"\u001b[0m\u001b[0;34m\u001b[0m\u001b[0;34m\u001b[0m\u001b[0m\n\u001b[1;32m   1176\u001b[0m             )\n\u001b[0;32m-> 1177\u001b[0;31m         return self._input_request(\n\u001b[0m\u001b[1;32m   1178\u001b[0m             \u001b[0mstr\u001b[0m\u001b[0;34m(\u001b[0m\u001b[0mprompt\u001b[0m\u001b[0;34m)\u001b[0m\u001b[0;34m,\u001b[0m\u001b[0;34m\u001b[0m\u001b[0;34m\u001b[0m\u001b[0m\n\u001b[1;32m   1179\u001b[0m             \u001b[0mself\u001b[0m\u001b[0;34m.\u001b[0m\u001b[0m_parent_ident\u001b[0m\u001b[0;34m[\u001b[0m\u001b[0;34m\"shell\"\u001b[0m\u001b[0;34m]\u001b[0m\u001b[0;34m,\u001b[0m\u001b[0;34m\u001b[0m\u001b[0;34m\u001b[0m\u001b[0m\n",
            "\u001b[0;32m/usr/local/lib/python3.11/dist-packages/ipykernel/kernelbase.py\u001b[0m in \u001b[0;36m_input_request\u001b[0;34m(self, prompt, ident, parent, password)\u001b[0m\n\u001b[1;32m   1217\u001b[0m             \u001b[0;32mexcept\u001b[0m \u001b[0mKeyboardInterrupt\u001b[0m\u001b[0;34m:\u001b[0m\u001b[0;34m\u001b[0m\u001b[0;34m\u001b[0m\u001b[0m\n\u001b[1;32m   1218\u001b[0m                 \u001b[0;31m# re-raise KeyboardInterrupt, to truncate traceback\u001b[0m\u001b[0;34m\u001b[0m\u001b[0;34m\u001b[0m\u001b[0m\n\u001b[0;32m-> 1219\u001b[0;31m                 \u001b[0;32mraise\u001b[0m \u001b[0mKeyboardInterrupt\u001b[0m\u001b[0;34m(\u001b[0m\u001b[0;34m\"Interrupted by user\"\u001b[0m\u001b[0;34m)\u001b[0m \u001b[0;32mfrom\u001b[0m \u001b[0;32mNone\u001b[0m\u001b[0;34m\u001b[0m\u001b[0;34m\u001b[0m\u001b[0m\n\u001b[0m\u001b[1;32m   1220\u001b[0m             \u001b[0;32mexcept\u001b[0m \u001b[0mException\u001b[0m\u001b[0;34m:\u001b[0m\u001b[0;34m\u001b[0m\u001b[0;34m\u001b[0m\u001b[0m\n\u001b[1;32m   1221\u001b[0m                 \u001b[0mself\u001b[0m\u001b[0;34m.\u001b[0m\u001b[0mlog\u001b[0m\u001b[0;34m.\u001b[0m\u001b[0mwarning\u001b[0m\u001b[0;34m(\u001b[0m\u001b[0;34m\"Invalid Message:\"\u001b[0m\u001b[0;34m,\u001b[0m \u001b[0mexc_info\u001b[0m\u001b[0;34m=\u001b[0m\u001b[0;32mTrue\u001b[0m\u001b[0;34m)\u001b[0m\u001b[0;34m\u001b[0m\u001b[0;34m\u001b[0m\u001b[0m\n",
            "\u001b[0;31mKeyboardInterrupt\u001b[0m: Interrupted by user"
          ]
        }
      ]
    }
  ]
}