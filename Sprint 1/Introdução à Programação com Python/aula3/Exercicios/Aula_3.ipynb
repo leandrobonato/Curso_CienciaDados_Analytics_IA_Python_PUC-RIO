{
  "nbformat": 4,
  "nbformat_minor": 0,
  "metadata": {
    "colab": {
      "provenance": [],
      "toc_visible": true,
      "authorship_tag": "ABX9TyM+3JlBghieGQiHJ2aUVRga",
      "include_colab_link": true
    },
    "kernelspec": {
      "name": "python3",
      "display_name": "Python 3"
    },
    "language_info": {
      "name": "python"
    }
  },
  "cells": [
    {
      "cell_type": "markdown",
      "metadata": {
        "id": "view-in-github",
        "colab_type": "text"
      },
      "source": [
        "<a href=\"https://colab.research.google.com/github/leandrobonato/Curso_CienciaDados_Analytics_IA_Python_PUC-RIO/blob/main/Sprint%201/Introdu%C3%A7%C3%A3o%20%C3%A0%20Programa%C3%A7%C3%A3o%20com%20Python/aula3/Exercicios/Aula_3.ipynb\" target=\"_parent\"><img src=\"https://colab.research.google.com/assets/colab-badge.svg\" alt=\"Open In Colab\"/></a>"
      ]
    },
    {
      "cell_type": "markdown",
      "source": [
        "#Aula 3"
      ],
      "metadata": {
        "id": "DmY9onf-WAU8"
      }
    },
    {
      "cell_type": "markdown",
      "source": [
        "##Strings"
      ],
      "metadata": {
        "id": "9VgXBwFpWGce"
      }
    },
    {
      "cell_type": "markdown",
      "source": [
        "###Exemplos"
      ],
      "metadata": {
        "id": "nJy4sVfnWCcM"
      }
    },
    {
      "cell_type": "code",
      "execution_count": 1,
      "metadata": {
        "colab": {
          "base_uri": "https://localhost:8080/"
        },
        "id": "J1DZy9RWUyYM",
        "outputId": "aa04f20c-6c80-4bfe-b790-33d5dc9a7a5a"
      },
      "outputs": [
        {
          "output_type": "stream",
          "name": "stdout",
          "text": [
            "p h n h\n"
          ]
        }
      ],
      "source": [
        "s = 'python'\n",
        "print(s[0], s[3], s[-1], s[len(s) // 2])"
      ]
    },
    {
      "cell_type": "code",
      "source": [
        "s = 'Hello World!'\n",
        "print(s[0:5:1])\n",
        "print(s[0:5])\n",
        "print(s[:5])\n",
        "print(s[:5:2])\n",
        "print(s[6:12])\n",
        "print(s[6:])\n",
        "print(s[::3])"
      ],
      "metadata": {
        "colab": {
          "base_uri": "https://localhost:8080/"
        },
        "id": "eVjRTCAPWaSr",
        "outputId": "cadff4cb-1bd9-4eb1-92ca-2e0bf49770d8"
      },
      "execution_count": 7,
      "outputs": [
        {
          "output_type": "stream",
          "name": "stdout",
          "text": [
            "Hello\n",
            "Hello\n",
            "Hello\n",
            "Hlo\n",
            "World!\n",
            "World!\n",
            "HlWl\n"
          ]
        }
      ]
    },
    {
      "cell_type": "code",
      "source": [
        "print(s[-1:-5:-1])\n",
        "print(s[-1:-5])\n",
        "print(s[-6:-1])\n",
        "print(s[-1::-1])\n",
        "print(s[::-1])"
      ],
      "metadata": {
        "colab": {
          "base_uri": "https://localhost:8080/"
        },
        "id": "VTsvTBTwW4Sw",
        "outputId": "2c90be5c-880a-45c1-a676-e039ee81b74f"
      },
      "execution_count": 8,
      "outputs": [
        {
          "output_type": "stream",
          "name": "stdout",
          "text": [
            "!dlr\n",
            "\n",
            "World\n",
            "!dlroW olleH\n",
            "!dlroW olleH\n"
          ]
        }
      ]
    },
    {
      "cell_type": "code",
      "source": [
        "#substituir o último caractere\n",
        "print(s[:11] + '.')\n",
        "print(s[:len(s) - 1] + '.')\n",
        "print(s[:-1] + '.')\n"
      ],
      "metadata": {
        "colab": {
          "base_uri": "https://localhost:8080/"
        },
        "id": "q2uSw0clXIw6",
        "outputId": "aaf29f9d-cdd2-4bc5-aa08-e1f491d6c177"
      },
      "execution_count": 5,
      "outputs": [
        {
          "output_type": "stream",
          "name": "stdout",
          "text": [
            "Hello World.\n",
            "Hello World.\n",
            "Hello World.\n"
          ]
        }
      ]
    },
    {
      "cell_type": "code",
      "source": [
        "##operador de pertinência\n",
        "s = 'Hello World!'\n",
        "print('a' in s)\n",
        "print('a' not in s)\n",
        "print('!' in s)"
      ],
      "metadata": {
        "colab": {
          "base_uri": "https://localhost:8080/"
        },
        "id": "m_ztXvSVXmHE",
        "outputId": "bf0ea34d-fa47-4b61-ad3c-a7008299d7fe"
      },
      "execution_count": 6,
      "outputs": [
        {
          "output_type": "stream",
          "name": "stdout",
          "text": [
            "False\n",
            "True\n",
            "True\n"
          ]
        }
      ]
    },
    {
      "cell_type": "code",
      "source": [
        "#Métodos de String\n",
        "print(s.upper())\n",
        "print(s.lower())\n",
        "print(s.count('!'))\n",
        "s = '16/02/1991'\n",
        "print(s.split('/'))\n",
        "print(s.find('1'))\n",
        "print(s.index('2'))\n",
        "print(s.replace('91', 'XX'))\n"
      ],
      "metadata": {
        "colab": {
          "base_uri": "https://localhost:8080/"
        },
        "id": "Ks6V8YQNXzj3",
        "outputId": "8d9e8a88-2156-4351-e735-abdf59ca2d74"
      },
      "execution_count": 10,
      "outputs": [
        {
          "output_type": "stream",
          "name": "stdout",
          "text": [
            "16/02/1991\n",
            "16/02/1991\n",
            "0\n",
            "['16', '02', '1991']\n",
            "0\n",
            "4\n",
            "16/02/19XX\n"
          ]
        }
      ]
    },
    {
      "cell_type": "code",
      "source": [
        "##Estrutura de iteração for\n",
        "def imprimeStr(s):\n",
        "  indice = 0\n",
        "  limite = len(s)\n",
        "  while indice < limite:\n",
        "    print(s[indice])\n",
        "    indice += 1\n",
        "  return\n",
        "\n",
        "imprimeStr('ab!')"
      ],
      "metadata": {
        "colab": {
          "base_uri": "https://localhost:8080/"
        },
        "id": "7LYviZ_VYtVr",
        "outputId": "9a334340-ff1f-47af-8937-f117af33ac32"
      },
      "execution_count": 12,
      "outputs": [
        {
          "output_type": "stream",
          "name": "stdout",
          "text": [
            "a\n",
            "b\n",
            "!\n"
          ]
        }
      ]
    },
    {
      "cell_type": "code",
      "source": [
        "def imprimeStr(s):\n",
        "  limite = len(s)\n",
        "  for indice in range(limite):\n",
        "    print(s[indice])\n",
        "  return\n",
        "\n",
        "imprimeStr('ab!')"
      ],
      "metadata": {
        "colab": {
          "base_uri": "https://localhost:8080/"
        },
        "id": "FLMoK3BdZCzr",
        "outputId": "dc9a6ed2-0daf-43fd-e830-b38a750b4cca"
      },
      "execution_count": 13,
      "outputs": [
        {
          "output_type": "stream",
          "name": "stdout",
          "text": [
            "a\n",
            "b\n",
            "!\n"
          ]
        }
      ]
    },
    {
      "cell_type": "code",
      "source": [
        "def imprimeStr(s):\n",
        "  for c in s:\n",
        "    print(c)\n",
        "  return\n",
        "\n",
        "imprimeStr('ab!')"
      ],
      "metadata": {
        "colab": {
          "base_uri": "https://localhost:8080/"
        },
        "id": "APlqB1U9ZSZm",
        "outputId": "000ae127-5989-43e2-c090-3b190fbc6923"
      },
      "execution_count": 14,
      "outputs": [
        {
          "output_type": "stream",
          "name": "stdout",
          "text": [
            "a\n",
            "b\n",
            "!\n"
          ]
        }
      ]
    },
    {
      "cell_type": "code",
      "source": [
        "def desafio(s):\n",
        "  for c in reversed(s):\n",
        "    print(c)\n",
        "  return\n",
        "\n",
        "desafio('ab!')"
      ],
      "metadata": {
        "colab": {
          "base_uri": "https://localhost:8080/"
        },
        "id": "RPCojCVyZefq",
        "outputId": "bae821ed-07d7-4774-e3de-9f2b4fae4d59"
      },
      "execution_count": 15,
      "outputs": [
        {
          "output_type": "stream",
          "name": "stdout",
          "text": [
            "!\n",
            "b\n",
            "a\n"
          ]
        }
      ]
    },
    {
      "cell_type": "code",
      "source": [
        "s = 'ab!'\n",
        "for indice, c in enumerate(s):\n",
        "  print(s[indice], c, indice)"
      ],
      "metadata": {
        "colab": {
          "base_uri": "https://localhost:8080/"
        },
        "id": "0aViIws9ZncG",
        "outputId": "48cfd086-7630-4897-ffe9-c7ff1cb11cb5"
      },
      "execution_count": 17,
      "outputs": [
        {
          "output_type": "stream",
          "name": "stdout",
          "text": [
            "a a 0\n",
            "b b 1\n",
            "! ! 2\n"
          ]
        }
      ]
    },
    {
      "cell_type": "markdown",
      "source": [
        "###Desafios"
      ],
      "metadata": {
        "id": "CjnX0KwaZ71z"
      }
    },
    {
      "cell_type": "markdown",
      "source": [
        "####DESAFIO 1\n",
        "\n",
        "Escreva um programa que leia duas strings e exiba a concatenação da primeira string com o inverso da segunda, desprezando o primeiro caractere de cada uma delas (após a inversão). Se, por exemplo, o usuário digitar as strings '06/11/1921' e '16/05/2024', o programa deverá exibir a string '6/11/1921202/50/61'.\n"
      ],
      "metadata": {
        "id": "UYK_xKa_Z_4u"
      }
    },
    {
      "cell_type": "code",
      "source": [
        "def inverterStr(s):\n",
        "  novaStr = ''\n",
        "  for c in reversed(s):\n",
        "    novaStr = novaStr + c\n",
        "  return novaStr\n",
        "\n",
        "s1 = input('Digite a string 1: ')\n",
        "s2 = input('Digite a string 2: ')\n",
        "\n",
        "\n",
        "s2 = inverterStr(s2)\n",
        "s1 = s1[1:len(s1)]\n",
        "s2 = s2[1:len(s2)]\n",
        "\n",
        "print(s1 + s2)"
      ],
      "metadata": {
        "colab": {
          "base_uri": "https://localhost:8080/"
        },
        "id": "hsBUAc9KaCvO",
        "outputId": "9f3fe38f-61e8-42f5-9a84-38ef14a86d55"
      },
      "execution_count": 27,
      "outputs": [
        {
          "output_type": "stream",
          "name": "stdout",
          "text": [
            "Digite a string 1: 06/11/1921\n",
            "Digite a string 2: 16/05/2024\n",
            "6/11/1921202/50/61\n"
          ]
        }
      ]
    },
    {
      "cell_type": "markdown",
      "source": [
        "####DESAFIO 2\n",
        "\n",
        "Escreva uma função chamada **alteraFormatoData** que receba uma string de 10 caracteres representando uma data no formato '*dd/mm/aaaa*' e retorne uma string no formato '*aaaammdd*'.\n",
        "\n",
        "Escreva um programa para realizar dois testes da sua função com os valores '06/11/1921' e '16/05/2024'."
      ],
      "metadata": {
        "id": "XLxmG6AjaDCU"
      }
    },
    {
      "cell_type": "code",
      "source": [
        "def alteraFormatoData(data):\n",
        "  dataLista = data.split('/')\n",
        "  novaData = ''\n",
        "  for i in reversed(dataLista):\n",
        "    novaData = novaData + i\n",
        "  return novaData\n",
        "\n",
        "print(alteraFormatoData('06/11/1921'))\n",
        "print(alteraFormatoData('16/02/1991'))\n",
        "print(alteraFormatoData('16/05/2024'))"
      ],
      "metadata": {
        "colab": {
          "base_uri": "https://localhost:8080/"
        },
        "id": "F-k9w7IhaH3n",
        "outputId": "ba2e1706-50c5-4fb1-fe5b-30c8662024a7"
      },
      "execution_count": 34,
      "outputs": [
        {
          "output_type": "stream",
          "name": "stdout",
          "text": [
            "19211106\n",
            "19910216\n",
            "20240516\n"
          ]
        }
      ]
    },
    {
      "cell_type": "markdown",
      "source": [
        "####DESAFIO 3\n",
        "\n",
        "Escreva um programa que leia o nome completo de uma pessoa, onde as partes do nome são separadas por um e apenas um branco e exiba o nome conforme exemplo abaixo:\n",
        "\n",
        "* se o nome lido for Minnie Mouse da Disney, o programa deverá exibir Mouse da Disney, Minnie.\n",
        "\n",
        "Dica: o método find pode ser muito útil."
      ],
      "metadata": {
        "id": "xALwvAuWaITR"
      }
    },
    {
      "cell_type": "code",
      "source": [
        "nomeCompleto = 'Minni Mouse da Disney'\n",
        "novoNomeLista = nomeCompleto.split(' ')\n",
        "novoNome = ', ' + novoNomeLista[0]\n",
        "nomeLocal = ' ' + nomeCompleto[nomeCompleto.find('da'):len(nomeCompleto)]\n",
        "print(novoNomeLista[1] + nomeLocal + novoNome)"
      ],
      "metadata": {
        "colab": {
          "base_uri": "https://localhost:8080/"
        },
        "id": "PKRn1AXnaK1m",
        "outputId": "c1ce8b2c-34df-4917-9956-258ad6c84435"
      },
      "execution_count": 48,
      "outputs": [
        {
          "output_type": "stream",
          "name": "stdout",
          "text": [
            "Mouse da Disney, Minni\n"
          ]
        }
      ]
    },
    {
      "cell_type": "markdown",
      "source": [
        "####DESAFIO 4\n",
        "\n",
        "Escreva uma função chamada **trocaVogais** que receba uma string e um caractere como parâmetros e retorne uma nova string com todas as vogais substituídas pelo caractere. Os demais caracteres devem ser mantidos na nova string.\n",
        "\n",
        "Dica: inicialize uma variável com uma string vazia ('') e, em uma repetição, vá adicionando os caracteres devidos a cada instante nessa variável. Ao final, retorne o conteúdo dessa variável.\n",
        "\n",
        "Se a função receber, por exemplo, a string 'ABCDe' e o caractere '@', deverá retornar a string '@BCD@'.\n",
        "\n",
        "Escreva um programa para realizar três testes da sua função."
      ],
      "metadata": {
        "id": "Rfff2B-0aLF_"
      }
    },
    {
      "cell_type": "code",
      "source": [
        "from os import replace\n",
        "def trocaVogais(texto, caractere):\n",
        "  novoTexto = texto\n",
        "  for i in texto:\n",
        "    if i.upper() in ['A', 'E', 'I', 'O', 'U']:\n",
        "      novoTexto = novoTexto.replace(i, caractere)\n",
        "  return novoTexto\n",
        "\n",
        "trocaVogais('ABCDe', '@')"
      ],
      "metadata": {
        "colab": {
          "base_uri": "https://localhost:8080/",
          "height": 35
        },
        "id": "qDHfJUBKf4o0",
        "outputId": "6f84bf99-6fd1-45f0-a572-231e2da98e32"
      },
      "execution_count": 52,
      "outputs": [
        {
          "output_type": "execute_result",
          "data": {
            "text/plain": [
              "'@BCD@'"
            ],
            "application/vnd.google.colaboratory.intrinsic+json": {
              "type": "string"
            }
          },
          "metadata": {},
          "execution_count": 52
        }
      ]
    }
  ]
}