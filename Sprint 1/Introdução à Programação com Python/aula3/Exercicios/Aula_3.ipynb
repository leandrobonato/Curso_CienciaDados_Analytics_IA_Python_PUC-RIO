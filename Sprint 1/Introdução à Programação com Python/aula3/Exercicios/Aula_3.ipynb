{
  "nbformat": 4,
  "nbformat_minor": 0,
  "metadata": {
    "colab": {
      "provenance": [],
      "toc_visible": true,
      "authorship_tag": "ABX9TyMS1HxgYZh1R93S5Cio6T68",
      "include_colab_link": true
    },
    "kernelspec": {
      "name": "python3",
      "display_name": "Python 3"
    },
    "language_info": {
      "name": "python"
    }
  },
  "cells": [
    {
      "cell_type": "markdown",
      "metadata": {
        "id": "view-in-github",
        "colab_type": "text"
      },
      "source": [
        "<a href=\"https://colab.research.google.com/github/leandrobonato/Curso_CienciaDados_Analytics_IA_Python_PUC-RIO/blob/main/Sprint%201/Introdu%C3%A7%C3%A3o%20%C3%A0%20Programa%C3%A7%C3%A3o%20com%20Python/aula3/Exercicios/Aula_3.ipynb\" target=\"_parent\"><img src=\"https://colab.research.google.com/assets/colab-badge.svg\" alt=\"Open In Colab\"/></a>"
      ]
    },
    {
      "cell_type": "markdown",
      "source": [
        "#Aula 3"
      ],
      "metadata": {
        "id": "DmY9onf-WAU8"
      }
    },
    {
      "cell_type": "markdown",
      "source": [
        "##Strings"
      ],
      "metadata": {
        "id": "9VgXBwFpWGce"
      }
    },
    {
      "cell_type": "markdown",
      "source": [
        "###Exemplos"
      ],
      "metadata": {
        "id": "nJy4sVfnWCcM"
      }
    },
    {
      "cell_type": "code",
      "execution_count": null,
      "metadata": {
        "colab": {
          "base_uri": "https://localhost:8080/"
        },
        "id": "J1DZy9RWUyYM",
        "outputId": "aa04f20c-6c80-4bfe-b790-33d5dc9a7a5a"
      },
      "outputs": [
        {
          "output_type": "stream",
          "name": "stdout",
          "text": [
            "p h n h\n"
          ]
        }
      ],
      "source": [
        "s = 'python'\n",
        "print(s[0], s[3], s[-1], s[len(s) // 2])"
      ]
    },
    {
      "cell_type": "code",
      "source": [
        "s = 'Hello World!'\n",
        "print(s[0:5:1])\n",
        "print(s[0:5])\n",
        "print(s[:5])\n",
        "print(s[:5:2])\n",
        "print(s[6:12])\n",
        "print(s[6:])\n",
        "print(s[::3])"
      ],
      "metadata": {
        "colab": {
          "base_uri": "https://localhost:8080/"
        },
        "id": "eVjRTCAPWaSr",
        "outputId": "cadff4cb-1bd9-4eb1-92ca-2e0bf49770d8"
      },
      "execution_count": null,
      "outputs": [
        {
          "output_type": "stream",
          "name": "stdout",
          "text": [
            "Hello\n",
            "Hello\n",
            "Hello\n",
            "Hlo\n",
            "World!\n",
            "World!\n",
            "HlWl\n"
          ]
        }
      ]
    },
    {
      "cell_type": "code",
      "source": [
        "print(s[-1:-5:-1])\n",
        "print(s[-1:-5])\n",
        "print(s[-6:-1])\n",
        "print(s[-1::-1])\n",
        "print(s[::-1])"
      ],
      "metadata": {
        "colab": {
          "base_uri": "https://localhost:8080/"
        },
        "id": "VTsvTBTwW4Sw",
        "outputId": "2c90be5c-880a-45c1-a676-e039ee81b74f"
      },
      "execution_count": null,
      "outputs": [
        {
          "output_type": "stream",
          "name": "stdout",
          "text": [
            "!dlr\n",
            "\n",
            "World\n",
            "!dlroW olleH\n",
            "!dlroW olleH\n"
          ]
        }
      ]
    },
    {
      "cell_type": "code",
      "source": [
        "#substituir o último caractere\n",
        "print(s[:11] + '.')\n",
        "print(s[:len(s) - 1] + '.')\n",
        "print(s[:-1] + '.')\n"
      ],
      "metadata": {
        "colab": {
          "base_uri": "https://localhost:8080/"
        },
        "id": "q2uSw0clXIw6",
        "outputId": "aaf29f9d-cdd2-4bc5-aa08-e1f491d6c177"
      },
      "execution_count": null,
      "outputs": [
        {
          "output_type": "stream",
          "name": "stdout",
          "text": [
            "Hello World.\n",
            "Hello World.\n",
            "Hello World.\n"
          ]
        }
      ]
    },
    {
      "cell_type": "code",
      "source": [
        "##operador de pertinência\n",
        "s = 'Hello World!'\n",
        "print('a' in s)\n",
        "print('a' not in s)\n",
        "print('!' in s)"
      ],
      "metadata": {
        "colab": {
          "base_uri": "https://localhost:8080/"
        },
        "id": "m_ztXvSVXmHE",
        "outputId": "bf0ea34d-fa47-4b61-ad3c-a7008299d7fe"
      },
      "execution_count": null,
      "outputs": [
        {
          "output_type": "stream",
          "name": "stdout",
          "text": [
            "False\n",
            "True\n",
            "True\n"
          ]
        }
      ]
    },
    {
      "cell_type": "code",
      "source": [
        "#Métodos de String\n",
        "print(s.upper())\n",
        "print(s.lower())\n",
        "print(s.count('!'))\n",
        "s = '16/02/1991'\n",
        "print(s.split('/'))\n",
        "print(s.find('1'))\n",
        "print(s.index('2'))\n",
        "print(s.replace('91', 'XX'))\n"
      ],
      "metadata": {
        "colab": {
          "base_uri": "https://localhost:8080/"
        },
        "id": "Ks6V8YQNXzj3",
        "outputId": "8d9e8a88-2156-4351-e735-abdf59ca2d74"
      },
      "execution_count": null,
      "outputs": [
        {
          "output_type": "stream",
          "name": "stdout",
          "text": [
            "16/02/1991\n",
            "16/02/1991\n",
            "0\n",
            "['16', '02', '1991']\n",
            "0\n",
            "4\n",
            "16/02/19XX\n"
          ]
        }
      ]
    },
    {
      "cell_type": "code",
      "source": [
        "##Estrutura de iteração for\n",
        "def imprimeStr(s):\n",
        "  indice = 0\n",
        "  limite = len(s)\n",
        "  while indice < limite:\n",
        "    print(s[indice])\n",
        "    indice += 1\n",
        "  return\n",
        "\n",
        "imprimeStr('ab!')"
      ],
      "metadata": {
        "colab": {
          "base_uri": "https://localhost:8080/"
        },
        "id": "7LYviZ_VYtVr",
        "outputId": "9a334340-ff1f-47af-8937-f117af33ac32"
      },
      "execution_count": null,
      "outputs": [
        {
          "output_type": "stream",
          "name": "stdout",
          "text": [
            "a\n",
            "b\n",
            "!\n"
          ]
        }
      ]
    },
    {
      "cell_type": "code",
      "source": [
        "def imprimeStr(s):\n",
        "  limite = len(s)\n",
        "  for indice in range(limite):\n",
        "    print(s[indice])\n",
        "  return\n",
        "\n",
        "imprimeStr('ab!')"
      ],
      "metadata": {
        "colab": {
          "base_uri": "https://localhost:8080/"
        },
        "id": "FLMoK3BdZCzr",
        "outputId": "dc9a6ed2-0daf-43fd-e830-b38a750b4cca"
      },
      "execution_count": null,
      "outputs": [
        {
          "output_type": "stream",
          "name": "stdout",
          "text": [
            "a\n",
            "b\n",
            "!\n"
          ]
        }
      ]
    },
    {
      "cell_type": "code",
      "source": [
        "def imprimeStr(s):\n",
        "  for c in s:\n",
        "    print(c)\n",
        "  return\n",
        "\n",
        "imprimeStr('ab!')"
      ],
      "metadata": {
        "colab": {
          "base_uri": "https://localhost:8080/"
        },
        "id": "APlqB1U9ZSZm",
        "outputId": "000ae127-5989-43e2-c090-3b190fbc6923"
      },
      "execution_count": null,
      "outputs": [
        {
          "output_type": "stream",
          "name": "stdout",
          "text": [
            "a\n",
            "b\n",
            "!\n"
          ]
        }
      ]
    },
    {
      "cell_type": "code",
      "source": [
        "def desafio(s):\n",
        "  for c in reversed(s):\n",
        "    print(c)\n",
        "  return\n",
        "\n",
        "desafio('ab!')"
      ],
      "metadata": {
        "colab": {
          "base_uri": "https://localhost:8080/"
        },
        "id": "RPCojCVyZefq",
        "outputId": "bae821ed-07d7-4774-e3de-9f2b4fae4d59"
      },
      "execution_count": null,
      "outputs": [
        {
          "output_type": "stream",
          "name": "stdout",
          "text": [
            "!\n",
            "b\n",
            "a\n"
          ]
        }
      ]
    },
    {
      "cell_type": "code",
      "source": [
        "s = 'ab!'\n",
        "for indice, c in enumerate(s):\n",
        "  print(s[indice], c, indice)"
      ],
      "metadata": {
        "colab": {
          "base_uri": "https://localhost:8080/"
        },
        "id": "0aViIws9ZncG",
        "outputId": "48cfd086-7630-4897-ffe9-c7ff1cb11cb5"
      },
      "execution_count": null,
      "outputs": [
        {
          "output_type": "stream",
          "name": "stdout",
          "text": [
            "a a 0\n",
            "b b 1\n",
            "! ! 2\n"
          ]
        }
      ]
    },
    {
      "cell_type": "markdown",
      "source": [
        "###Desafios"
      ],
      "metadata": {
        "id": "CjnX0KwaZ71z"
      }
    },
    {
      "cell_type": "markdown",
      "source": [
        "####DESAFIO 1\n",
        "\n",
        "Escreva um programa que leia duas strings e exiba a concatenação da primeira string com o inverso da segunda, desprezando o primeiro caractere de cada uma delas (após a inversão). Se, por exemplo, o usuário digitar as strings '06/11/1921' e '16/05/2024', o programa deverá exibir a string '6/11/1921202/50/61'.\n"
      ],
      "metadata": {
        "id": "UYK_xKa_Z_4u"
      }
    },
    {
      "cell_type": "code",
      "source": [
        "def inverterStr(s):\n",
        "  novaStr = ''\n",
        "  for c in reversed(s):\n",
        "    novaStr = novaStr + c\n",
        "  return novaStr\n",
        "\n",
        "s1 = input('Digite a string 1: ')\n",
        "s2 = input('Digite a string 2: ')\n",
        "\n",
        "\n",
        "s2 = inverterStr(s2)\n",
        "s1 = s1[1:len(s1)]\n",
        "s2 = s2[1:len(s2)]\n",
        "\n",
        "print(s1 + s2)"
      ],
      "metadata": {
        "colab": {
          "base_uri": "https://localhost:8080/"
        },
        "id": "hsBUAc9KaCvO",
        "outputId": "9f3fe38f-61e8-42f5-9a84-38ef14a86d55"
      },
      "execution_count": null,
      "outputs": [
        {
          "output_type": "stream",
          "name": "stdout",
          "text": [
            "Digite a string 1: 06/11/1921\n",
            "Digite a string 2: 16/05/2024\n",
            "6/11/1921202/50/61\n"
          ]
        }
      ]
    },
    {
      "cell_type": "markdown",
      "source": [
        "####DESAFIO 2\n",
        "\n",
        "Escreva uma função chamada **alteraFormatoData** que receba uma string de 10 caracteres representando uma data no formato '*dd/mm/aaaa*' e retorne uma string no formato '*aaaammdd*'.\n",
        "\n",
        "Escreva um programa para realizar dois testes da sua função com os valores '06/11/1921' e '16/05/2024'."
      ],
      "metadata": {
        "id": "XLxmG6AjaDCU"
      }
    },
    {
      "cell_type": "code",
      "source": [
        "def alteraFormatoData(data):\n",
        "  dataLista = data.split('/')\n",
        "  novaData = ''\n",
        "  for i in reversed(dataLista):\n",
        "    novaData = novaData + i\n",
        "  return novaData\n",
        "\n",
        "print(alteraFormatoData('06/11/1921'))\n",
        "print(alteraFormatoData('16/02/1991'))\n",
        "print(alteraFormatoData('16/05/2024'))"
      ],
      "metadata": {
        "colab": {
          "base_uri": "https://localhost:8080/"
        },
        "id": "F-k9w7IhaH3n",
        "outputId": "ba2e1706-50c5-4fb1-fe5b-30c8662024a7"
      },
      "execution_count": null,
      "outputs": [
        {
          "output_type": "stream",
          "name": "stdout",
          "text": [
            "19211106\n",
            "19910216\n",
            "20240516\n"
          ]
        }
      ]
    },
    {
      "cell_type": "markdown",
      "source": [
        "####DESAFIO 3\n",
        "\n",
        "Escreva um programa que leia o nome completo de uma pessoa, onde as partes do nome são separadas por um e apenas um branco e exiba o nome conforme exemplo abaixo:\n",
        "\n",
        "* se o nome lido for Minnie Mouse da Disney, o programa deverá exibir Mouse da Disney, Minnie.\n",
        "\n",
        "Dica: o método find pode ser muito útil."
      ],
      "metadata": {
        "id": "xALwvAuWaITR"
      }
    },
    {
      "cell_type": "code",
      "source": [
        "nomeCompleto = 'Minni Mouse da Disney'\n",
        "novoNomeLista = nomeCompleto.split(' ')\n",
        "novoNome = ', ' + novoNomeLista[0]\n",
        "nomeLocal = ' ' + nomeCompleto[nomeCompleto.find('da'):len(nomeCompleto)]\n",
        "print(novoNomeLista[1] + nomeLocal + novoNome)"
      ],
      "metadata": {
        "colab": {
          "base_uri": "https://localhost:8080/"
        },
        "id": "PKRn1AXnaK1m",
        "outputId": "c1ce8b2c-34df-4917-9956-258ad6c84435"
      },
      "execution_count": null,
      "outputs": [
        {
          "output_type": "stream",
          "name": "stdout",
          "text": [
            "Mouse da Disney, Minni\n"
          ]
        }
      ]
    },
    {
      "cell_type": "markdown",
      "source": [
        "####DESAFIO 4\n",
        "\n",
        "Escreva uma função chamada **trocaVogais** que receba uma string e um caractere como parâmetros e retorne uma nova string com todas as vogais substituídas pelo caractere. Os demais caracteres devem ser mantidos na nova string.\n",
        "\n",
        "Dica: inicialize uma variável com uma string vazia ('') e, em uma repetição, vá adicionando os caracteres devidos a cada instante nessa variável. Ao final, retorne o conteúdo dessa variável.\n",
        "\n",
        "Se a função receber, por exemplo, a string 'ABCDe' e o caractere '@', deverá retornar a string '@BCD@'.\n",
        "\n",
        "Escreva um programa para realizar três testes da sua função."
      ],
      "metadata": {
        "id": "Rfff2B-0aLF_"
      }
    },
    {
      "cell_type": "code",
      "source": [
        "from os import replace\n",
        "def trocaVogais(texto, caractere):\n",
        "  novoTexto = texto\n",
        "  for i in texto:\n",
        "    if i.upper() in ['A', 'E', 'I', 'O', 'U']:\n",
        "      novoTexto = novoTexto.replace(i, caractere)\n",
        "  return novoTexto\n",
        "\n",
        "trocaVogais('ABCDe', '@')"
      ],
      "metadata": {
        "colab": {
          "base_uri": "https://localhost:8080/",
          "height": 35
        },
        "id": "qDHfJUBKf4o0",
        "outputId": "6f84bf99-6fd1-45f0-a572-231e2da98e32"
      },
      "execution_count": null,
      "outputs": [
        {
          "output_type": "execute_result",
          "data": {
            "text/plain": [
              "'@BCD@'"
            ],
            "application/vnd.google.colaboratory.intrinsic+json": {
              "type": "string"
            }
          },
          "metadata": {},
          "execution_count": 52
        }
      ]
    },
    {
      "cell_type": "markdown",
      "source": [
        "##Recursão"
      ],
      "metadata": {
        "id": "8xSG6XA4rw88"
      }
    },
    {
      "cell_type": "markdown",
      "source": [
        "###Exemplos"
      ],
      "metadata": {
        "id": "ke_XxHM1r0B_"
      }
    },
    {
      "cell_type": "code",
      "source": [
        "def fatorial(n):\n",
        "  if n < 2:\n",
        "    return 1\n",
        "  anterior = fatorial(n - 1)\n",
        "  return n * anterior\n",
        "\n",
        "print(fatorial(5))\n",
        "\n",
        "import math\n",
        "print(math.factorial(5))"
      ],
      "metadata": {
        "colab": {
          "base_uri": "https://localhost:8080/"
        },
        "id": "qNM8BjfcrzFi",
        "outputId": "57ad1ce2-eda3-445f-f608-3b243cde98c4"
      },
      "execution_count": 5,
      "outputs": [
        {
          "output_type": "stream",
          "name": "stdout",
          "text": [
            "120\n",
            "120\n"
          ]
        }
      ]
    },
    {
      "cell_type": "code",
      "source": [
        "def imprimeInv(n):\n",
        "  if n < 10:\n",
        "    print(n)\n",
        "  else:\n",
        "    print(n % 10)\n",
        "    imprimeInv(n // 10)\n",
        "  return\n",
        "\n",
        "imprimeInv(1)"
      ],
      "metadata": {
        "colab": {
          "base_uri": "https://localhost:8080/"
        },
        "id": "vHqZqiYis6Wt",
        "outputId": "049e74eb-fbd0-4905-e732-467bb1dc5d91"
      },
      "execution_count": 10,
      "outputs": [
        {
          "output_type": "stream",
          "name": "stdout",
          "text": [
            "1\n"
          ]
        }
      ]
    },
    {
      "cell_type": "code",
      "source": [
        "def imprimeStr(s):\n",
        "  if s == '':\n",
        "    return\n",
        "  print(s[0])\n",
        "  imprimeStr(s[1:])\n",
        "  return\n",
        "\n",
        "imprimeStr('PYTHON')"
      ],
      "metadata": {
        "colab": {
          "base_uri": "https://localhost:8080/"
        },
        "id": "9WBDs2QftW2b",
        "outputId": "9697e4c2-c871-4d47-8ea9-820a13a3678f"
      },
      "execution_count": 9,
      "outputs": [
        {
          "output_type": "stream",
          "name": "stdout",
          "text": [
            "P\n",
            "Y\n",
            "T\n",
            "H\n",
            "O\n",
            "N\n",
            "['Python']\n"
          ]
        }
      ]
    },
    {
      "cell_type": "markdown",
      "source": [
        "###Desafios"
      ],
      "metadata": {
        "id": "PJHYAoIvtws0"
      }
    },
    {
      "cell_type": "markdown",
      "source": [
        "####**DESAFIO 1**\n",
        "\n",
        "Escreva uma função recursiva chamada **somaAlgarismos** que receba um número inteiro como parâmetro e retorne a soma de seus algarismos. Se, por exemplo, a função receber o número 875, deverá retornar o valor 20 (8 + 7 + 5).\n",
        "\n",
        "Escreva um programa para realizar, pelo menos, dois testes da sua função. Utilize números de um e mais dígitos."
      ],
      "metadata": {
        "id": "B50nwR_JtysG"
      }
    },
    {
      "cell_type": "code",
      "source": [
        "def somaAlgarismos(a1):\n",
        "  valorRetorno = a1\n",
        "  if a1 < 10:\n",
        "    return a1\n",
        "  unidade = a1 % 10\n",
        "  valorRetorno = (somaAlgarismos(a1 // 10))\n",
        "  return unidade + valorRetorno\n",
        "\n",
        "print(somaAlgarismos(1255))\n",
        "#print(875 // 5)\n",
        "#imprimeInv(875)\n",
        "#print(8 % 10)"
      ],
      "metadata": {
        "colab": {
          "base_uri": "https://localhost:8080/"
        },
        "id": "uprPdHqFt2na",
        "outputId": "3b953091-00fd-4d6a-d6cc-02bf3ee1ecde"
      },
      "execution_count": 38,
      "outputs": [
        {
          "output_type": "stream",
          "name": "stdout",
          "text": [
            "13\n"
          ]
        }
      ]
    },
    {
      "cell_type": "markdown",
      "source": [
        "####**DESAFIO 2**\n",
        "\n",
        "Escreva uma função recursiva chamada **exibeAlgarismos** que receba um número inteiro como parâmetro e exibe seus algarismos, um por linha. Se, por exemplo, a função receber o número 8752, deverá exibir:\n",
        "\n",
        "8\n",
        "\n",
        "7\n",
        "\n",
        "5\n",
        "\n",
        "2\n",
        "\n",
        "Escreva um programa para testar a sua função.\n"
      ],
      "metadata": {
        "id": "ucLHms8Jt23K"
      }
    },
    {
      "cell_type": "code",
      "source": [
        "def exibeAlgarismos(n):\n",
        "  if n < 10:\n",
        "    print(n)\n",
        "    return n\n",
        "  unidade = n % 10\n",
        "  novoValor = exibeAlgarismos(n // 10)\n",
        "  print(unidade)\n",
        "  return\n",
        "\n",
        "exibeAlgarismos(8752)"
      ],
      "metadata": {
        "colab": {
          "base_uri": "https://localhost:8080/"
        },
        "id": "Jdm9xIzkt5R0",
        "outputId": "9f99da86-0df0-444c-bfa9-923152b4d4d5"
      },
      "execution_count": 49,
      "outputs": [
        {
          "output_type": "stream",
          "name": "stdout",
          "text": [
            "8\n",
            "7\n",
            "5\n",
            "2\n"
          ]
        }
      ]
    },
    {
      "cell_type": "markdown",
      "source": [
        "####**DESAFIO 3**\n",
        "\n",
        "Escreva uma função recursiva chamada **contaVogais** que receba uma string como parâmetro e retorne a quantidade de vogais que ela contém. Se, por exemplo, a função receber a string \"LinguAgeM PythOn\", deverá retornar o valor 5 pois a string possui 5 vogais.\n",
        "\n",
        "Escreva um programa para realizar vários testes da sua função: com string vazia, com vogais se sem vogais, de vários tamanhos."
      ],
      "metadata": {
        "id": "DzABTc4ut5mg"
      }
    },
    {
      "cell_type": "code",
      "source": [
        "def contaVogais(s):\n",
        "  qtdVogais = 0\n",
        "  for i in s:\n",
        "    if i.upper() in ['A', 'E', 'I', 'O', 'U']:\n",
        "      qtdVogais = qtdVogais + 1\n",
        "  return qtdVogais\n",
        "\n",
        "def contaVogais_recursiva(s):\n",
        "  qtdVogais = 0\n",
        "  if len(s) <= 0:\n",
        "    return 0\n",
        "  elif s[0] == '':\n",
        "    return 0\n",
        "  elif s[0].upper() in ['A', 'E', 'I', 'O', 'U']:\n",
        "    qtdVogais += 1\n",
        "  novoValor = contaVogais_recursiva(s[1:])\n",
        "  qtdVogais = qtdVogais + novoValor\n",
        "  return qtdVogais\n",
        "\n",
        "#contaVogais('LinguAgeM PythOn')\n",
        "contaVogais_recursiva('LinguAgeM PythOn')"
      ],
      "metadata": {
        "colab": {
          "base_uri": "https://localhost:8080/"
        },
        "id": "30S07a5It8EY",
        "outputId": "452c947e-5f15-402f-f271-d762f1f67b6b"
      },
      "execution_count": 94,
      "outputs": [
        {
          "output_type": "execute_result",
          "data": {
            "text/plain": [
              "5"
            ]
          },
          "metadata": {},
          "execution_count": 94
        }
      ]
    },
    {
      "cell_type": "markdown",
      "source": [
        "####**DESAFIO 4**\n",
        "\n",
        "Escreva uma função recursiva chamada **exibeStrInvertida** que receba uma string como parâmetro e imprima cada caractere da string em uma linha, em ordem invertida, ou seja, o último caractere, depois o penúltimo, e assim por diante, até exibir o primeiro. Se, por exemplo, a função receber a string 'Python', deverá imprimir:\n",
        "\n",
        "n\n",
        "\n",
        "o\n",
        "\n",
        "h\n",
        "\n",
        "t\n",
        "\n",
        "y\n",
        "\n",
        "P\n",
        "\n",
        "Escreva um programa para testar a sua função."
      ],
      "metadata": {
        "id": "0VIqMWy-t8av"
      }
    },
    {
      "cell_type": "code",
      "source": [
        "def exibeStrInvertida(s):\n",
        "  novaStr = ''\n",
        "  if len(s) <= 0 or s[0] == '':\n",
        "    return novaStr\n",
        "  else:\n",
        "    novaStr = s[-1:]\n",
        "    strInverter = s[0:-1]\n",
        "  print(novaStr)\n",
        "  exibeStrInvertida(strInverter)\n",
        "  return\n",
        "\n",
        "exibeStrInvertida('Python')"
      ],
      "metadata": {
        "colab": {
          "base_uri": "https://localhost:8080/"
        },
        "id": "dEVtSrBLt-oR",
        "outputId": "80fa425a-58e4-43fe-b21c-97a9445a60e3"
      },
      "execution_count": 16,
      "outputs": [
        {
          "output_type": "stream",
          "name": "stdout",
          "text": [
            "n\n",
            "o\n",
            "h\n",
            "t\n",
            "y\n",
            "P\n"
          ]
        }
      ]
    },
    {
      "cell_type": "markdown",
      "source": [
        "####**DESAFIO 5**\n",
        "\n",
        "Escreva uma função recursiva chamada **strInvertida** que receba uma string como parâmetro e retorne a string invertida. Se, por exemplo, a função receber a string 'Python', deverá retornar a string 'nohtyP'.\n",
        "\n",
        "Escreva um programa para testar a sua função."
      ],
      "metadata": {
        "id": "Lt9D173Tt-48"
      }
    },
    {
      "cell_type": "code",
      "source": [
        "def strInvertida(s):\n",
        "  if len(s) <= 0:\n",
        "    return ''\n",
        "  restante = strInvertida(s[1:])\n",
        "  return restante + s[0]\n",
        "\n",
        "strInvertida('Python')\n",
        "#strInverter = 'Leandro'\n",
        "#strInverter[-1:] + strInverter[0:-1]"
      ],
      "metadata": {
        "colab": {
          "base_uri": "https://localhost:8080/",
          "height": 35
        },
        "id": "FHO_YYSyuBTR",
        "outputId": "314c5ccc-8f77-4301-c9f3-7c4730dad1cf"
      },
      "execution_count": 29,
      "outputs": [
        {
          "output_type": "execute_result",
          "data": {
            "text/plain": [
              "'nohtyP'"
            ],
            "application/vnd.google.colaboratory.intrinsic+json": {
              "type": "string"
            }
          },
          "metadata": {},
          "execution_count": 29
        }
      ]
    },
    {
      "cell_type": "markdown",
      "source": [
        "####**DESAFIO 6**\n",
        "\n",
        "Escreva uma função recursiva chamada **contemCaractere** que receba uma string e um caractere (string de tamanho 1) como parâmetros e retorne  True se o caractere faz parte da string ou False, caso não faça. Se, por exemplo, a função receber a string \"LinguAgeM PythOn!\" e o caractere 'M', deverá retornar True; caso receba a mesma string e o caractere '@', deverá retornar False.\n",
        "\n",
        "Escreva um programa que leia uma string e um caractere e, após a chamada da **contemCaractere** exiba uma mensagem afirmando que o caractere faz ou não parte da string, dependendo do caso.\n",
        "\n",
        "Dica: só é possível afirmar que o caractere não faz parte da string após comparar todos os caracteres da string (um a um, claro) com o caractere recebido como parâmetro. Por outro lado, ao encontrar o caractere na string, é possível afirmar que o caractere faz parte da string (e isso basta!). Isso sugere que a função possui dois casos base!"
      ],
      "metadata": {
        "id": "6vrFVayXuBh2"
      }
    },
    {
      "cell_type": "code",
      "source": [
        "#solução 1 - mais fácil e mais provável\n",
        "#def contemCaractere(s1, s2):\n",
        "#  return s2.upper() in s1.upper()\n",
        "\n",
        "#Solução 2 - mais díficil e do desafio por obrigar a ter recursividade\n",
        "def contemCaractere(s1, s2):\n",
        "  retorno = False\n",
        "  if len(s1) <= 0 or s1 == '' or len(s2) > 1:\n",
        "    return False\n",
        "  elif s1[0].upper() == s2.upper():\n",
        "    return True\n",
        "  else:\n",
        "    novoTexto = s1[1:len(s1)]\n",
        "    retorno = contemCaractere(novoTexto, s2)\n",
        "  return retorno\n",
        "\n",
        "if contemCaractere('LinguAgeM PythOn!', '@'):\n",
        "  print('Contém')\n",
        "else:\n",
        "  print('Não contém')"
      ],
      "metadata": {
        "colab": {
          "base_uri": "https://localhost:8080/"
        },
        "id": "j5rmKu5fuEJz",
        "outputId": "076a6aec-9b5b-439c-9ba2-01a0bff58191"
      },
      "execution_count": 45,
      "outputs": [
        {
          "output_type": "stream",
          "name": "stdout",
          "text": [
            "Não contém\n"
          ]
        }
      ]
    },
    {
      "cell_type": "markdown",
      "source": [
        "##Listas"
      ],
      "metadata": {
        "id": "uhjcvfzCOF-A"
      }
    },
    {
      "cell_type": "markdown",
      "source": [
        "###Exemplos"
      ],
      "metadata": {
        "id": "3zESSEdOOHRD"
      }
    },
    {
      "cell_type": "markdown",
      "source": [
        "####Exemplos - Listas"
      ],
      "metadata": {
        "id": "fZn2uxXMSL_G"
      }
    },
    {
      "cell_type": "code",
      "source": [
        "L1 = [] #listavazia\n",
        "print(L1)"
      ],
      "metadata": {
        "colab": {
          "base_uri": "https://localhost:8080/"
        },
        "id": "jSrfvcohOIoY",
        "outputId": "c7d6c314-d273-4cfb-c6c9-85a401aeb363"
      },
      "execution_count": 57,
      "outputs": [
        {
          "output_type": "stream",
          "name": "stdout",
          "text": [
            "[]\n",
            "[]\n",
            "[0, 2, 4, 6]\n",
            "[2, 2, 1, 8, 8, 3, 6, 9, 0, 2, 4, 6]\n",
            "[0, 0, 0, 0, 0]\n",
            "[['Mickey', 8.7], ['Pateta', 6.5], ['Minnie', 9.9]]\n",
            "[0, 7, 0, 0, 0]\n",
            "[['Mickey', 8.7], ['Pateta', 6.5], ['Minnie', 10]]\n",
            "2\n",
            "2\n",
            "1\n",
            "8\n",
            "8\n",
            "3\n",
            "6\n",
            "9\n"
          ]
        }
      ]
    },
    {
      "cell_type": "code",
      "source": [
        "L2 = list() #listavazia\n",
        "print(L2)"
      ],
      "metadata": {
        "id": "g1UBJxDLPsQ3"
      },
      "execution_count": null,
      "outputs": []
    },
    {
      "cell_type": "code",
      "source": [
        "L3 = list(range(0,8,2))\n",
        "print(L3)"
      ],
      "metadata": {
        "id": "Uk3tl-rfPtRl"
      },
      "execution_count": null,
      "outputs": []
    },
    {
      "cell_type": "code",
      "source": [
        "LNumeros = [2,2,1,8,8,3,6,9]\n",
        "L4 = LNumeros + L3\n",
        "print(L4)"
      ],
      "metadata": {
        "id": "E-bDi6oZPuK3"
      },
      "execution_count": null,
      "outputs": []
    },
    {
      "cell_type": "code",
      "source": [
        "L5 = 5 * [0]\n",
        "print(L5)"
      ],
      "metadata": {
        "id": "TzsFV639PvSN"
      },
      "execution_count": null,
      "outputs": []
    },
    {
      "cell_type": "code",
      "source": [
        "LAlunos = [['Mickey', 8.7], ['Pateta', 6.5], ['Minnie', 9.9]]\n",
        "print(LAlunos)"
      ],
      "metadata": {
        "id": "oi9GArOXPwTN"
      },
      "execution_count": null,
      "outputs": []
    },
    {
      "cell_type": "code",
      "source": [
        "L5[1] = 7\n",
        "print(L5)"
      ],
      "metadata": {
        "id": "XPac5D16PxDu"
      },
      "execution_count": null,
      "outputs": []
    },
    {
      "cell_type": "code",
      "source": [
        "LAlunos[2][1] = 10\n",
        "print(LAlunos)"
      ],
      "metadata": {
        "id": "JIRy8YA9Px4-"
      },
      "execution_count": null,
      "outputs": []
    },
    {
      "cell_type": "code",
      "source": [
        "limite = len(LNumeros)\n",
        "for indice in range(limite):\n",
        "  print(LNumeros[indice])"
      ],
      "metadata": {
        "id": "vj04V-V2Pys6"
      },
      "execution_count": null,
      "outputs": []
    },
    {
      "cell_type": "code",
      "source": [
        "def alteraLista(lista):\n",
        "  for indice in range(len(lista)):\n",
        "    lista[indice] = lista[indice] * 2\n",
        "  return lista\n",
        "\n",
        "LNumeros = [2,2,1,8,8,3,6,9]\n",
        "print(alteraLista(LNumeros))"
      ],
      "metadata": {
        "colab": {
          "base_uri": "https://localhost:8080/"
        },
        "id": "ziWEGICAP3w5",
        "outputId": "f00f32e2-3af1-492f-8adb-c25b9d4c1c4e"
      },
      "execution_count": 63,
      "outputs": [
        {
          "output_type": "stream",
          "name": "stdout",
          "text": [
            "[4, 4, 2, 16, 16, 6, 12, 18]\n"
          ]
        }
      ]
    },
    {
      "cell_type": "code",
      "source": [
        "def alteraLista(lista):\n",
        "  elemento = 0\n",
        "  for elemento in lista:\n",
        "    elemento = elemento * 2\n",
        "  return elemento\n",
        "\n",
        "LNumeros = [2,2,1,8,8,3,6,9]\n",
        "print(alteraLista(LNumeros))"
      ],
      "metadata": {
        "colab": {
          "base_uri": "https://localhost:8080/"
        },
        "id": "ZDJEDrDxQTsS",
        "outputId": "487337f0-9376-4434-c858-bac4e261442a"
      },
      "execution_count": 66,
      "outputs": [
        {
          "output_type": "stream",
          "name": "stdout",
          "text": [
            "18\n"
          ]
        }
      ]
    },
    {
      "cell_type": "markdown",
      "source": [
        "#### Exemplos - Fatiamento de listas"
      ],
      "metadata": {
        "id": "l0R6RpgFQpXG"
      }
    },
    {
      "cell_type": "code",
      "source": [
        "LNummeros = [2,2,1,8,8,3,6,9]\n",
        "print(LNumeros[:5])\n",
        "print(LNumeros[5:])\n",
        "print(LNumeros[2::2])\n",
        "print(LNumeros[-1:-5])\n",
        "print(LNumeros[-1:-5:-1])\n",
        "print(LNumeros[])"
      ],
      "metadata": {
        "colab": {
          "base_uri": "https://localhost:8080/"
        },
        "id": "n-qsKQiYQqpR",
        "outputId": "5a1c1168-09aa-44af-cf5a-523ada2a1f79"
      },
      "execution_count": 67,
      "outputs": [
        {
          "output_type": "stream",
          "name": "stdout",
          "text": [
            "[2, 2, 1, 8, 8]\n",
            "[3, 6, 9]\n",
            "[1, 8, 6]\n",
            "[]\n",
            "[9, 6, 3, 8]\n",
            "[9, 6, 3, 8, 8, 1, 2, 2]\n"
          ]
        }
      ]
    },
    {
      "cell_type": "code",
      "source": [
        "LNumeros = [2,2,1,8,8,3,6,9]\n",
        "LNumeros[:4] = [3,5,2]\n",
        "print(LNumeros)\n",
        "\n",
        "LNumeros[5] = [4,9]\n",
        "print(LNumeros)\n",
        "\n",
        "LNumeros[4:] = []\n",
        "print(LNumeros)"
      ],
      "metadata": {
        "colab": {
          "base_uri": "https://localhost:8080/"
        },
        "id": "Dj-MaJ8VRKJa",
        "outputId": "5f9ae889-09c8-4d0e-db40-7edb6d053339"
      },
      "execution_count": 68,
      "outputs": [
        {
          "output_type": "stream",
          "name": "stdout",
          "text": [
            "[3, 5, 2, 8, 3, 6, 9]\n",
            "[3, 5, 2, 8, 3, [4, 9], 9]\n",
            "[3, 5, 2, 8]\n"
          ]
        }
      ]
    },
    {
      "cell_type": "code",
      "source": [
        "L1 = [0,0,4,9]\n",
        "print(L1)\n",
        "\n",
        "L2 = L1[:]\n",
        "print(L2)\n",
        "\n",
        "L1.append(8752)\n",
        "print(L1, L2)"
      ],
      "metadata": {
        "colab": {
          "base_uri": "https://localhost:8080/"
        },
        "id": "HQwJ2bxxRn1Z",
        "outputId": "9af41871-3e64-4b05-bb3e-53c5c42e97c1"
      },
      "execution_count": 69,
      "outputs": [
        {
          "output_type": "stream",
          "name": "stdout",
          "text": [
            "[0, 0, 4, 9]\n",
            "[0, 0, 4, 9]\n",
            "[0, 0, 4, 9, 8752] [0, 0, 4, 9]\n"
          ]
        }
      ]
    },
    {
      "cell_type": "markdown",
      "source": [
        "#### Exemplos - Operador de pertinência"
      ],
      "metadata": {
        "id": "Q_L9k9ZMR2Ct"
      }
    },
    {
      "cell_type": "code",
      "source": [
        "L1 = [3,5,2,8,3, [4,9], 9]\n",
        "print (L1)\n",
        "print(9 in L1)\n",
        "print(4 in L1)\n",
        "print(4 in L1[5])\n",
        "print([4,9] in L1)"
      ],
      "metadata": {
        "colab": {
          "base_uri": "https://localhost:8080/"
        },
        "id": "T9eHgCYQSbak",
        "outputId": "037a9dc6-571f-4313-f428-7c08ca11adc9"
      },
      "execution_count": 70,
      "outputs": [
        {
          "output_type": "stream",
          "name": "stdout",
          "text": [
            "[3, 5, 2, 8, 3, [4, 9], 9]\n",
            "True\n",
            "False\n",
            "True\n",
            "True\n"
          ]
        }
      ]
    },
    {
      "cell_type": "markdown",
      "source": [
        "#### Exemplos - Métodos de listas"
      ],
      "metadata": {
        "id": "eT0ZQ_x0St-q"
      }
    },
    {
      "cell_type": "code",
      "source": [
        "L1 = [3,5,2,8,3,[4,9], 9]\n",
        "print(L1)\n",
        "print(L1.count(3))\n",
        "print(L1.index(3))\n",
        "print(L1.index(3,2))\n",
        "#print(L1.sort(reverse=False))\n",
        "print(L1.reverse())\n",
        "print(L1.append(7))\n",
        "print(L1.append([4,9]))\n",
        "#print(L1.remove(1))\n",
        "print(L1.pop(1))\n",
        "print(L1.insert(0, -7))\n",
        "print(L1.extend(L1))\n",
        "del L1[3]\n",
        "print(L1)\n"
      ],
      "metadata": {
        "colab": {
          "base_uri": "https://localhost:8080/"
        },
        "id": "dpPDX6YUSxRh",
        "outputId": "75897564-a5be-4b7b-ceba-2f62264e668f"
      },
      "execution_count": 82,
      "outputs": [
        {
          "output_type": "stream",
          "name": "stdout",
          "text": [
            "[3, 5, 2, 8, 3, [4, 9], 9]\n",
            "2\n",
            "0\n",
            "4\n",
            "None\n",
            "None\n",
            "None\n",
            "[4, 9]\n",
            "None\n",
            "None\n",
            "[-7, 9, 3, 2, 5, 3, 7, [4, 9], -7, 9, 3, 8, 2, 5, 3, 7, [4, 9]]\n"
          ]
        }
      ]
    },
    {
      "cell_type": "markdown",
      "source": [
        "###Desafios"
      ],
      "metadata": {
        "id": "2EKkZvH4UUX6"
      }
    },
    {
      "cell_type": "markdown",
      "source": [
        "####Desafio 1\n",
        "\n",
        "Escreva uma função chamada **exibeElementos** que receba uma lista cujos elementos podem ser de qualquer tipo e exiba cada elemento em uma linha.\n",
        "\n",
        "Escreva um programa para realizar um teste da sua função."
      ],
      "metadata": {
        "id": "76ud4j1-UWMr"
      }
    },
    {
      "cell_type": "code",
      "source": [
        "def exibeElementos(lista):\n",
        "  for elemento in lista:\n",
        "    if isinstance(elemento, list):  #extra\n",
        "      exibeElementos(elemento) #extra\n",
        "    else: #extra\n",
        "      print(elemento)\n",
        "  return\n",
        "\n",
        "exibeElementos([1,2,5,6,7,[1,[2,3]], ['a', 'b']])"
      ],
      "metadata": {
        "colab": {
          "base_uri": "https://localhost:8080/"
        },
        "id": "u1RHtfaFUVry",
        "outputId": "1983e737-ffc0-4730-c6c2-11085215f001"
      },
      "execution_count": 7,
      "outputs": [
        {
          "output_type": "stream",
          "name": "stdout",
          "text": [
            "1\n",
            "2\n",
            "5\n",
            "6\n",
            "7\n",
            "1\n",
            "2\n",
            "3\n",
            "a\n",
            "b\n"
          ]
        }
      ]
    },
    {
      "cell_type": "markdown",
      "source": [
        "####**DESAFIO 2**\n",
        "\n",
        "Escreva uma função chamada **exibeIndicesElementos** que receba uma lista cujos elementos podem ser de qualquer tipo e exiba, em cada linha, para cada elemento, seu índice e o próprio elemento. Se, por exemplo, a função receber a lista [2, True, 'Python', -19.98], deverá exibir:\n",
        "\n",
        "`Índice: 0       Elemento: 2`\n",
        "\n",
        "`Índice: 1       Elemento: True`\n",
        "\n",
        "`Índice: 2       Elemento: Python`\n",
        "\n",
        "`Índice: 3       Elemento: -19.98`\n",
        "\n",
        "Dica: utilize *for* com *enumerate*!\n",
        "\n",
        "Escreva um programa para realizar um teste da sua função."
      ],
      "metadata": {
        "id": "Bt7YY6ldW5Jo"
      }
    },
    {
      "cell_type": "code",
      "source": [
        "def exibeIndicesElementos(listaPar):\n",
        "  for (indice, elemento) in enumerate(listaPar):\n",
        "    print(f'Índice: {indice} Elemento: {elemento}')\n",
        "  return\n",
        "\n",
        "listaDesafio2 = [2, True, 'Python', -19.98]\n",
        "exibeIndicesElementos(listaDesafio2)"
      ],
      "metadata": {
        "colab": {
          "base_uri": "https://localhost:8080/"
        },
        "id": "ne7Yri1TW78C",
        "outputId": "cb182891-1079-4a44-f7bf-364458a2802e"
      },
      "execution_count": 30,
      "outputs": [
        {
          "output_type": "stream",
          "name": "stdout",
          "text": [
            "Índice: 0 Elemento: 2\n",
            "Índice: 1 Elemento: True\n",
            "Índice: 2 Elemento: Python\n",
            "Índice: 3 Elemento: -19.98\n"
          ]
        }
      ]
    },
    {
      "cell_type": "markdown",
      "source": [
        "####**DESAFIO 3**\n",
        "\n",
        "Escreva uma função chamada **retornaMaior** que receba uma lista cujos elementos são números e retorne o maior valor.\n",
        "\n",
        "Escreva um programa para realizar, pelo menos, dois testes da sua função. Utilize números positivos e negativos."
      ],
      "metadata": {
        "id": "SLOvChwfZB3E"
      }
    },
    {
      "cell_type": "code",
      "source": [
        "def retornaMaior(lista):\n",
        "  valorAnt = 0\n",
        "  maiorValor = 0\n",
        "  for elementos in lista:\n",
        "    if elementos > valorAnt and maiorValor < elementos:\n",
        "      maiorValor = elementos\n",
        "    valorAnt = elementos\n",
        "  return maiorValor\n",
        "\n",
        "retornaMaior([8,2,3,20,5,7,6,-1])"
      ],
      "metadata": {
        "colab": {
          "base_uri": "https://localhost:8080/"
        },
        "id": "QF43-pDFYem-",
        "outputId": "e1e47136-f406-4664-ddcb-4cd426ef705e"
      },
      "execution_count": 37,
      "outputs": [
        {
          "output_type": "execute_result",
          "data": {
            "text/plain": [
              "20"
            ]
          },
          "metadata": {},
          "execution_count": 37
        }
      ]
    },
    {
      "cell_type": "markdown",
      "source": [
        "####**DESAFIO 4**\n",
        "\n",
        "Escreva uma função chamada **retornaMaiorTamString** que receba uma lista cujos elementos são strings e retorne o tamanho da maior string, ou seja, sua quantidade de caracteres.\n",
        "\n",
        "Escreva um programa para realizar, pelo menos, dois testes da sua função."
      ],
      "metadata": {
        "id": "JqWXfm5qZ6lG"
      }
    },
    {
      "cell_type": "code",
      "source": [
        "def retornaMaiorTamString(lista):\n",
        "  maiorStr = 0\n",
        "  for elementos in lista:\n",
        "    if len(elementos) > maiorStr:\n",
        "      maiorStr = len(elementos)\n",
        "  return maiorStr\n",
        "\n",
        "print(retornaMaiorTamString(['leandro', 'abcd', 'abcdefghijklmno']))"
      ],
      "metadata": {
        "colab": {
          "base_uri": "https://localhost:8080/"
        },
        "id": "2uZcWyGHZ7x9",
        "outputId": "0f4e02ff-0794-4b86-cd35-655247a053a6"
      },
      "execution_count": 43,
      "outputs": [
        {
          "output_type": "stream",
          "name": "stdout",
          "text": [
            "15\n"
          ]
        }
      ]
    },
    {
      "cell_type": "markdown",
      "source": [
        "####**DESAFIO 5**\n",
        "\n",
        "Escreva uma função chamada **retornaIndiceMaiorString** que receba uma lista cujos elementos são strings e retorne o índice da maior string. Se, por exemplo, a função receber a lista ['abc', 'ab', 'abcdef', 'abcd', ''], deverá retornar o valor 2, referente ao índice da maior string ('abcdef').\n",
        "\n",
        "Escreva um programa para realizar, pelo menos, dois testes da sua função."
      ],
      "metadata": {
        "id": "U1-A18KYauRv"
      }
    },
    {
      "cell_type": "code",
      "source": [
        "def retornaIndiceMaiorString(lista):\n",
        "  maiorStr = 0\n",
        "  indiceMaiorStr = -1\n",
        "  for (indice, elementos) in enumerate(lista):\n",
        "    if len(elementos) > maiorStr:\n",
        "      indiceMaiorStr = indice\n",
        "      maiorStr = len(elementos)\n",
        "  return indiceMaiorStr\n",
        "\n",
        "retornaIndiceMaiorString(['abc', 'ab', 'abcdef', 'abcd', ''])\n",
        "retornaIndiceMaiorString(['abc', 'ab', 'abcdef', 'abcd', '1223132132131231231'])"
      ],
      "metadata": {
        "colab": {
          "base_uri": "https://localhost:8080/"
        },
        "id": "wZ3ypruBax0j",
        "outputId": "f41bde6d-41f7-4f08-f0af-1190d06148dd"
      },
      "execution_count": 47,
      "outputs": [
        {
          "output_type": "execute_result",
          "data": {
            "text/plain": [
              "4"
            ]
          },
          "metadata": {},
          "execution_count": 47
        }
      ]
    },
    {
      "cell_type": "markdown",
      "source": [
        "####**DESAFIO 6**\n",
        "\n",
        "Escreva uma função chamada **somaElementos** que receba uma lista cujos elementos são números inteiros e retorne a soma dos elementos. Se, por exemplo, a função receber a lista [4, 1, -8, 2], deverá retornar o valor -1.\n",
        "\n",
        "Escreva um programa para testar a sua função."
      ],
      "metadata": {
        "id": "Y4kQ2H4GbgqJ"
      }
    },
    {
      "cell_type": "code",
      "source": [
        "def somaElementos(lista):\n",
        "  soma = 0\n",
        "  for elementos in lista:\n",
        "    if isinstance(elementos, int):\n",
        "      soma = soma + elementos\n",
        "  return soma\n",
        "\n",
        "somaElementos([4,1-8,2])"
      ],
      "metadata": {
        "colab": {
          "base_uri": "https://localhost:8080/"
        },
        "id": "qn9xCrynbh25",
        "outputId": "8b2d27ef-74ad-4010-c69c-da095f8c6b62"
      },
      "execution_count": 72,
      "outputs": [
        {
          "output_type": "execute_result",
          "data": {
            "text/plain": [
              "-1"
            ]
          },
          "metadata": {},
          "execution_count": 72
        }
      ]
    },
    {
      "cell_type": "markdown",
      "source": [
        "####**DESAFIO 7**\n",
        "\n",
        "Escreva uma função chamada **mediaElementos** que receba uma lista cujos elementos são números inteiros e retorne a média aritmética dos elementos. Se, por exemplo, a função receber a lista [4, 3, 7, 2], deverá retornar o valor 4.0.\n",
        "\n",
        "Escreva um programa para testar a sua função."
      ],
      "metadata": {
        "id": "tWlGJa_jbz3W"
      }
    },
    {
      "cell_type": "code",
      "source": [
        "def mediaElemento(lista):\n",
        "  soma = 0\n",
        "  if len(lista) > 0:\n",
        "    for elementos in lista:\n",
        "      soma = soma + elementos\n",
        "  else:\n",
        "    return soma\n",
        "  return soma / len(lista)\n",
        "\n",
        "mediaElemento([4,3,7,2])"
      ],
      "metadata": {
        "colab": {
          "base_uri": "https://localhost:8080/"
        },
        "id": "i63C1jxbb2BG",
        "outputId": "87f64f5f-a4cf-4555-a733-a5d598d4ee84"
      },
      "execution_count": 57,
      "outputs": [
        {
          "output_type": "execute_result",
          "data": {
            "text/plain": [
              "4.0"
            ]
          },
          "metadata": {},
          "execution_count": 57
        }
      ]
    },
    {
      "cell_type": "markdown",
      "source": [
        "####**DESAFIO 8**\n",
        "\n",
        "Escreva uma nova versão da função do desafio anterior para utilizar a função **somaElementos**, também já feita. Não se esqueça de copiar o código dessa função para a nova célula.\n",
        "\n",
        "Escreva um programa para testar a sua função."
      ],
      "metadata": {
        "id": "ZNkUx7_fdSD-"
      }
    },
    {
      "cell_type": "code",
      "source": [
        "def mediaElemento(lista):\n",
        "  soma = 0\n",
        "  if len(lista) > 0:\n",
        "    soma = somaElementos(lista)\n",
        "  else:\n",
        "    return soma\n",
        "  return soma / len(lista)\n",
        "\n",
        "mediaElemento([4,3,7,2])"
      ],
      "metadata": {
        "colab": {
          "base_uri": "https://localhost:8080/"
        },
        "id": "4LWlohKjdTQe",
        "outputId": "90c8122c-0650-45f8-9a8c-f94588340a36"
      },
      "execution_count": 58,
      "outputs": [
        {
          "output_type": "execute_result",
          "data": {
            "text/plain": [
              "4.0"
            ]
          },
          "metadata": {},
          "execution_count": 58
        }
      ]
    },
    {
      "cell_type": "markdown",
      "source": [
        "####**DESAFIO 9**\n",
        "\n",
        "Escreva uma função chamada **elementosIguais** que receba duas listas de mesmo tamanho e sem repetição de elementos e retorne:\n",
        "* True, se as listas contêm os mesmos elementos, independentemente de suas posições nas listas;\n",
        "* False, em caso contrário.\n",
        "\n",
        "Se, por exemplo, a função receber as listas [12, True, -1, 'Iguais?'] e [True, -1, 'Iguais?', 12], deverá retornar o valor True.\n",
        "\n",
        "Escreva um programa para testar a sua função."
      ],
      "metadata": {
        "id": "9RzoDb25dq2d"
      }
    },
    {
      "cell_type": "code",
      "source": [
        "def elementosIguais(lista1, lista2):\n",
        "  retorno = False\n",
        "  for elementos in lista1:\n",
        "    if elementos in lista2:\n",
        "      retorno = True\n",
        "    else:\n",
        "      return False\n",
        "  return retorno\n",
        "\n",
        "print(elementosIguais([1,2,3,4,6], [1,2,3,4,5]))\n",
        "print(elementosIguais([12, True, -1, 'Iguais?'] , [True, -1, 'Iguais?', 12]))"
      ],
      "metadata": {
        "colab": {
          "base_uri": "https://localhost:8080/"
        },
        "id": "KEpjG4MudsAz",
        "outputId": "c4a9fc66-aacb-4094-9632-f67beaacb268"
      },
      "execution_count": 68,
      "outputs": [
        {
          "output_type": "stream",
          "name": "stdout",
          "text": [
            "False\n",
            "True\n"
          ]
        }
      ]
    },
    {
      "cell_type": "markdown",
      "source": [
        "####**DESAFIO 10**\n",
        "\n",
        "Escreva uma função chamada **sumarizaQtd** que receba uma lista onde cada elemento é uma sublista com o seguinte formato:\n",
        "\n",
        "`[nome do produto, [lista com quantidades do produto nas filiais da empresa]]`\n",
        "\n",
        "\n",
        "Se, por exemplo, a função receber a lista\n",
        "\n",
        "`[['Detergente', [8, 7, 9, 2, 10]], ['Sabonete', [7, 2, 6, 5, 8, 1]], ['Escova', [9, 9, 10, 0, 9, 1]]]`\n",
        "\n",
        "deverá retornar a lista\n",
        "\n",
        "[`['Detergente', 36], ['Sabonete', 29], ['Escova', 38]]`\n",
        "\n",
        "\n",
        "\n",
        "Escreva um programa para testar a sua função. O seu programa deverá utilizar a função **somaElementos** feita em desafio anterior. Copie-a e utilize-a para calcular a soma da sublista de quantidades de cada produto."
      ],
      "metadata": {
        "id": "xIEuVRmie5xg"
      }
    },
    {
      "cell_type": "code",
      "source": [
        "def sumarizaQtd(lista):\n",
        "  qtdProdutos = 0\n",
        "  nomeProduto = ''\n",
        "  produto = []\n",
        "  for elementos in lista:\n",
        "    nomeProduto = ''\n",
        "    qtdProdutos = 0\n",
        "    for elementosSub in elementos:\n",
        "      if isinstance(elementosSub, list):\n",
        "        qtdProdutos = somaElementos(elementosSub)\n",
        "      if isinstance(elementosSub, str):\n",
        "        nomeProduto = elementosSub\n",
        "    produto.extend([[nomeProduto, qtdProdutos]])\n",
        "  return produto\n",
        "\n",
        "sumarizaQtd([['Detergente', [8, 7, 9, 2, 10]], ['Sabonete', [7, 2, 6, 5, 8, 1]], ['Escova', [9, 9, 10, 0, 9, 1]]])"
      ],
      "metadata": {
        "colab": {
          "base_uri": "https://localhost:8080/"
        },
        "id": "b2OnNJt9e7In",
        "outputId": "4ae63e3a-893a-4ca5-e94c-10815f980dac"
      },
      "execution_count": 110,
      "outputs": [
        {
          "output_type": "execute_result",
          "data": {
            "text/plain": [
              "[['Detergente', 36], ['Sabonete', 29], ['Escova', 38]]"
            ]
          },
          "metadata": {},
          "execution_count": 110
        }
      ]
    },
    {
      "cell_type": "markdown",
      "source": [
        "##Função de pesquisa ou busca sequencial"
      ],
      "metadata": {
        "id": "5KIzzPu0kuWo"
      }
    },
    {
      "cell_type": "markdown",
      "source": [
        "###Exemplos"
      ],
      "metadata": {
        "id": "0mT9qf_1kwja"
      }
    },
    {
      "cell_type": "markdown",
      "source": [
        "####Exemplos - Função de pesquisa ou busca sequencial"
      ],
      "metadata": {
        "id": "ZkGRWhpUkyY3"
      }
    },
    {
      "cell_type": "code",
      "source": [
        "lAlunos = ['Mickey', 'Pateta', 'Minnie', 'Pato Donald']\n",
        "nome = input('Digite o nome de um aluno: ')\n",
        "if nome in lAlunos:\n",
        "  pos = lAlunos.index(nome)\n",
        "  print(f'Aluno encontrado na posição: {pos}')\n",
        "else:\n",
        "  print(f'Aluno não encontrado!')"
      ],
      "metadata": {
        "colab": {
          "base_uri": "https://localhost:8080/"
        },
        "id": "xOpvkyGkk0ZD",
        "outputId": "b8aad037-da5d-4acc-8a7e-a9ef059ecf2d"
      },
      "execution_count": 115,
      "outputs": [
        {
          "output_type": "stream",
          "name": "stdout",
          "text": [
            "Digite o nome de um aluno: Pateta\n",
            "Aluno encontrado na posição: 1\n"
          ]
        }
      ]
    },
    {
      "cell_type": "code",
      "source": [
        "def buscaSeq(lista, chave):\n",
        "  for elementos in range(len(lista)):\n",
        "    if lista[elementos] == chave:\n",
        "      return elementos\n",
        "  return None\n",
        "\n",
        "lAlunos = ['Mickey', 'Pateta', 'Minnie', 'Pato Donaldo']\n",
        "nome = input('Digite o nome de um aluno: ')\n",
        "pos = buscaSeq(lAlunos, nome)\n",
        "if pos != None:\n",
        "  print(f'Aluno encontrado na posição: {pos}')\n",
        "else:\n",
        "  print('Aluno não encontrado!')\n",
        "\n"
      ],
      "metadata": {
        "colab": {
          "base_uri": "https://localhost:8080/"
        },
        "id": "x2oOmAwElo7o",
        "outputId": "b13a7cfa-4078-4d23-e11d-1911e6248be8"
      },
      "execution_count": 117,
      "outputs": [
        {
          "output_type": "stream",
          "name": "stdout",
          "text": [
            "Digite o nome de um aluno: pateta\n",
            "Aluno não encontrado!\n"
          ]
        }
      ]
    },
    {
      "cell_type": "code",
      "source": [
        "def buscaSeq(lista, chave):\n",
        "  #for elementos in range(len(lista)):\n",
        "  for (indice, elementos) in enumerate(lista):\n",
        "    #if lista[elementos][0] == chave:\n",
        "    if elementos[0] == chave:\n",
        "      return elementos\n",
        "  return None\n",
        "\n",
        "lAlunos = [['Mickey', 8.7], ['Pateta', 6.5], ['Minnie', 9.9], ['Pato Donald', 7.2]]\n",
        "nome = input('Digite o nome de um aluno: ')\n",
        "pos = buscaSeq(lAlunos, nome)\n",
        "if pos != None:\n",
        "  print(f'Aluno encontrado na posição: {pos}')\n",
        "else:\n",
        "  print('Aluno não encontrado!')"
      ],
      "metadata": {
        "colab": {
          "base_uri": "https://localhost:8080/"
        },
        "id": "c6K9ZOMcmWf8",
        "outputId": "68c3765f-9a9e-4602-8be4-5982bcdccb22"
      },
      "execution_count": 123,
      "outputs": [
        {
          "output_type": "stream",
          "name": "stdout",
          "text": [
            "Digite o nome de um aluno: Pateta\n",
            "Aluno encontrado na posição: ['Pateta', 6.5]\n"
          ]
        }
      ]
    },
    {
      "cell_type": "markdown",
      "source": [
        "####Exemplos - Manipulação recursiva de sublistas\n"
      ],
      "metadata": {
        "id": "vQToWrqlnaSt"
      }
    },
    {
      "cell_type": "code",
      "source": [
        "def imprimeLista(lista):\n",
        "  for elementos in lista:\n",
        "    if type(elementos) == list:\n",
        "      imprimeLista(elementos)\n",
        "    else:\n",
        "      print(elementos)\n",
        "  return ''\n",
        "\n",
        "lAlunos = [['Mickey', 8.7], ['Pateta', 6.5], ['Minnie', 9.9], ['Pato Donald', 7.2]]\n",
        "print(imprimeLista(lAlunos))"
      ],
      "metadata": {
        "colab": {
          "base_uri": "https://localhost:8080/"
        },
        "id": "Km0MjPXlncSD",
        "outputId": "4f308445-e652-45a4-a5d2-711e92771159"
      },
      "execution_count": 126,
      "outputs": [
        {
          "output_type": "stream",
          "name": "stdout",
          "text": [
            "Mickey\n",
            "8.7\n",
            "Pateta\n",
            "6.5\n",
            "Minnie\n",
            "9.9\n",
            "Pato Donald\n",
            "7.2\n",
            "\n"
          ]
        }
      ]
    },
    {
      "cell_type": "code",
      "source": [
        "def calculaSoma(lista):\n",
        "  soma = 0\n",
        "  for elementos in lista:\n",
        "    if type(elementos) == list:\n",
        "      soma = soma + calculaSoma(elementos)\n",
        "    else:\n",
        "      soma = soma + elementos\n",
        "  return soma\n",
        "\n",
        "listaNumerica = [-12, [54, 0], 10, [8, 7, [5, 2]]]\n",
        "print(calculaSoma(listaNumerica))"
      ],
      "metadata": {
        "colab": {
          "base_uri": "https://localhost:8080/"
        },
        "id": "c0dfuekgn6Ke",
        "outputId": "bb8fcec4-7477-4061-cd68-b6d0c8a4f652"
      },
      "execution_count": 127,
      "outputs": [
        {
          "output_type": "stream",
          "name": "stdout",
          "text": [
            "74\n"
          ]
        }
      ]
    },
    {
      "cell_type": "markdown",
      "source": [
        "###Desafios"
      ],
      "metadata": {
        "id": "oNfJuQ9_oZag"
      }
    },
    {
      "cell_type": "markdown",
      "source": [
        "####**DESAFIO 1**\n",
        "\n",
        "Escreva uma função recursiva chamada **somaElementosV1** que receba uma lista com valores inteiros e reais como parâmetro e retorne a soma de seus elementos. Se, por exemplo, a função receber a lista [2, [2, [1, 8]], 8, [-3.14159, [3, [6, 9]]]], deverá retornar o valor 35.85841 (2 + 2 + 1 + 8 + 8 - 3.14159 + 3 + 6 + 9).\n",
        "\n",
        "Escreva um programa para realizar um teste da sua função."
      ],
      "metadata": {
        "id": "g0uI7QuDobKa"
      }
    },
    {
      "cell_type": "code",
      "source": [
        "def somaElementosV1(lista):\n",
        "  soma = 0\n",
        "  for elementos in lista:\n",
        "    if type(elementos) == list:\n",
        "      soma = soma + somaElementosV1(elementos)\n",
        "    else:\n",
        "      soma = soma + elementos\n",
        "  return soma\n",
        "\n",
        "listaNumerica =  [2, [2, [1, 8]], 8, [-3.14159, [3, [6, 9]]]]\n",
        "print(somaElementosV1(listaNumerica))"
      ],
      "metadata": {
        "colab": {
          "base_uri": "https://localhost:8080/"
        },
        "id": "Vhnvvr_SogU2",
        "outputId": "acba195a-a203-45e2-a7ec-01a2b0df58d3"
      },
      "execution_count": 128,
      "outputs": [
        {
          "output_type": "stream",
          "name": "stdout",
          "text": [
            "35.85841\n"
          ]
        }
      ]
    },
    {
      "cell_type": "markdown",
      "source": [
        "####**DESAFIO 2**\n",
        "\n",
        "Escreva uma função recursiva chamada **somaElementosV2** que receba uma lista com valores de vários tipos como parâmetro e retorne a soma de seus elementos inteiros e reais. Se, por exemplo, a função receber a lista ['Python', 2, [2, True, [1, 8]], 8, [-3.14159, [3, 'Colab', [6, 9]]]], deverá retornar o valor 35.85841 (2 + 2 + 1 + 8 + 8 - 3.14159 + 3 + 6 + 9).\n",
        "\n",
        "Escreva um programa para realizar um teste da sua função.\n",
        "\n",
        "Dica: copie a função do desafio anterior e ajuste-a para somar apenas elementos inteiros e reais."
      ],
      "metadata": {
        "id": "0u5DCrYJpBBs"
      }
    },
    {
      "cell_type": "code",
      "source": [
        "def somaElementosV2(lista):\n",
        "  soma = 0\n",
        "  for elementos in lista:\n",
        "    if type(elementos) == list:\n",
        "      soma = soma + somaElementosV2(elementos)\n",
        "    elif type(elementos) in (int, float):\n",
        "      soma = soma + elementos\n",
        "  return soma\n",
        "\n",
        "listaNumerica =  ['Python', 2, [2, True, [1, 8]], 8, [-3.14159, [3, 'Colab', [6, 9]]]]\n",
        "print(somaElementosV2(listaNumerica))"
      ],
      "metadata": {
        "colab": {
          "base_uri": "https://localhost:8080/"
        },
        "id": "Cftte0M3pCNz",
        "outputId": "1d2b2786-3c23-47d0-9cf5-50efffa24766"
      },
      "execution_count": 129,
      "outputs": [
        {
          "output_type": "stream",
          "name": "stdout",
          "text": [
            "35.85841\n"
          ]
        }
      ]
    },
    {
      "cell_type": "markdown",
      "source": [
        "####**DESAFIO 3**\n",
        "\n",
        "Escreva uma função chamada **alteraNota** que receba três parâmetros:\n",
        "* uma lista cujos elementos são sublistas com o  formato `[nome do aluno, nota do aluno]`;\n",
        "* um índice de um de seus elementos;\n",
        "* a nova nota do aluno relativa ao índice recebido.\n",
        "\n",
        "A função deve substituir a nota atual do aluno em questão pela nota recebida como parãmetro. Se, por exemplo, a função receber a lista [['Mickey', 8.7], ['Pateta', 6.5], ['Minnie', 9.9], ['Pato Donald', 7.2]], o índice 2 e a nota 10.0, deverá alterar a nota da aluna Minnie para 10.0.\n",
        "\n",
        "Escreva um programa que leia um nome de um aluno e, se o aluno fizer parte da turma, leia a nova nota desse aluno e altere a lista original da turma, utilizando a função **alteraNota**. Nesse caso, exiba a lista alterada. Se o aluno não fizer parte da turma, exiba apenas uma mensagem comentando tal fato.\n",
        "\n",
        "Para facilitar, utilize a lista exemplo acima como sendo a lista da turma. Se preferir, crie a sua própria lista de teste.\n",
        "\n",
        "Importante: copie o código da função de busca sequencial (buscaSeq) apresentado neste roteiro para o seu programa para utilizá-lo no bloco principal."
      ],
      "metadata": {
        "id": "m4UGOfybp2Xu"
      }
    },
    {
      "cell_type": "code",
      "source": [
        "def alteraNota(lista, indice, novaNota):\n",
        "  for (i, elementos) in enumerate(lista):\n",
        "    if i == indice:\n",
        "      elementos[1] = novaNota\n",
        "      return elementos\n",
        "  return 'Índice não encontrado!'\n",
        "\n",
        "lAlunos = [['Mickey', 8.7], ['Pateta', 6.5], ['Minnie', 9.9], ['Pato Donald', 7.2]]\n",
        "print(alteraNota(lAlunos, 2, 10))"
      ],
      "metadata": {
        "colab": {
          "base_uri": "https://localhost:8080/"
        },
        "id": "_9zMaNfXp3ir",
        "outputId": "9a22a02b-3c86-4217-ca32-d94e2b6d02a7"
      },
      "execution_count": 153,
      "outputs": [
        {
          "output_type": "stream",
          "name": "stdout",
          "text": [
            "Índice não encontrado!\n"
          ]
        }
      ]
    },
    {
      "cell_type": "markdown",
      "source": [
        "####**DESAFIO 4**\n",
        "\n",
        "Escreva uma função chamada **retornaMenor** que receba uma lista cujos elementos são inteiros e reais e/ou sublistas de inteiros e reais e retorne o menor elemento. Se, por exemplo, a função receber a lista [109, [9.9, [-5, -10]], [345.67, -171], 123], deverá retornar o valor -171.\n",
        "\n",
        "Escreva um programa para realizar, pelo menos, dois testes da sua função.\n",
        "\n",
        "Dica: não se esqueça de testar também o valor retornado pela chamada recursiva da função. Talvez ele seja o menor de todos!"
      ],
      "metadata": {
        "id": "Phk-URMOsf9U"
      }
    },
    {
      "cell_type": "code",
      "source": [
        "def retornaMenor(lista):\n",
        "  menorValor = 0\n",
        "  for elementos in lista:\n",
        "    if type(elementos) == list:\n",
        "      menorValorSubLista = retornaMenor(elementos)\n",
        "      if menorValorSubLista < menorValor:\n",
        "        menorValor = menorValorSubLista\n",
        "    elif type(elementos) in (float, int):\n",
        "      if elementos < menorValor:\n",
        "        menorValor = elementos\n",
        "\n",
        "  return menorValor\n",
        "\n",
        "listaNumerica = [109, [9.9, [-5, -10]], [345.67, -171], 123]\n",
        "print(retornaMenor(listaNumerica))\n",
        ""
      ],
      "metadata": {
        "colab": {
          "base_uri": "https://localhost:8080/"
        },
        "id": "FVLen7aeshT7",
        "outputId": "10654417-2065-47ae-b550-ddfb711c1eb8"
      },
      "execution_count": 154,
      "outputs": [
        {
          "output_type": "stream",
          "name": "stdout",
          "text": [
            "-171\n"
          ]
        }
      ]
    },
    {
      "cell_type": "markdown",
      "source": [
        "####**DESAFIO 5**\n",
        "\n",
        "1. Escreva uma função chamada **geraLista** que gere\n",
        "10000 valores aleatórios no intervalo [0, 1600] e retorne uma lista com as quantidades de valores gerados no intervalo [0, 12]. Ou seja, a lista deve conter a quantidade de valores gerados iguais a 0, a 1, a 2, a 3, ..., a 11 e a 12. Exemplo de uma lista retornada pela função: [2, 5, 0, 4, 6, 1, 0, 10, 3, 9, 8, 1, 8]. Nesse caso, por exemplo, a lista indicaria que o valor 1 foi gerado 5 vezes e o valor 7, 10 vezes.\n",
        "\n",
        "2. Escreva uma função chamada **geraHistograma** que receba a lista gerada pela função anterior e exiba um histograma com o layout do exemplo a seguir, onde as quantidades são substituídas pelo caractere '*':\n",
        "\n",
        "`0\t**`\n",
        "\n",
        "`1\t*****`\n",
        "\n",
        "`2`\n",
        "\n",
        "`3\t****`\n",
        "\n",
        "`... algumas linhas cortadas ...`\n",
        "\n",
        "`11\t*`\n",
        "\n",
        "`12\t********`\n",
        "\n",
        "\n",
        "3. Escreva um programa para testar as suas funções: primeiro, gere a lista com os valores e depois, exiba o histograma. Execu"
      ],
      "metadata": {
        "id": "oLChCKfytx-O"
      }
    },
    {
      "cell_type": "code",
      "source": [
        "import random\n",
        "\n",
        "def geraLista():\n",
        "  listaRetorno = []\n",
        "  indice = 0\n",
        "  while indice < 10000:\n",
        "    listaRetorno.extend([random.randint(0, 1600)])\n",
        "    indice = indice + 1\n",
        "  return listaRetorno\n",
        "\n",
        "print(geraLista())"
      ],
      "metadata": {
        "colab": {
          "base_uri": "https://localhost:8080/"
        },
        "id": "54jMOP_mtzTg",
        "outputId": "059ee660-4dfc-4b34-aea4-714f1a655645"
      },
      "execution_count": 172,
      "outputs": [
        {
          "output_type": "stream",
          "name": "stdout",
          "text": [
            "[432, 348, 1561, 306, 1591, 1322, 392, 1467, 1350, 1264, 144, 517, 1198, 649, 1233, 268, 1032, 518, 1099, 29, 991, 385, 814, 732, 1183, 433, 96, 1270, 960, 707, 100, 104, 311, 911, 659, 41, 378, 910, 214, 182, 884, 1008, 810, 92, 991, 1039, 1106, 1024, 129, 70, 1043, 0, 1191, 124, 1379, 1108, 347, 987, 28, 1282, 1242, 1225, 752, 458, 1598, 783, 1061, 669, 1154, 274, 1119, 1576, 1363, 459, 685, 863, 2, 183, 98, 225, 1263, 78, 1553, 1006, 405, 1441, 440, 806, 893, 1196, 861, 13, 1100, 643, 1458, 662, 86, 276, 756, 1147, 1336, 1272, 12, 1308, 367, 914, 980, 1332, 1131, 653, 1335, 1310, 708, 1283, 730, 23, 608, 417, 888, 1518, 41, 793, 319, 1467, 617, 25, 514, 1532, 548, 605, 915, 1548, 1360, 451, 896, 5, 996, 404, 1038, 1050, 1048, 603, 94, 770, 807, 241, 1309, 52, 1028, 1439, 616, 589, 121, 1053, 418, 1123, 1391, 1191, 520, 1302, 321, 355, 673, 909, 498, 795, 1501, 439, 1236, 1232, 1086, 770, 935, 1474, 1121, 151, 532, 1502, 243, 229, 1277, 82, 1384, 1261, 1031, 599, 1039, 1513, 1043, 1039, 456, 784, 121, 229, 1377, 1177, 1436, 1582, 915, 171, 1587, 636, 658, 981, 1126, 513, 531, 1014, 1367, 320, 262, 958, 1476, 883, 763, 674, 206, 703, 29, 1020, 1017, 340, 1253, 502, 102, 945, 301, 1534, 1587, 979, 99, 606, 1131, 852, 1049, 85, 1112, 1133, 32, 257, 1331, 353, 341, 964, 1039, 1324, 1439, 980, 1007, 213, 679, 868, 1098, 484, 1142, 1013, 408, 1534, 1454, 402, 1302, 348, 69, 410, 1136, 1414, 1319, 223, 499, 1038, 1350, 544, 1337, 1063, 381, 334, 358, 290, 1026, 1009, 1094, 1565, 1032, 61, 1336, 426, 1499, 859, 17, 1420, 445, 309, 345, 228, 1298, 213, 67, 261, 968, 1098, 169, 894, 177, 85, 167, 1440, 822, 167, 406, 484, 939, 1302, 809, 622, 1103, 1319, 161, 184, 936, 671, 701, 1223, 981, 1265, 844, 511, 1157, 713, 107, 1153, 297, 1483, 637, 38, 457, 1585, 440, 496, 1307, 551, 247, 73, 1175, 982, 535, 1365, 728, 632, 317, 498, 339, 10, 1441, 764, 922, 1240, 830, 1189, 1488, 1219, 438, 21, 942, 1075, 1431, 611, 325, 681, 939, 741, 1417, 1288, 122, 427, 1464, 846, 113, 1491, 1340, 253, 463, 285, 758, 517, 231, 425, 83, 1507, 847, 1094, 921, 1065, 885, 1583, 416, 1121, 1135, 273, 1336, 546, 477, 490, 665, 325, 485, 222, 758, 996, 541, 718, 401, 809, 1121, 62, 305, 371, 1344, 1376, 949, 1495, 1452, 319, 673, 727, 74, 1135, 109, 978, 957, 1425, 1357, 584, 196, 469, 1265, 17, 1079, 1130, 457, 887, 222, 460, 1356, 1251, 1425, 294, 101, 1049, 1409, 1239, 498, 133, 185, 187, 1553, 608, 444, 1378, 845, 1532, 1233, 1290, 48, 52, 201, 198, 1310, 1065, 601, 540, 1221, 1147, 1356, 1517, 1404, 737, 341, 629, 1078, 243, 355, 413, 1227, 353, 55, 92, 1003, 912, 1158, 687, 259, 564, 1242, 965, 1424, 1514, 1508, 782, 1026, 1400, 965, 624, 1182, 135, 238, 0, 144, 1466, 210, 1162, 997, 1305, 1128, 575, 326, 812, 1573, 740, 1408, 68, 1396, 331, 1227, 931, 646, 1249, 168, 1065, 157, 397, 1157, 1291, 533, 904, 1110, 4, 120, 1256, 819, 873, 843, 696, 1090, 1042, 670, 1311, 520, 232, 1216, 1537, 42, 1365, 960, 1019, 1231, 827, 239, 1257, 362, 545, 1179, 1483, 267, 893, 392, 12, 1417, 746, 779, 870, 803, 387, 1037, 43, 531, 1514, 440, 260, 1532, 824, 1073, 889, 748, 914, 548, 623, 1007, 412, 120, 766, 86, 1445, 1513, 1306, 927, 282, 268, 1482, 797, 1574, 836, 563, 619, 508, 803, 243, 236, 609, 66, 810, 1021, 136, 1552, 865, 1438, 341, 892, 1599, 219, 811, 1280, 1501, 1234, 755, 477, 1578, 1597, 1206, 115, 738, 653, 475, 747, 1086, 1384, 1252, 1437, 631, 947, 937, 516, 1461, 1095, 1373, 1554, 1304, 756, 282, 1500, 1287, 307, 64, 1488, 744, 1451, 480, 1310, 464, 778, 608, 331, 596, 586, 1055, 1315, 1517, 304, 1058, 411, 1191, 723, 1219, 372, 752, 1292, 499, 874, 443, 484, 1507, 1364, 842, 754, 216, 1380, 328, 725, 375, 792, 1435, 306, 811, 746, 642, 1462, 176, 622, 600, 608, 1589, 689, 1583, 1539, 376, 415, 156, 916, 1386, 1053, 1302, 399, 111, 202, 1487, 546, 114, 1511, 105, 100, 1377, 723, 622, 1107, 1153, 85, 545, 71, 561, 1529, 170, 925, 1403, 559, 1051, 1391, 1214, 1238, 183, 609, 573, 1454, 74, 214, 1459, 1581, 567, 760, 1466, 746, 815, 601, 1309, 771, 1184, 1558, 177, 321, 504, 1397, 1475, 236, 441, 331, 176, 606, 809, 310, 787, 293, 1521, 693, 1204, 394, 886, 707, 861, 1437, 1077, 1313, 1211, 1523, 780, 252, 95, 891, 737, 1412, 1520, 122, 647, 1089, 601, 14, 1025, 707, 1596, 816, 1205, 454, 1229, 1238, 1315, 1342, 852, 424, 94, 1040, 1039, 354, 1135, 915, 375, 1555, 915, 661, 993, 447, 635, 369, 560, 1587, 746, 372, 1350, 1027, 1327, 1165, 670, 577, 905, 29, 1507, 330, 447, 961, 343, 1151, 433, 640, 1153, 306, 1028, 556, 783, 638, 563, 1399, 88, 965, 456, 632, 842, 389, 422, 157, 1342, 142, 58, 1151, 291, 50, 1189, 871, 104, 289, 859, 1361, 1333, 19, 972, 956, 1224, 286, 421, 458, 547, 1198, 1409, 582, 1492, 899, 934, 95, 735, 304, 939, 235, 820, 1190, 1151, 441, 1351, 118, 934, 296, 891, 120, 244, 988, 1124, 1205, 792, 78, 1233, 1544, 1436, 1278, 70, 1123, 946, 297, 45, 1593, 1081, 728, 17, 1155, 488, 955, 163, 1090, 271, 366, 1422, 396, 26, 1197, 323, 736, 846, 786, 995, 452, 1330, 1380, 705, 852, 758, 324, 265, 658, 1038, 966, 3, 1065, 1520, 719, 1537, 909, 1118, 1433, 1302, 1236, 356, 1479, 442, 941, 728, 1178, 285, 0, 898, 602, 1262, 1050, 868, 218, 417, 766, 397, 925, 1063, 1138, 1534, 1179, 1463, 215, 182, 1115, 172, 888, 438, 431, 96, 3, 67, 506, 499, 545, 1387, 193, 1336, 1488, 905, 894, 74, 667, 1183, 190, 1148, 1419, 192, 940, 1363, 534, 665, 1122, 939, 233, 224, 526, 755, 180, 556, 96, 167, 351, 1208, 609, 608, 1211, 1475, 1187, 519, 50, 1161, 731, 941, 320, 633, 1399, 1215, 1220, 751, 645, 593, 742, 263, 320, 1151, 1250, 726, 834, 1367, 905, 824, 529, 319, 843, 1290, 1121, 887, 665, 1459, 1540, 258, 1238, 1002, 526, 901, 84, 893, 1300, 1252, 581, 1559, 69, 450, 796, 376, 88, 162, 993, 956, 1522, 544, 769, 610, 380, 1263, 1216, 351, 1274, 1383, 562, 750, 920, 1562, 600, 407, 1116, 191, 1518, 518, 1564, 542, 169, 401, 514, 762, 872, 176, 1590, 998, 970, 617, 1112, 463, 1504, 1217, 1580, 421, 1400, 923, 324, 698, 1213, 681, 131, 1306, 1089, 430, 939, 100, 845, 1120, 1144, 1327, 855, 636, 1362, 269, 141, 306, 1034, 1187, 1549, 748, 907, 1351, 482, 1379, 1271, 1533, 404, 258, 1438, 909, 1555, 1501, 1449, 486, 1330, 1286, 400, 809, 259, 1261, 1302, 1537, 357, 1356, 1351, 1563, 849, 1311, 391, 896, 14, 1060, 124, 1199, 661, 896, 1161, 724, 406, 1151, 690, 153, 1085, 807, 576, 1095, 1312, 1034, 894, 783, 911, 1511, 253, 509, 245, 711, 760, 1339, 211, 131, 512, 748, 778, 37, 1050, 1474, 1577, 1233, 1089, 1509, 121, 274, 1228, 1025, 1581, 1119, 710, 761, 729, 1378, 509, 460, 716, 358, 1298, 443, 1373, 1460, 956, 1559, 885, 545, 23, 228, 1301, 178, 75, 1488, 1314, 1565, 1168, 1014, 533, 114, 1125, 1580, 1550, 1439, 333, 494, 1040, 508, 607, 426, 615, 454, 1081, 203, 163, 1561, 1092, 706, 945, 499, 662, 550, 383, 1545, 591, 727, 550, 1070, 1564, 605, 1477, 1222, 1399, 43, 666, 766, 1215, 1242, 1129, 1384, 987, 1573, 815, 908, 870, 1385, 1574, 1068, 1355, 592, 1507, 116, 1233, 1111, 1530, 1222, 779, 78, 1177, 819, 1588, 1058, 1154, 617, 652, 1336, 1501, 910, 998, 722, 757, 1327, 2, 614, 433, 448, 858, 1262, 1206, 947, 1131, 1103, 995, 1037, 999, 1257, 82, 199, 1111, 652, 1042, 149, 1054, 998, 1286, 1522, 1591, 607, 1182, 892, 909, 785, 1292, 562, 468, 788, 850, 708, 584, 298, 939, 612, 1586, 8, 770, 639, 451, 600, 151, 1307, 1574, 316, 926, 1110, 842, 1478, 64, 2, 1451, 1072, 1133, 48, 1315, 639, 233, 1264, 1339, 1177, 1150, 1200, 1577, 1093, 903, 1416, 899, 39, 1594, 157, 1347, 763, 600, 663, 1024, 1150, 230, 852, 732, 1436, 1271, 688, 449, 849, 22, 34, 748, 1485, 852, 266, 1118, 914, 44, 313, 403, 461, 950, 77, 26, 873, 294, 1569, 268, 378, 15, 1046, 1189, 1163, 359, 656, 1410, 1306, 697, 1134, 491, 1063, 69, 1133, 1525, 746, 1259, 98, 625, 781, 742, 1544, 764, 1040, 981, 905, 400, 257, 90, 630, 681, 1392, 1153, 792, 687, 77, 157, 1112, 1070, 874, 1515, 697, 617, 224, 1519, 299, 795, 1191, 961, 392, 515, 1463, 741, 674, 151, 1572, 16, 230, 1343, 480, 1324, 1011, 147, 1198, 185, 1077, 1409, 1409, 761, 999, 1163, 1210, 284, 871, 575, 782, 22, 295, 1083, 1570, 1442, 369, 723, 1101, 1513, 1395, 395, 723, 1249, 1141, 842, 1491, 312, 1050, 1486, 759, 1295, 1218, 390, 1053, 1561, 177, 1415, 241, 960, 706, 956, 1233, 559, 1564, 975, 1150, 263, 976, 20, 239, 871, 622, 1569, 1111, 376, 309, 25, 300, 697, 371, 896, 1275, 1597, 313, 510, 200, 865, 27, 470, 725, 1406, 231, 1333, 840, 1455, 1478, 132, 383, 57, 1462, 961, 883, 772, 1010, 738, 1062, 141, 555, 1516, 53, 953, 1279, 1337, 1358, 462, 73, 164, 573, 856, 1498, 1534, 22, 356, 116, 1232, 326, 834, 343, 262, 593, 945, 230, 1122, 467, 1510, 804, 631, 888, 784, 906, 884, 11, 154, 897, 260, 436, 845, 226, 934, 127, 63, 626, 788, 243, 851, 774, 35, 1159, 691, 1371, 1441, 1087, 732, 906, 1448, 1227, 1052, 952, 1011, 846, 1277, 985, 144, 1492, 841, 1489, 407, 351, 484, 1325, 1164, 1099, 1129, 220, 1055, 1496, 575, 1251, 1084, 145, 1377, 1379, 1441, 248, 225, 164, 113, 1178, 821, 1055, 1085, 1042, 949, 1552, 206, 1281, 1533, 1392, 935, 1360, 1080, 213, 199, 1413, 682, 1046, 1331, 46, 1130, 261, 86, 1111, 569, 1221, 1074, 661, 617, 498, 1087, 924, 642, 672, 177, 1164, 261, 1058, 380, 438, 760, 560, 318, 1493, 635, 144, 125, 148, 1134, 197, 501, 847, 300, 624, 694, 859, 1222, 1376, 517, 334, 1411, 124, 641, 502, 875, 580, 1567, 1273, 1394, 603, 225, 1351, 678, 175, 703, 275, 1214, 1414, 1262, 461, 1567, 1078, 1302, 350, 176, 1511, 578, 1147, 1354, 454, 1030, 146, 251, 797, 735, 1544, 305, 341, 1183, 428, 497, 903, 456, 384, 313, 1238, 416, 292, 1454, 430, 1098, 169, 1331, 993, 1225, 27, 586, 1533, 562, 380, 650, 949, 907, 1066, 604, 641, 1569, 230, 600, 767, 329, 1213, 516, 936, 312, 67, 161, 299, 1077, 233, 573, 1133, 1204, 864, 194, 163, 1231, 1327, 23, 1297, 292, 1457, 363, 15, 1430, 797, 335, 1185, 1517, 382, 178, 1303, 1035, 826, 815, 1214, 1593, 555, 995, 1162, 661, 1420, 316, 139, 586, 237, 1402, 702, 1445, 356, 683, 1269, 23, 401, 386, 23, 137, 4, 790, 611, 478, 533, 1078, 295, 1158, 313, 27, 977, 1555, 1510, 1198, 639, 1430, 1551, 1194, 1365, 418, 293, 833, 767, 258, 323, 848, 892, 1238, 1213, 236, 9, 185, 820, 489, 354, 1220, 259, 266, 720, 988, 1397, 381, 1592, 108, 1563, 168, 329, 1018, 821, 564, 1535, 25, 920, 463, 1036, 872, 1317, 679, 139, 753, 1270, 191, 15, 1359, 770, 809, 1477, 505, 1428, 698, 302, 1003, 981, 1474, 1443, 1097, 1486, 851, 1026, 109, 1486, 79, 1110, 492, 372, 70, 1535, 352, 346, 448, 1571, 903, 1157, 893, 1253, 1285, 372, 72, 1241, 531, 1383, 224, 1112, 1246, 581, 1568, 1314, 1556, 969, 1216, 1572, 353, 969, 1250, 1477, 1210, 438, 1036, 1289, 506, 737, 1045, 528, 412, 1595, 222, 572, 853, 842, 1184, 1066, 1040, 294, 1105, 63, 128, 742, 1465, 393, 77, 492, 1267, 1087, 873, 1269, 555, 1525, 1376, 581, 1540, 36, 1190, 817, 1243, 662, 668, 1387, 1168, 1526, 1589, 1100, 11, 716, 886, 28, 495, 720, 1199, 790, 893, 1016, 204, 1176, 1231, 1294, 1071, 928, 238, 1509, 1360, 543, 1127, 44, 395, 1466, 810, 698, 946, 828, 291, 433, 1108, 527, 94, 290, 299, 232, 649, 466, 1539, 244, 810, 1206, 90, 266, 1153, 913, 1414, 337, 100, 1484, 1314, 521, 83, 1005, 343, 348, 1464, 581, 659, 1258, 19, 1002, 31, 495, 841, 1226, 765, 158, 1372, 1423, 597, 863, 964, 472, 8, 800, 10, 1146, 1383, 804, 1337, 1411, 151, 543, 758, 629, 423, 690, 553, 422, 512, 1291, 629, 366, 415, 328, 1382, 292, 926, 482, 914, 324, 1007, 1334, 1373, 333, 315, 1332, 1304, 126, 804, 1438, 1577, 601, 117, 886, 118, 97, 673, 612, 330, 152, 712, 859, 1532, 1232, 830, 890, 1231, 1587, 1198, 833, 645, 933, 1001, 65, 591, 1012, 1517, 1188, 939, 769, 17, 404, 224, 1175, 705, 1374, 1028, 1519, 1364, 278, 726, 5, 74, 1153, 174, 851, 1560, 199, 1368, 1455, 739, 808, 10, 1160, 1224, 525, 843, 654, 919, 163, 1095, 396, 196, 1203, 785, 960, 1100, 998, 542, 1517, 1317, 1065, 578, 1165, 89, 1077, 52, 328, 272, 1542, 1198, 1234, 1147, 995, 934, 1498, 578, 1501, 1543, 874, 1053, 889, 1331, 499, 17, 778, 1107, 1237, 1343, 478, 1463, 786, 23, 498, 1312, 951, 1351, 1539, 384, 117, 625, 1469, 1470, 1319, 157, 1508, 848, 9, 1092, 601, 736, 1475, 969, 73, 406, 855, 1269, 923, 1319, 653, 1142, 475, 1066, 661, 1065, 786, 1246, 1318, 1444, 1452, 1037, 533, 1343, 1285, 896, 943, 432, 752, 340, 1483, 1091, 712, 179, 140, 987, 1550, 1520, 247, 943, 210, 724, 1054, 36, 889, 1361, 1281, 35, 151, 4, 1389, 693, 822, 1191, 84, 1598, 600, 123, 394, 1570, 206, 12, 908, 781, 1081, 102, 42, 1568, 993, 505, 324, 1129, 397, 1157, 1523, 444, 43, 1069, 566, 1307, 783, 1043, 850, 696, 1294, 551, 1153, 1599, 475, 697, 713, 409, 976, 330, 525, 187, 907, 805, 272, 595, 1486, 371, 143, 85, 1598, 1266, 1199, 268, 1164, 1092, 422, 530, 1578, 624, 328, 918, 955, 1411, 345, 929, 1489, 1215, 764, 751, 1152, 1049, 369, 1200, 1356, 517, 3, 827, 381, 1023, 1226, 999, 1519, 286, 850, 1053, 1116, 1088, 680, 1324, 1285, 759, 168, 913, 961, 1021, 303, 1324, 632, 682, 988, 72, 924, 854, 1242, 842, 1438, 1294, 78, 914, 463, 1593, 609, 543, 588, 56, 1314, 1098, 562, 1567, 1437, 256, 618, 862, 499, 941, 476, 1155, 963, 282, 696, 1334, 327, 1035, 542, 874, 325, 172, 1589, 1476, 955, 1072, 397, 1063, 817, 54, 755, 535, 936, 692, 861, 739, 291, 109, 1175, 1141, 147, 1519, 1096, 1070, 391, 286, 148, 401, 656, 850, 1399, 1384, 174, 259, 770, 1003, 1402, 400, 1510, 276, 959, 707, 721, 256, 1599, 212, 395, 139, 1345, 954, 42, 766, 1308, 140, 51, 299, 485, 959, 1158, 945, 129, 1273, 1040, 805, 364, 1333, 1150, 345, 761, 762, 857, 571, 1108, 1021, 1571, 73, 866, 551, 466, 1457, 934, 595, 106, 1487, 593, 1135, 556, 1595, 921, 1122, 1525, 721, 1525, 730, 1116, 1288, 294, 1370, 694, 471, 236, 1029, 883, 1361, 175, 943, 4, 1541, 1110, 551, 1094, 1220, 849, 772, 1410, 8, 520, 1048, 642, 696, 321, 758, 1341, 1550, 3, 1499, 1265, 401, 787, 1291, 637, 1492, 143, 1148, 538, 927, 1107, 103, 360, 687, 247, 923, 1494, 1025, 314, 1483, 1253, 1436, 647, 1412, 810, 1115, 995, 542, 760, 339, 104, 1021, 1091, 1530, 1377, 157, 731, 1381, 1515, 1316, 721, 556, 631, 9, 182, 70, 427, 474, 1118, 846, 1448, 1397, 711, 209, 1189, 1226, 52, 582, 1372, 968, 1558, 347, 435, 1176, 595, 513, 663, 894, 865, 65, 643, 953, 363, 1081, 1356, 1078, 1483, 530, 673, 1119, 1420, 1395, 1187, 722, 853, 361, 413, 1135, 325, 1116, 365, 141, 604, 1101, 147, 835, 1437, 1530, 1297, 1007, 648, 1039, 1580, 266, 1277, 434, 443, 5, 924, 1360, 603, 194, 22, 1509, 1225, 119, 130, 941, 1414, 1223, 863, 308, 376, 589, 1458, 730, 1330, 1535, 1105, 566, 1454, 1006, 1049, 725, 1256, 716, 1031, 883, 140, 913, 486, 1134, 576, 542, 1512, 431, 1420, 331, 1091, 1102, 591, 540, 1196, 836, 841, 211, 13, 1480, 1495, 458, 1322, 1358, 553, 409, 151, 1091, 830, 973, 1358, 1422, 616, 254, 251, 738, 202, 1583, 896, 1338, 1371, 386, 1015, 1359, 262, 1157, 1545, 869, 648, 1319, 205, 445, 389, 35, 1556, 388, 491, 181, 1242, 220, 174, 1260, 466, 903, 695, 539, 999, 1333, 1223, 184, 1555, 1112, 1488, 1363, 1575, 1366, 716, 870, 665, 61, 1204, 373, 1151, 1533, 943, 282, 705, 614, 462, 1150, 4, 1430, 974, 1588, 24, 504, 201, 1475, 38, 5, 183, 882, 284, 1571, 1219, 1217, 888, 1119, 1176, 1132, 388, 931, 1400, 1027, 147, 1201, 495, 371, 925, 627, 1349, 1077, 886, 1162, 235, 54, 827, 180, 140, 1097, 625, 670, 721, 1047, 886, 1031, 1430, 740, 838, 68, 1496, 82, 631, 204, 1091, 616, 417, 841, 47, 1240, 191, 1030, 446, 1336, 896, 879, 222, 1428, 1426, 1072, 406, 937, 631, 426, 838, 151, 599, 1452, 237, 335, 335, 150, 1234, 641, 1307, 229, 703, 1182, 292, 1243, 48, 1277, 628, 823, 108, 1118, 777, 1289, 543, 1583, 552, 1332, 1541, 540, 1146, 341, 1587, 97, 982, 976, 1061, 1254, 1151, 12, 1024, 1267, 881, 1387, 24, 421, 469, 1057, 874, 1155, 1061, 498, 1153, 33, 979, 621, 1439, 217, 39, 807, 1354, 118, 509, 113, 333, 1309, 41, 462, 405, 1520, 678, 388, 501, 1194, 986, 1387, 145, 1241, 306, 736, 1403, 865, 823, 783, 476, 508, 1248, 500, 1344, 1187, 365, 1305, 1308, 1462, 640, 489, 1221, 332, 480, 1311, 201, 284, 475, 225, 627, 208, 306, 81, 1503, 227, 1381, 340, 1597, 675, 949, 1318, 1300, 825, 703, 267, 621, 815, 95, 1461, 548, 1363, 795, 1202, 683, 398, 681, 278, 906, 790, 1224, 666, 1228, 669, 1307, 1170, 784, 1200, 213, 115, 1375, 190, 1098, 658, 1307, 713, 50, 178, 858, 11, 1547, 611, 780, 602, 91, 1470, 1157, 193, 786, 1481, 1009, 14, 736, 129, 1158, 832, 255, 379, 1246, 785, 201, 1353, 1309, 222, 922, 867, 1222, 790, 1361, 372, 1054, 17, 702, 1170, 851, 537, 708, 263, 1031, 1090, 1590, 1154, 866, 1349, 722, 1436, 1303, 36, 1527, 1577, 1081, 1442, 1446, 244, 335, 648, 1476, 1533, 1517, 1182, 1086, 1434, 1241, 316, 496, 1130, 548, 140, 311, 913, 741, 776, 800, 717, 789, 1102, 31, 111, 270, 1404, 1172, 14, 903, 1476, 223, 1600, 701, 77, 882, 678, 1019, 132, 1243, 1166, 265, 1439, 1039, 772, 129, 1182, 1275, 1216, 140, 1141, 34, 489, 1247, 420, 1575, 133, 1276, 6, 1198, 54, 364, 714, 751, 9, 524, 264, 348, 80, 196, 428, 1435, 1253, 1241, 1074, 70, 340, 1130, 1127, 282, 968, 1435, 564, 734, 629, 928, 102, 369, 758, 1045, 1565, 53, 1282, 1196, 218, 744, 714, 972, 854, 1365, 1054, 1298, 736, 1266, 217, 238, 792, 678, 222, 877, 378, 1450, 539, 1047, 26, 721, 729, 1393, 1511, 1361, 310, 1044, 783, 1442, 1415, 411, 263, 1153, 1153, 1396, 1031, 107, 808, 1405, 1365, 1558, 840, 316, 885, 1306, 297, 657, 464, 609, 954, 768, 1032, 253, 92, 1392, 1228, 918, 1040, 408, 792, 1310, 792, 667, 1083, 453, 975, 1367, 704, 662, 685, 1094, 1126, 580, 1401, 1350, 1242, 1225, 1524, 1424, 117, 924, 732, 323, 1548, 696, 353, 1326, 1449, 709, 1578, 173, 1072, 359, 164, 188, 1551, 1544, 620, 705, 205, 370, 1580, 223, 1067, 669, 219, 1224, 101, 975, 1139, 963, 494, 849, 942, 776, 1313, 322, 791, 894, 505, 132, 68, 1552, 846, 1546, 196, 1533, 1564, 971, 546, 1014, 1358, 6, 77, 426, 1366, 612, 182, 826, 53, 443, 1361, 1398, 1075, 546, 119, 74, 1264, 844, 1527, 291, 3, 26, 442, 1236, 1411, 321, 455, 1348, 930, 954, 1562, 220, 929, 1321, 423, 1060, 507, 360, 1078, 1352, 841, 1000, 209, 301, 696, 1487, 747, 1216, 244, 1053, 745, 511, 670, 362, 335, 1323, 1461, 886, 360, 1392, 1410, 1542, 1445, 826, 1435, 530, 1464, 670, 753, 1431, 296, 1226, 1048, 60, 468, 1124, 301, 1065, 1005, 1098, 358, 574, 79, 202, 1041, 1450, 1532, 1042, 193, 899, 618, 591, 195, 864, 498, 788, 987, 398, 408, 1545, 1447, 1134, 1367, 612, 936, 431, 83, 337, 866, 941, 865, 211, 122, 1305, 846, 546, 614, 227, 1312, 1568, 759, 104, 1110, 123, 902, 803, 876, 152, 669, 55, 203, 238, 266, 1039, 378, 1473, 944, 763, 480, 1331, 1081, 1504, 142, 605, 1368, 1589, 956, 1003, 633, 651, 300, 463, 7, 236, 1092, 1249, 124, 575, 432, 1463, 737, 680, 747, 658, 1334, 1204, 936, 1554, 1024, 999, 987, 747, 782, 15, 1352, 1226, 875, 288, 1537, 303, 649, 1402, 397, 1364, 1457, 299, 523, 96, 1509, 578, 190, 424, 957, 1533, 1256, 1297, 242, 740, 798, 902, 412, 1429, 32, 1126, 267, 1589, 429, 1311, 969, 1169, 1119, 247, 335, 1300, 516, 544, 879, 639, 447, 893, 893, 1595, 1169, 1456, 490, 511, 1231, 869, 1538, 1521, 1360, 331, 535, 602, 952, 186, 1212, 1180, 1591, 288, 1563, 1596, 337, 176, 1438, 793, 766, 1245, 886, 580, 165, 1184, 1535, 718, 940, 1093, 1345, 1017, 1200, 1515, 565, 462, 1502, 765, 484, 995, 115, 1060, 745, 249, 13, 1295, 1254, 719, 8, 1523, 1526, 1003, 1596, 1172, 413, 163, 1346, 558, 34, 297, 943, 1489, 33, 857, 20, 784, 582, 1527, 654, 551, 625, 1381, 274, 1415, 1227, 870, 127, 323, 893, 576, 1372, 365, 781, 739, 63, 438, 936, 1535, 365, 1481, 41, 60, 659, 405, 453, 269, 1507, 1282, 219, 1578, 329, 483, 217, 319, 1476, 180, 222, 913, 1227, 48, 700, 1159, 431, 187, 640, 1155, 1069, 464, 1052, 1162, 4, 538, 103, 1051, 332, 1536, 2, 175, 120, 171, 849, 475, 933, 566, 885, 701, 1149, 146, 1270, 448, 96, 1297, 315, 640, 1058, 921, 1453, 1325, 88, 1096, 1121, 1456, 1338, 1268, 28, 1405, 144, 369, 1398, 702, 1503, 89, 1217, 1507, 1163, 397, 816, 719, 996, 1428, 358, 437, 59, 429, 765, 885, 1203, 403, 397, 968, 1239, 455, 734, 938, 940, 54, 495, 781, 275, 873, 1234, 1277, 1336, 467, 1386, 1214, 1136, 1501, 1190, 1235, 799, 8, 1260, 1080, 446, 1007, 364, 1505, 303, 772, 341, 783, 190, 282, 568, 1212, 639, 17, 67, 797, 863, 1381, 772, 1307, 633, 1341, 1093, 365, 838, 822, 4, 15, 569, 175, 707, 1030, 510, 1358, 553, 928, 1470, 1349, 927, 441, 964, 887, 890, 1168, 978, 482, 669, 1457, 333, 739, 1475, 220, 170, 983, 930, 910, 1437, 180, 1259, 36, 660, 35, 1485, 697, 1460, 1412, 1358, 525, 1381, 202, 222, 1461, 1473, 1234, 924, 77, 642, 1556, 1310, 799, 339, 900, 317, 498, 538, 116, 1186, 1097, 1136, 1368, 632, 1525, 462, 1451, 110, 145, 315, 1301, 1385, 548, 914, 921, 511, 72, 1496, 576, 143, 448, 1249, 185, 1476, 830, 1390, 427, 349, 1555, 498, 1094, 1283, 529, 800, 308, 1131, 707, 562, 401, 1390, 125, 1074, 450, 1327, 887, 1333, 948, 1348, 1195, 688, 701, 1263, 210, 552, 1304, 200, 371, 838, 329, 1028, 1307, 254, 570, 828, 754, 734, 329, 1143, 877, 549, 1077, 1148, 69, 373, 575, 912, 1400, 61, 357, 197, 727, 1281, 467, 301, 165, 520, 910, 410, 843, 1182, 1596, 878, 1286, 1271, 1083, 1005, 1583, 609, 156, 679, 1511, 932, 307, 1299, 645, 199, 294, 1585, 1209, 133, 772, 252, 1099, 336, 1554, 1566, 1033, 1574, 582, 654, 359, 98, 1427, 110, 1048, 849, 290, 1102, 377, 968, 19, 1120, 1252, 1177, 1255, 768, 143, 1465, 1500, 483, 473, 229, 1413, 940, 424, 1059, 1559, 1283, 1141, 1129, 1312, 903, 1588, 365, 744, 864, 158, 36, 3, 76, 880, 801, 458, 1357, 1278, 734, 1552, 1587, 497, 969, 1215, 673, 613, 1480, 848, 1312, 1383, 299, 1584, 480, 971, 69, 1433, 1600, 1473, 840, 557, 141, 136, 1123, 320, 232, 952, 356, 100, 590, 1555, 280, 362, 178, 862, 862, 727, 746, 381, 1506, 1390, 629, 116, 861, 175, 53, 297, 1038, 192, 586, 289, 653, 607, 901, 1199, 404, 1477, 587, 923, 1341, 275, 433, 877, 193, 1348, 570, 775, 222, 1098, 1185, 576, 446, 1288, 1226, 1478, 693, 1102, 196, 48, 1415, 200, 259, 358, 833, 17, 672, 677, 1032, 599, 1341, 1460, 1508, 639, 1345, 1324, 1258, 1311, 383, 39, 23, 316, 356, 1266, 0, 1323, 317, 22, 1001, 1070, 316, 1580, 1006, 809, 82, 476, 1202, 767, 1595, 79, 325, 420, 1092, 216, 949, 1266, 541, 134, 937, 314, 366, 414, 1492, 502, 1278, 76, 539, 1045, 1224, 17, 8, 1336, 331, 760, 502, 245, 571, 758, 660, 797, 1395, 635, 1067, 684, 2, 1179, 584, 1413, 934, 9, 461, 522, 201, 1068, 1340, 1480, 405, 775, 165, 519, 1069, 1430, 229, 1317, 243, 421, 1583, 1426, 523, 539, 1266, 1417, 1018, 682, 1543, 1561, 943, 1400, 546, 392, 446, 489, 118, 41, 34, 191, 1231, 626, 1256, 1052, 349, 262, 1167, 841, 1001, 1367, 334, 40, 1090, 510, 858, 809, 2, 523, 1402, 332, 14, 1008, 362, 387, 1255, 922, 427, 791, 1386, 527, 40, 1142, 1543, 391, 99, 1195, 920, 1465, 1209, 465, 732, 726, 16, 1389, 285, 1510, 1386, 1259, 207, 1384, 853, 1493, 764, 1116, 124, 1172, 1592, 1302, 1417, 571, 276, 652, 845, 1088, 818, 283, 1086, 822, 817, 579, 475, 620, 1066, 942, 180, 1332, 1148, 159, 1067, 1327, 263, 283, 243, 378, 1579, 1276, 238, 591, 499, 554, 1300, 264, 75, 704, 1172, 582, 1527, 136, 33, 1225, 941, 755, 1560, 299, 1527, 1194, 1147, 947, 834, 252, 464, 606, 421, 862, 1434, 466, 1457, 1337, 234, 884, 1482, 994, 1180, 1450, 369, 1304, 603, 701, 1525, 1019, 1168, 1125, 964, 1006, 95, 505, 288, 611, 603, 110, 1011, 1134, 463, 747, 224, 1278, 248, 712, 1536, 397, 1600, 753, 510, 546, 1043, 467, 1239, 1358, 492, 1393, 895, 629, 456, 1567, 491, 1278, 269, 1247, 579, 683, 815, 943, 761, 1433, 688, 1002, 461, 1233, 977, 215, 438, 838, 18, 1043, 1324, 539, 520, 831, 548, 930, 812, 1144, 1369, 1475, 1190, 838, 987, 1308, 1504, 1026, 1322, 42, 852, 795, 348, 476, 142, 608, 421, 1204, 33, 1229, 1380, 402, 1366, 1491, 1510, 651, 260, 253, 875, 33, 49, 582, 1533, 941, 1360, 1591, 1258, 644, 864, 1384, 430, 310, 1114, 389, 649, 662, 1290, 52, 1069, 581, 201, 1043, 134, 1384, 938, 697, 1245, 1414, 989, 1063, 1467, 1219, 1404, 1339, 289, 1370, 910, 780, 1453, 575, 1573, 233, 236, 327, 566, 100, 452, 1594, 635, 402, 1576, 1314, 661, 776, 1530, 1209, 664, 664, 1241, 1155, 820, 843, 797, 1435, 1559, 1265, 1434, 906, 1582, 707, 656, 1590, 1411, 299, 1287, 209, 988, 800, 286, 1565, 1182, 718, 1387, 130, 1252, 1522, 1076, 203, 829, 1088, 972, 1263, 71, 531, 532, 1112, 772, 1251, 990, 693, 526, 1157, 572, 1479, 1317, 656, 545, 235, 279, 500, 564, 1213, 1110, 1479, 904, 1079, 1383, 1003, 287, 416, 997, 777, 1032, 618, 676, 1197, 990, 1201, 909, 965, 1112, 119, 262, 1135, 578, 655, 902, 1025, 104, 1545, 673, 936, 621, 1346, 985, 1280, 1429, 366, 690, 1006, 1452, 694, 1520, 76, 260, 606, 61, 188, 257, 1336, 1303, 501, 858, 705, 705, 925, 363, 11, 588, 197, 1413, 813, 640, 76, 1570, 1040, 1073, 1135, 248, 562, 1474, 810, 645, 1410, 300, 909, 1137, 103, 1591, 357, 1318, 980, 1292, 1408, 38, 693, 1105, 55, 162, 1015, 924, 609, 224, 969, 175, 1274, 575, 541, 498, 987, 1093, 1332, 1201, 434, 421, 1473, 179, 456, 1202, 1443, 47, 33, 155, 343, 661, 802, 13, 727, 1023, 229, 1075, 1427, 1324, 276, 988, 293, 588, 11, 763, 719, 776, 1000, 874, 1578, 88, 528, 196, 947, 1134, 385, 698, 566, 944, 550, 938, 1348, 1333, 72, 1477, 132, 1026, 914, 757, 1558, 269, 546, 1376, 1422, 10, 419, 1157, 680, 1425, 1228, 320, 63, 758, 393, 1386, 328, 1473, 1412, 267, 1247, 630, 712, 718, 148, 624, 766, 879, 891, 555, 1127, 1599, 290, 817, 766, 356, 924, 1327, 215, 547, 1178, 1151, 468, 1276, 368, 327, 329, 266, 797, 67, 933, 121, 554, 1416, 1424, 1276, 1492, 1433, 1451, 81, 793, 1407, 1452, 1123, 802, 577, 1252, 241, 624, 1106, 1600, 418, 1204, 785, 621, 342, 282, 1075, 950, 1145, 592, 1324, 927, 225, 298, 314, 862, 579, 535, 1550, 1005, 93, 1567, 1150, 624, 1163, 1227, 1537, 676, 1496, 1082, 1043, 1422, 496, 977, 1369, 327, 474, 1143, 122, 1315, 1001, 889, 337, 732, 755, 890, 700, 1034, 425, 1198, 1457, 502, 1389, 195, 1109, 914, 1025, 1365, 977, 710, 475, 1066, 322, 493, 1497, 168, 880, 1025, 1457, 20, 648, 949, 537, 216, 950, 1160, 264, 639, 831, 612, 134, 1387, 831, 1109, 194, 58, 312, 691, 1080, 275, 1345, 834, 544, 10, 98, 655, 298, 246, 948, 1043, 1408, 1412, 1294, 1063, 311, 710, 411, 941, 51, 1541, 627, 1235, 259, 708, 13, 1388, 1029, 629, 973, 862, 676, 1014, 1495, 579, 434, 1279, 1001, 1122, 1275, 1078, 1364, 1273, 609, 304, 172, 445, 699, 487, 710, 228, 295, 465, 917, 644, 1302, 697, 839, 1314, 543, 1143, 1594, 1248, 305, 1289, 1367, 833, 426, 456, 744, 252, 1041, 1287, 1463, 1314, 509, 1315, 1453, 53, 400, 37, 601, 513, 1429, 638, 328, 775, 571, 491, 372, 1043, 1525, 380, 432, 477, 390, 1440, 1350, 678, 1318, 1589, 1181, 1501, 308, 736, 1242, 1190, 1495, 832, 1083, 1204, 1259, 171, 951, 790, 468, 1108, 584, 292, 107, 320, 136, 1494, 1376, 1203, 1311, 1129, 1299, 519, 124, 841, 467, 518, 1418, 1378, 49, 1556, 1359, 577, 378, 678, 530, 1035, 1396, 1300, 1302, 846, 607, 1184, 949, 719, 1497, 532, 101, 831, 287, 505, 396, 1006, 1593, 485, 1299, 541, 711, 548, 728, 1160, 341, 1399, 722, 560, 815, 627, 981, 1223, 940, 690, 453, 162, 548, 253, 515, 1452, 748, 1175, 376, 1271, 609, 1141, 1376, 1522, 1253, 1563, 309, 57, 761, 286, 1032, 754, 1001, 1461, 629, 1205, 1142, 1261, 1551, 290, 238, 1230, 952, 857, 1290, 443, 1357, 954, 1159, 53, 1285, 1309, 622, 1497, 310, 921, 606, 1181, 92, 1088, 126, 18, 88, 524, 653, 692, 1432, 655, 314, 773, 947, 530, 214, 1102, 476, 1083, 1523, 842, 1435, 1269, 1359, 1332, 1117, 999, 968, 277, 1381, 320, 1267, 1243, 305, 880, 1074, 809, 506, 1399, 1240, 878, 958, 343, 772, 768, 745, 827, 288, 1057, 326, 1375, 300, 280, 1189, 677, 1554, 1021, 1537, 298, 1240, 244, 954, 1019, 1203, 710, 1079, 596, 1411, 835, 213, 1222, 326, 900, 659, 1203, 80, 1055, 57, 1237, 643, 974, 1173, 654, 1455, 1557, 1515, 1066, 57, 501, 1108, 76, 1166, 1379, 507, 788, 543, 860, 1387, 1214, 1349, 1205, 741, 702, 313, 718, 663, 804, 905, 1542, 1170, 662, 106, 406, 851, 1507, 1068, 1205, 225, 396, 44, 642, 277, 1587, 483, 1465, 710, 1047, 110, 1055, 1189, 233, 1573, 224, 854, 654, 990, 23, 1134, 184, 320, 1075, 846, 641, 381, 1220, 829, 1039, 75, 1454, 1026, 1567, 1016, 1395, 1462, 235, 849, 993, 769, 440, 1484, 931, 1315, 1296, 352, 17, 599, 1502, 1538, 1425, 1040, 224, 1003, 328, 1104, 1508, 1212, 619, 1040, 650, 556, 598, 1516, 1574, 917, 965, 1352, 67, 186, 224, 1277, 850, 1062, 503, 1048, 1512, 506, 335, 371, 497, 292, 25, 947, 1490, 188, 908, 655, 610, 588, 1459, 629, 1152, 13, 88, 1224, 325, 1384, 11, 1310, 328, 876, 445, 680, 1121, 1135, 652, 1196, 1384, 255, 955, 206, 1490, 1381, 200, 1556, 16, 313, 1097, 228, 318, 1406, 763, 1467, 922, 1339, 1525, 1340, 696, 1182, 1426, 1003, 1579, 578, 810, 1315, 1333, 1552, 778, 1577, 1269, 1330, 1238, 346, 38, 1244, 1275, 1296, 306, 1073, 792, 1296, 1199, 509, 1224, 736, 1462, 274, 411, 1258, 545, 515, 292, 545, 621, 816, 1566, 771, 1160, 872, 600, 1025, 1045, 1445, 1074, 1065, 857, 720, 328, 899, 1464, 864, 1461, 984, 92, 1512, 716, 952, 655, 1446, 1491, 156, 900, 1432, 519, 424, 553, 835, 25, 135, 1489, 479, 1123, 1401, 1112, 607, 444, 223, 1104, 1407, 376, 1368, 1070, 1095, 605, 968, 452, 560, 1033, 449, 468, 65, 723, 735, 1293, 373, 259, 702, 1416, 1148, 218, 293, 1332, 538, 1093, 1444, 600, 779, 1355, 115, 1486, 1287, 1462, 882, 590, 892, 1301, 1594, 924, 115, 1170, 416, 501, 38, 1291, 877, 1508, 180, 978, 3, 267, 1002, 48, 1477, 87, 49, 1562, 1046, 409, 761, 1265, 708, 789, 1160, 772, 121, 121, 847, 741, 793, 697, 1001, 864, 394, 126, 779, 915, 620, 329, 887, 584, 101, 936, 1117, 872, 756, 1066, 954, 138, 52, 1223, 131, 422, 1071, 679, 72, 1518, 96, 412, 1594, 716, 90, 1481, 756, 311, 35, 391, 693, 341, 480, 1148, 970, 1179, 299, 1580, 1444, 1107, 567, 546, 753, 1193, 1114, 470, 862, 950, 290, 1020, 1154, 1150, 57, 1072, 787, 942, 1109, 901, 742, 398, 460, 511, 1090, 609, 649, 834, 280, 925, 1288, 1394, 886, 690, 208, 548, 194, 877, 544, 1492, 937, 555, 1075, 405, 146, 870, 250, 1056, 86, 524, 551, 745, 280, 27, 1192, 534, 817, 1567, 377, 45, 865, 824, 1217, 1426, 520, 621, 832, 1095, 1475, 1508, 1567, 696, 760, 745, 1221, 390, 111, 217, 1404, 930, 400, 735, 905, 220, 1023, 1284, 841, 1423, 1194, 172, 1003, 572, 531, 1409, 559, 660, 954, 1439, 51, 930, 1351, 661, 1394, 977, 515, 479, 1362, 1309, 521, 1453, 1586, 64, 1580, 1561, 824, 650, 624, 1152, 1290, 1040, 568, 815, 677, 1493, 210, 787, 555, 98, 736, 353, 1539, 1102, 455, 929, 706, 698, 444, 226, 1234, 1087, 440, 738, 194, 69, 770, 465, 340, 1573, 937, 268, 1580, 196, 1066, 406, 1504, 1183, 1584, 678, 171, 408, 489, 1170, 529, 1382, 339, 558, 323, 669, 567, 549, 995, 939, 862, 816, 1423, 346, 1208, 604, 359, 791, 415, 179, 1341, 263, 662, 102, 78, 505, 91, 1448, 1278, 649, 819, 261, 669, 513, 996, 1009, 548, 40, 744, 638, 635, 1188, 1153, 1159, 131, 786, 1330, 686, 296, 45, 204, 240, 510, 541, 1361, 837, 1256, 1166, 1027, 1052, 1526, 84, 128, 525, 295, 1127, 1199, 220, 929, 924, 851, 971, 1328, 157, 664, 80, 706, 824, 910, 513, 325, 948, 871, 664, 189, 853, 528, 1474, 1196, 554, 652, 445, 127, 642, 1175, 362, 643, 1571, 304, 1479, 835, 447, 1163, 541, 358, 686, 1183, 330, 240, 1204, 757, 670, 805, 892, 1020, 899, 727, 981, 649, 201, 517, 752, 1411, 454, 1418, 178, 1076, 204, 27, 912, 672, 282, 1411, 575, 868, 430, 752, 1089, 311, 1450, 602, 1111, 1075, 903, 1250, 1113, 1108, 1143, 1112, 133, 669, 1464, 380, 300, 1131, 168, 1317, 823, 1044, 141, 1210, 1329, 1532, 639, 1224, 4, 1263, 107, 127, 752, 1342, 85, 809, 187, 926, 1532, 932, 989, 1546, 930, 748, 410, 1435, 1298, 150, 29, 1508, 1517, 1145, 961, 20, 57, 506, 647, 1159, 706, 214, 722, 1218, 184, 724, 1184, 934, 1317, 356, 888, 1139, 1516, 1554, 1315, 764, 1379, 608, 1516, 1435, 1380, 1336, 2, 1379, 1297, 511, 1460, 640, 861, 530, 1040, 981, 614, 954, 1412, 1000, 1290, 1311, 35, 244, 1084, 854, 419, 1600, 314, 1020, 177, 539, 280, 996, 1300, 140, 256, 834, 284, 526, 706, 377, 315, 392, 144, 528, 1329, 264, 612, 1251, 560, 1109, 1353, 269, 624, 371, 810, 113, 122, 1077, 1349, 1209, 605, 1008, 1206, 1546, 373, 841, 1410, 425, 1102, 912, 1140, 56, 1398, 602, 1277, 1511, 406, 338, 762, 1515, 273, 1192, 1472, 1135, 1377, 87, 1078, 1089, 863, 236, 526, 269, 31, 417, 831, 1034, 1033, 1452, 255, 1266, 592, 602, 737, 1544, 1434, 192, 957, 1095, 314, 328, 302, 384, 775, 1371, 226, 338, 496, 386, 1459, 1270, 1353, 475, 1095, 724, 181, 293, 1006, 1091, 1580, 944, 995, 725, 821, 352, 693, 917, 513, 1010, 1283, 422, 659, 797, 174, 149, 754, 433, 934, 644, 20, 1332, 873, 172, 1167, 71, 797, 1511, 1159, 94, 934, 748, 1455, 480, 1505, 243, 1349, 29, 153, 1073, 163, 1379, 1089, 183, 1133, 285, 80, 601, 377, 168, 1550, 1300, 300, 338, 631, 1298, 167, 106, 571, 484, 1114, 400, 1007, 1177, 1095, 1444, 740, 490, 335, 1211, 752, 548, 1284, 461, 631, 74, 473, 1420, 233, 72, 1573, 547, 381, 1496, 914, 318, 498, 1296, 101, 492, 1388, 799, 56, 493, 1373, 475, 1573, 304, 936, 774, 463, 1502, 1579, 212, 82, 906, 778, 1052, 708, 532, 476, 1505, 605, 517, 1219, 626, 1193, 717, 257, 565, 1250, 344, 988, 376, 1072, 1421, 1441, 443, 1202, 207, 1064, 314, 1068, 1495, 829, 419, 509, 370, 45, 1081, 1433, 1576, 837, 796, 675, 669, 1296, 696, 1547, 897, 10, 192, 673, 570, 1062, 1443, 930, 1080, 518, 734, 894, 886, 1276, 1328, 933, 1592, 308, 502, 856, 237, 1051, 1259, 716, 1487, 1315, 465, 722, 689, 158, 1443, 805, 1194, 884, 227, 1022, 1553, 1116, 713, 1061, 379, 664, 306, 865, 1598, 937, 358, 21, 56, 576, 592, 837, 1301, 6, 717, 24, 731, 750, 404, 456, 508, 461, 75, 925, 415, 599, 443, 1106, 832, 468, 631, 290, 231, 389, 1134, 133, 42, 1073, 881, 1527, 901, 486, 1553, 1367, 472, 884, 1148, 513, 682, 1444, 175, 784, 660, 521, 893, 310, 11, 1083, 1195, 1332, 1079, 761, 599, 205, 980, 1133, 420, 1060, 24, 956, 730, 1147, 486, 884, 136, 1291, 706, 848, 465, 1328, 1390, 1267, 1095, 1559, 1162, 418, 533, 1371, 1040, 510, 798, 1174, 10, 1461, 1045, 246, 901, 1395, 707, 269, 73, 1049, 488, 666, 677, 1149, 1533, 456, 1271, 1186, 776, 1252, 512, 1311, 1430, 428, 427, 1062, 1030, 1422, 885, 247, 108, 552, 612, 561, 699, 256, 1028, 898, 1226, 318, 759, 690, 309, 185, 1270, 741, 831, 678, 125, 568, 1131, 147, 687, 1430, 1437, 1092, 879, 136, 192, 1560, 421, 1446, 863, 603, 978, 871, 1044, 1218, 413, 1525, 826, 1533, 1539, 1588, 417, 578, 1458, 403, 1447, 1423, 708, 944, 678, 96, 1469, 1476, 387, 522, 1220, 59, 74, 1189, 900, 1372, 888, 461, 950, 1251, 1353, 846, 1090, 562, 1230, 1298, 1432, 1318, 623, 519, 282, 884, 449, 656, 675, 1518, 783, 1152, 331, 1385, 1299, 363, 1330, 1455, 608, 489, 1571, 236, 81, 1090, 1272, 1154, 996, 1199, 1448, 1358, 1352, 804, 772, 679, 674, 927, 1220, 1534, 955, 1384, 1229, 851, 531, 1218, 15, 217, 497, 706, 745, 1330, 289, 809, 1025, 1265, 487, 380, 869, 782, 567, 931, 137, 178, 891, 853, 690, 1067, 1137, 1169, 615, 191, 947, 62, 1494, 1397, 235, 634, 1235, 726, 1333, 613, 97, 875, 1391, 1495, 1566, 156, 1038, 855, 1392, 247, 314, 449, 73, 1508, 533, 721, 394, 1454, 699, 140, 1187, 566, 571, 1207, 379, 491, 1257, 284, 984, 146, 410, 166, 254, 625, 996, 1218, 54, 1406, 1369, 928, 719, 91, 1197, 444, 629, 464, 340, 1371, 947, 1433, 801, 118, 1194, 947, 1305, 4, 1082, 423, 1219, 1445, 111, 284, 425, 126, 1040, 712, 1385, 590, 214, 1576, 584, 741, 447, 993, 217, 439, 183, 1401, 1531, 1067, 382, 27, 15, 779, 674, 1373, 1527, 1153, 111, 1068, 137, 369, 794, 479, 93, 1072, 2, 186, 1132, 990, 1575, 369, 108, 1412, 1183, 1460, 452, 88, 960, 590, 1355, 1204, 727, 167, 913, 1399, 1200, 1354, 1322, 1116, 413, 1346, 457, 118, 132, 421, 94, 1308, 765, 892, 441, 869, 1327, 1407, 145, 573, 1459, 1327, 967, 391, 995, 376, 527, 445, 834, 292, 1033, 1557, 842, 72, 942, 1364, 58, 1203, 1589, 1502, 598, 912, 1177, 1092, 1287, 628, 698, 1367, 99, 201, 946, 83, 828, 1279, 942, 1272, 1324, 632, 593, 632, 145, 857, 1301, 887, 111, 25, 331, 257, 419, 1015, 715, 907, 1544, 74, 923, 428, 1506, 1285, 1130, 84, 812, 1451, 1587, 395, 947, 1242, 1361, 1284, 1222, 1235, 440, 656, 120, 1161, 465, 495, 945, 1371, 642, 1265, 622, 926, 1520, 1460, 137, 1414, 1586, 650, 1526, 1119, 882, 1300, 1244, 803, 512, 52, 995, 1544, 1146, 218, 341, 535, 1539, 713, 312, 1035, 814, 1250, 1079, 395, 1074, 910, 444, 147, 1475, 670, 1307, 1445, 1150, 1479, 1308, 1038, 816, 87, 1280, 452, 102, 756, 139, 867, 86, 982, 1078, 295, 272, 1000, 430, 16, 1473, 207, 541, 1380, 1392, 669, 660, 200, 679, 1355, 198, 595, 792, 1341, 299, 362, 88, 1561, 1448, 77, 1167, 801, 437, 811, 1492, 116, 700, 1254, 997, 44, 217, 764, 572, 1245, 667, 991, 586, 716, 863, 1318, 804, 1053, 1424, 200, 1471, 79, 324, 795, 151, 508, 590, 684, 691, 1478, 487, 874, 587, 1472, 757, 1412, 1314, 605, 925, 238, 1122, 889, 902, 1249, 781, 100, 854, 1044, 1011, 1305, 45, 1168, 1373, 873, 575, 230, 300, 1068, 966, 1300, 703, 1490, 996, 1304, 950, 1114, 980, 592, 684, 1281, 476, 1501, 1176, 316, 182, 149, 924, 317, 898, 766, 215, 841, 1460, 564, 751, 808, 1290, 620, 293, 313, 1531, 1253, 438, 271, 595, 1397, 348, 854, 662, 954, 1286, 683, 517, 693, 1327, 946, 11, 707, 636, 1188, 1310, 79, 1117, 953, 127, 1088, 49, 1060, 1434, 244, 1397, 870, 43, 749, 1449, 110, 869, 653, 937, 1287, 1242, 1291, 1497, 462, 960, 1131, 1206, 1275, 1250, 1279, 1348, 622, 600, 1256, 13, 1240, 1039, 1203, 700, 615, 695, 25, 800, 989, 1158, 916, 658, 1050, 685, 1595, 573, 629, 397, 210, 520, 1382, 496, 1433, 842, 188, 627, 412, 912, 1078, 1277, 746, 1223, 232, 416, 625, 572, 325, 869, 537, 115, 920, 445, 548, 374, 1454, 265, 282, 232, 238, 71, 317, 777, 320, 883, 681, 1123, 122, 234, 697, 734, 1429, 1098, 954, 30, 1284, 1331, 215, 49, 371, 1198, 528, 791, 243, 1368, 868, 554, 655, 486, 152, 932, 1299, 1013, 1428, 736, 80, 1575, 1257, 455, 1101, 473, 472, 1043, 1427, 782, 440, 149, 828, 1178, 1543, 343, 567, 1133, 62, 593, 546, 441, 1156, 1482, 1189, 578, 1505, 88, 35, 183, 336, 656, 22, 839, 1047, 1219, 208, 796, 1369, 1196, 471, 505, 1455, 424, 780, 1240, 1592, 388, 631, 825, 1104, 119, 1454, 1551, 415, 816, 1581, 1510, 354, 265, 1266, 160, 1386, 1159, 829, 304, 495, 437, 245, 1307, 75, 850, 1503, 1304, 1568, 1447, 539, 298, 681, 799, 1307, 312, 1005, 1234, 991, 769, 697, 1186, 924, 1146, 211, 1337, 509, 965, 589, 332, 37, 832, 3, 1398, 1360, 309, 1422, 1376, 766, 1366, 251, 1166, 1377, 849, 664, 1462, 172, 644, 130, 206, 280, 897, 516, 476, 1387, 807, 1383, 268, 618, 78, 661, 640, 384, 663, 417, 677, 1142, 1094, 490, 1113, 1336, 445, 893, 1189, 200, 1291, 1031, 451, 322, 1189, 1340, 727, 1498, 984, 820, 1541, 1495, 140, 367, 691, 804, 407, 1441, 95, 89, 1041, 1237, 684, 282, 1583, 670, 848, 732, 31, 786, 1284, 976, 1073, 661, 377, 984, 662, 551, 1312, 1394, 739, 1504, 4, 1003, 1263, 990, 1226, 1119, 1352, 517, 289, 1174, 274, 771, 693, 656, 254, 1428, 308, 446, 1272, 810, 1075, 889, 124, 510, 786, 1492, 199, 966, 1192, 247, 963, 792, 1291, 554, 204, 1330, 1232, 807, 911, 1571, 1352, 55, 783, 1303, 1157, 395, 664, 168, 961, 49, 1403, 1587, 488, 250, 1463, 1421, 278, 1438, 779, 1112, 303, 641, 259, 496, 500, 322, 813, 1259, 607, 914, 1590, 1479, 1528, 1155, 595, 1104, 765, 1095, 166, 1114, 1582, 927, 715, 1342, 1144, 1352, 158, 740, 660, 410, 494, 455, 819, 1108, 159, 840, 1189, 1116, 305, 806, 514, 472, 1194, 742, 1089, 786, 93, 62, 92, 355, 298, 478, 305, 466, 1332, 68, 1104, 649, 1144, 312, 98, 662, 683, 173, 535, 1185, 864, 359, 507, 1480, 115, 546, 681, 647, 228, 1468, 792, 602, 1342, 1431, 981, 965, 1185, 1420, 496, 621, 60, 409, 476, 1582, 325, 242, 335, 1191, 1064, 651, 1162, 570, 1184, 1397, 1157, 950, 143, 22, 327, 1161, 326, 991, 1229, 980, 906, 1586, 913, 1276, 1135, 561, 1594, 1222, 1010, 347, 891, 1572, 481, 816, 692, 889, 897, 272, 93, 320, 908, 423, 1594, 347, 1443, 1061, 1006, 1546, 1191, 591, 648, 275, 1305, 692, 466, 1348, 1041, 246, 1159, 1061, 416, 843, 455, 201, 1453, 313, 29, 680, 1040, 672, 1385, 1441, 40, 704, 395, 1440, 146, 1330, 404, 1263, 1202, 1221, 963, 1600, 1394, 1381, 660, 1455, 1058, 312, 283, 501, 891, 61, 549, 513, 1010, 1200, 645, 342, 564, 985, 66, 1496, 417, 738, 1325, 30, 796, 1146, 1069, 1112, 1127, 1356, 558, 160, 56, 82, 1453, 1114, 929, 1438, 499, 1105, 1136, 204, 1251, 1017, 1494, 243, 872, 1129, 208, 446, 1456, 1401, 488, 769, 391, 868, 1402, 688, 223, 341, 755, 1164, 1261, 491, 396, 434, 1174, 895, 597, 1079, 1289, 382, 851, 1446, 898, 438, 797, 1406, 398, 57, 755, 266, 1302, 677, 109, 840, 1170, 1094, 588, 1559, 705, 1362, 599, 172, 1081, 119, 682, 703, 801, 620, 847, 1590, 428, 1327, 987, 1181, 505, 564, 704, 1214, 129, 1253, 858, 863, 1552, 406, 1431, 199, 1147, 423, 395, 1369, 208, 289, 389, 1518, 139, 235, 1419, 1193, 952, 202, 1289, 740, 1381, 172, 1033, 686, 988, 666, 852, 1259, 520, 338, 207, 365, 562, 806, 1126, 1483, 164, 643, 1321, 668, 972, 1178, 761, 401, 1087, 1410, 80, 366, 473, 460, 1143, 1037, 160, 1503, 223, 773, 230, 954, 933, 1444, 77, 1190, 577, 1415, 999, 1027, 823, 814, 1430, 937, 1325, 91, 899, 359, 250, 1016, 1061, 967, 416, 557, 495, 730, 1294, 1307, 1416, 996, 1409, 470, 309, 1470, 70, 1512, 402, 1384, 1426, 1204, 1195, 1309, 1189, 1579, 649, 882, 1597, 1199, 527, 270, 477, 334, 362, 1147, 1310, 134, 965, 1326, 689, 61, 1079, 1455, 814, 543, 516, 397, 735, 657, 428, 1482, 657, 82, 1394, 650, 1093, 1307, 658, 1043, 282, 815, 1127, 962, 1013, 45, 676, 1377, 865, 1140, 1565, 1458, 322, 266, 192, 809, 480, 1466, 975, 826, 1140, 1180, 1072, 399, 1326, 1129, 289, 507, 1192, 18, 513, 88, 706, 310, 613, 54, 99, 187, 1078, 1435, 424, 501, 1254, 1379, 794, 1485, 1368, 388, 1026, 1442, 1348, 1469, 165, 1526, 492, 110, 1006, 494, 960, 659, 1531, 440, 1, 941, 1091, 298, 697, 470, 613, 1050, 516, 162, 1194, 40, 555, 1390, 574, 349, 1241, 838, 181, 1513, 360, 805, 1213, 936, 1409, 1197, 969, 922, 1084, 1338, 371, 383, 980, 1292, 850, 548, 28, 479, 436, 1215, 69, 967, 252, 167, 1192, 1337, 351, 167, 1500, 1159, 1024, 1540, 882, 1487, 395, 625, 1600, 1436, 1527, 532, 1565, 145, 1206, 477, 995, 113, 69, 1306, 435, 1379, 931, 68, 1516, 808, 532, 1013, 491, 1119, 243, 1329, 401, 22, 174, 202, 920, 655, 1432, 1595, 144, 713, 1108, 81, 227, 166, 1454, 480, 1151, 1097, 1575, 1278, 1394, 904, 1095, 711, 772, 910, 1179, 854, 399, 28, 655, 1548, 295, 328, 372, 467, 1516, 152, 1284, 346, 1486, 224, 509, 1009, 623, 969, 1510, 720, 213, 581, 276, 18, 887, 1072, 38, 958, 207, 1106, 9, 270, 1277, 1118, 407, 492, 1548, 9, 626, 550, 196, 986, 80, 36, 15, 1424, 1010, 1593, 1503, 859, 169, 1573, 1194, 952, 133, 1065, 423, 743, 280, 1599, 787, 1241, 274, 599, 714, 419, 95, 1403, 639, 154, 622, 623, 537, 93, 393, 1384, 301, 1428, 967, 1411, 134, 129, 358, 734, 562, 504, 537, 1010, 9, 1596, 616, 307, 565, 727, 1355, 201, 1545, 293, 107, 278, 1519, 535, 1589, 683, 671, 1210, 45, 866, 1429, 218, 1336, 1502, 877, 506, 189, 1256, 845, 1117, 366, 1444, 520, 1223, 984, 252, 323, 1416, 323, 326, 301, 1166, 1443, 340, 50, 525, 1342, 1598, 411, 1221, 967, 441, 932, 1246, 1333, 349, 285, 428, 825, 872, 608, 1087, 954, 331, 290, 761, 742, 687, 1589, 1213, 1428, 1297, 1464, 1038, 501, 248, 1097, 345, 328, 594, 1480, 1575, 1160, 343, 1104, 1536, 1336, 1397, 1269, 136, 1035, 753, 682, 1216, 1519, 1091, 102, 48, 350, 1382, 1059, 778, 631, 678, 932, 548, 985, 1539, 717, 420, 952, 1336, 460, 974, 1200, 1346, 529, 1009, 31, 185, 1221, 1027, 506, 1377, 1044, 390, 298, 1287, 548, 1538, 1594, 1552, 70, 932, 407, 566, 77, 962, 1589, 689, 332, 1559, 1098, 1418, 1162, 427, 1041, 505, 691, 690, 1067, 1459, 119, 23, 336, 676, 856, 1088, 736, 587, 1187, 646, 1383, 916, 847, 345, 1130, 625, 1518, 352, 802, 892, 688, 108, 1079, 1427, 435, 1171, 992, 1320, 502, 299, 581, 1032, 308, 851, 879, 1262, 1322, 1525, 1547, 1324, 1372, 732, 1264, 812, 391, 459, 268, 124, 202, 849, 420, 875, 954, 1116, 109, 816, 1295, 1030, 933, 1529, 1540, 1267, 1110, 1359, 599, 1166, 74, 1082, 1428, 608, 247, 927, 315, 1244, 634, 877, 621, 1432, 1133, 1391, 1343, 1026, 1055, 134, 385, 117, 21, 268, 330, 615, 751, 359, 861, 998, 783, 1032, 1073, 1200, 967, 1593, 942, 1116, 382, 1200, 151, 1009, 1583, 611, 344, 1556, 684, 617, 1493, 511, 1480, 58, 1062, 1458, 564, 556, 1031, 379, 830, 880, 1599, 1471, 1588, 1193, 247, 487, 284, 177, 938, 768, 1033, 1413, 835, 1391, 777, 245, 304, 255, 589, 367, 1057, 171, 1235, 784, 1564, 1264, 1075, 1142, 717, 1269, 1292, 1214, 1547, 724, 135, 1003, 703, 1438, 201, 828, 429, 711, 1097, 1347, 1294, 382, 1512, 85, 1067, 641, 1079, 466, 1389, 120, 1013, 507, 812, 1531, 350, 665, 858, 455, 735, 1297, 1293, 393, 1346, 445, 1472, 115, 317, 1598, 959, 163, 232, 858, 1095, 1338, 1578, 312, 1364, 114, 7, 867, 749, 176, 441, 1400, 24, 96, 844, 1358, 1145, 1180, 1335, 897, 1590, 98, 463, 481, 1071, 51, 1319, 783, 196, 1323, 1351, 241, 806, 1143, 303, 512, 749, 315, 580, 593, 112, 116, 448, 788, 28, 102, 768, 437, 163, 954, 53, 559, 159, 83, 736, 954, 866, 1147, 534, 934, 888, 457, 1238, 1092, 551, 865, 284, 1225, 1031, 972, 690, 322, 1173, 1445, 326, 1085, 340, 899, 1051, 602, 1234, 328, 1190, 1410, 1370, 1510, 1002, 1547, 204, 1266, 1113, 558, 1047, 595, 1232, 232, 693, 1162, 1441, 1428, 1164, 1129, 1115, 898, 478, 1302, 5, 1258, 528, 1175, 962, 320, 1029, 740, 1076, 869, 853, 413, 762, 1325, 1489, 945, 424, 543, 1150, 1534, 1320, 804, 395, 1085, 147, 677, 1002, 1562, 22, 187, 663, 350, 800, 369, 417, 488, 703, 502, 1287, 487, 256, 1395, 1067, 1290, 1458, 1503, 712, 1368, 155, 1341, 1500, 228, 1134, 605, 167, 699, 1467, 574, 980, 797, 1416, 657, 1136, 809, 1084, 1510, 1514, 1578, 1174, 527, 59, 1420, 859, 706, 791, 1099, 980, 1067, 123, 648, 87, 1097, 877, 1442, 413, 175, 251, 1478, 322, 554, 1104, 367, 597, 831, 1392, 1471, 1558, 26, 362, 1400, 270, 652, 787, 1005, 268, 1164, 416, 472, 1125, 596, 137, 184, 927, 745, 1471, 776, 6, 150, 746, 173, 800, 46, 808, 1560, 940, 520, 1194, 1235, 376, 977, 967, 1289, 72, 157, 660, 674, 1446, 1568, 1321, 483, 229, 616, 999, 104, 172, 74, 457, 588, 66, 1077, 44, 368, 1466, 831, 1419, 190, 1153, 1232, 871, 160, 617, 1458, 624, 415, 24, 1160, 768, 1190, 719, 1469, 1564, 443, 498, 184, 1509, 649, 1063, 420, 839, 1327, 1011, 950, 1050, 1300, 622, 1052, 377, 612, 1172, 1115, 48, 875, 621, 1215, 386, 544, 971, 890, 1228, 1184, 189, 776, 1370, 1055, 138, 325, 917, 1096, 1273, 565, 493, 788, 908, 380, 500, 333, 556, 1075, 1280, 395, 818, 1000, 278, 751, 719, 482, 808, 1086, 1200, 1029, 744, 1028, 347, 1115, 1269, 1345, 57, 1567, 146, 574, 585, 1056, 816, 1113, 662, 1121, 155, 1223, 86, 1096, 299, 711, 915, 592, 1460, 290, 1446, 650, 1480, 229, 271, 1485, 735, 369, 545, 1401, 305, 398, 428, 600, 456, 776, 223, 1051, 911, 181, 984, 985, 955, 992, 332, 63, 1387, 553, 1515, 498, 850, 827, 1441, 1119, 391, 456, 718, 5, 459, 321, 1153, 1573, 264, 1163, 1282, 1422, 626, 924, 1176, 858, 636, 1140, 1524, 156, 606, 1155, 685, 1351, 1089, 1382, 1153, 8, 823, 343, 1581, 1292, 89, 1437, 707, 145, 301, 567, 1188, 1011, 295, 1429, 85, 267, 809, 1148, 172, 277, 1544, 1594, 579, 639, 393, 919, 823, 1103, 671, 1554, 407, 1580, 629, 52, 1330, 73, 1444, 803, 593, 213, 525, 411, 1031, 388, 220, 939, 952, 42, 1033, 1033, 1253, 1317, 954, 2, 934, 1089, 351, 1210, 482, 1473, 505, 469, 230, 654, 295, 161, 1090, 996, 1126, 595, 1004, 254, 1118, 331, 187, 1007, 1427, 892, 246, 1347, 786, 1210, 1376, 1376, 1435, 346, 805, 1363, 343, 18, 1584, 654, 1319, 47, 1202, 1032, 551, 1156, 300, 80, 831, 815, 1341, 519, 1532, 886, 1435, 767, 1186, 561, 60, 1551, 81, 1108, 1094, 673, 243, 804, 1566, 50, 536, 1491, 220, 315, 1281, 173, 175, 1512, 1328, 1421, 480, 194, 805, 1127, 1352, 403, 1202, 1350, 871, 532, 202, 1256, 295, 995, 214, 1090, 521, 99, 745, 1117, 1542, 280, 380, 512, 507, 643, 1314, 484, 27, 1460, 1528, 426, 662, 494, 9, 1194, 1186, 1491, 209, 613, 925, 856, 922, 909, 441, 966, 953, 1456, 938, 356, 615, 1558, 685, 433, 43, 762, 542, 881, 507, 1344, 1291, 422, 62, 350, 520, 685, 626, 796, 578, 587, 637, 1509, 353, 436, 1456, 637, 379, 1346, 1311, 1159, 1170, 1106, 862, 76, 840, 1426, 1209, 1317, 1332, 196, 1163, 37, 852, 480, 622, 363, 433, 541, 135, 1482, 1383, 1066, 1450, 1252, 1478, 306, 614, 1545, 573, 1101, 1392, 1578, 518, 1156, 237, 452, 1600, 1083, 847, 908, 511, 1214, 537, 1283, 303, 1528, 1567, 156, 1289, 361, 878, 1577, 223, 1445, 920, 35, 524, 1424, 1538, 940, 1494, 117, 955, 1067, 779, 1376, 1272, 1518, 1253, 233, 1495, 188, 1121, 1125, 1570, 464, 549, 1516, 618, 995, 174, 1175, 194, 272, 594, 480, 221, 1486, 392, 490, 906, 1563, 1599, 1199, 1466, 1227, 269, 896, 310, 1181, 327, 1074, 523, 850, 1582, 1387, 527, 642, 1247, 733, 287, 658, 1150, 317, 881, 1141, 189, 219, 1033, 1406, 56, 1143, 402, 729, 617, 482, 1546, 874, 798, 1158, 1483, 878, 1294, 544, 1091, 871, 1449, 1026, 321, 558, 1312, 104, 149, 1483, 1261, 825, 7, 1079, 1291, 968, 908, 164, 617, 1404, 17, 423, 555, 654, 716, 659, 1284, 1022, 1459, 980, 1226, 1103, 570, 1280, 661, 1062, 1293, 753, 1111, 637, 1463, 1377, 238, 257, 1214, 1402, 1319, 8, 1080, 659, 247, 1339, 244, 1431, 1582, 882, 1423, 1169, 1243, 160, 374, 1481, 1460, 56, 1442, 166, 1535, 1046, 153, 840, 178, 676, 188, 919, 303, 868, 1024, 1291, 496, 1563, 1501, 30, 823, 778, 407, 704, 1540, 1279, 679, 1075, 628, 1057, 613, 1307, 651, 1264, 751, 955, 42, 922, 314, 1135, 1160, 472, 597, 330, 104, 732, 383, 1431, 711, 548, 905, 503, 590, 1442, 1290, 484, 1405, 720, 856, 379, 1058, 220, 30, 996, 688, 989, 1248, 1309, 1013, 889, 1159, 605, 209, 475, 323, 218, 670, 645, 1400, 85, 432, 578, 1371, 811, 683, 919, 809, 766, 742, 1480, 923, 1210, 470, 1518, 1209, 801, 1355, 1217, 204, 1451, 1157, 939, 1463, 860, 258, 59, 1295, 104, 1446, 774, 412, 406, 832, 193, 1083, 613, 1339, 774, 510, 520, 398, 1539, 1183, 569, 656, 255, 364, 960, 601, 486, 900, 464, 1144, 1570, 567, 1284, 183, 603, 1494, 270, 888, 1355, 181, 1242, 440, 570, 1429, 450, 1010, 390, 941, 1187, 1243, 196, 377, 1548, 1381, 1454, 1360, 599, 1478, 375, 993, 1226, 859, 526, 1584, 462, 339, 445, 499, 184, 1532, 787, 624, 1104, 405, 1584, 1242, 674, 756, 975, 766, 429, 208, 105, 1525, 562, 891, 570, 474, 650, 567, 1403, 17, 1174, 627, 1099, 1448, 633, 934, 1565, 690, 1151, 1542, 709, 1554, 1530, 1228, 721, 1024, 265, 1418, 168, 985, 1356, 970, 705, 258, 858, 1180, 283, 823, 1148, 929, 1187, 1565, 2, 1320, 153, 168, 1320, 170, 256, 408, 1039, 1247, 1013, 1206, 368, 691, 1200, 1135, 893, 319, 1454, 197, 1345, 408, 1025, 950, 675, 834, 1117, 1413, 988, 908, 559, 1572, 484, 1237, 1315, 591, 345, 281, 1564, 886, 611, 856, 1108, 249, 8, 659, 1017, 1449, 1379, 1234, 782, 857, 210, 1191, 940, 636, 1239, 1586, 1547, 172, 555, 457, 535, 827, 1360, 815, 1564, 1483, 311, 905, 1256, 498, 1467, 819, 27, 1235, 1526, 1061, 565, 256, 1244, 50, 1396, 508, 31, 964, 293, 651, 255, 863, 1204, 553, 5, 731, 920, 736, 844, 149, 756, 1084, 1201, 423, 863, 1319, 542, 1383, 768, 427, 1246, 664, 1107, 969, 294, 1317, 454, 796, 791, 593, 479, 1482, 443, 847, 1150, 1389, 957, 1429, 1193, 1113, 471, 806, 776, 939, 1444, 1375, 424, 688, 1564, 806, 755, 1436, 543, 425, 959, 1442, 410, 1464, 1539, 1176, 464, 877, 1430, 1386, 1104, 507, 136, 926, 372, 1118, 119, 750, 359, 718, 1401, 1274, 895, 1484, 93, 1334, 659, 40, 1391, 1578, 213, 1110, 659, 656, 570, 1485, 502, 631, 49, 615, 1214, 1582, 373, 674, 971, 340, 1323, 295, 28, 914, 1392, 922, 1351, 711, 884, 598, 951, 152, 292, 1098, 589, 287, 327, 481, 1471, 78, 421, 1308, 1399, 649, 892, 1162, 313, 696, 861, 1508, 503, 739, 262, 266, 378, 821, 71, 692, 1095, 925, 1401, 78, 512, 1555, 1076, 322, 665, 807, 949, 366, 242, 1303, 1426, 1039, 521, 718, 387, 1423, 1155, 653, 100, 854, 634, 1000, 741, 256, 1452, 85, 869, 286, 1147, 38, 214, 1214, 1075, 923, 1267, 440, 441, 993, 593, 762, 8, 1396, 1224, 45, 389, 1023, 994, 710, 93, 757, 1035, 542, 338, 1061, 1172, 1288, 1512, 950, 727, 518, 510, 695, 803, 190, 398, 509, 1321, 1373, 1370, 876, 1342, 572, 1091, 9, 1295, 327, 1051, 1424, 551, 1075, 576, 240, 1593, 1495, 1094, 1087, 417, 14, 1498, 1131, 24, 235, 560, 697, 649, 575, 1379, 5, 1038, 1461, 434, 1086, 1508, 785, 1041, 260, 633, 1395, 877, 1484, 954, 1450, 433, 210, 127, 471, 54, 501, 1148, 504, 243, 293, 866, 1457, 121, 1415, 1193, 487, 52, 820, 1386, 1467, 1209, 1450, 1347, 944, 1520, 827, 532, 1089, 1516, 293, 859, 1025, 929, 1508, 928, 408, 1259, 1402, 1541, 141, 1568, 1483, 343, 258, 1013, 594, 1133, 920, 1097, 826, 1131, 412, 1307, 574, 1213, 1208, 96, 1170, 1540, 1426, 1377, 1166, 138, 703, 1058, 1374, 913, 584, 1533, 199, 659, 968, 149, 1199, 1595, 337, 1598, 1020, 525, 773, 719, 520, 249, 1082, 516, 767, 794, 36, 896, 1042, 407, 574, 26, 716, 1066, 477, 32, 867, 669, 353, 1405, 762, 1361, 1067, 268, 702, 1095, 1377, 774, 198, 50, 456, 912, 1330, 817, 813, 717, 1492, 1132, 556, 1263, 484, 371, 20, 1518, 1235, 889, 74, 854, 1175, 1425, 865, 637, 1309, 1576, 646, 1437, 981, 1329, 141, 1313, 367, 1518, 379, 64, 1239, 1367, 1363, 629, 459, 111, 902, 95, 1536, 572, 1184, 1340, 754, 1058, 1515, 1331, 1567, 579, 1299, 742, 628, 1467, 867, 957, 372, 1429, 441, 833, 1193, 556, 1480, 258, 31, 1258, 1500, 883, 1280, 530, 1195, 983, 45, 213, 864, 667, 1314, 466, 588, 1595, 479, 413, 179, 954, 273, 1299, 1191, 590, 1570, 1450, 1136, 1007, 1595, 364, 261, 936, 1159, 1475, 292, 178, 1509, 22, 893, 359, 1373, 1474, 41, 697, 393, 858, 767, 1056, 612, 159, 505, 689, 1503, 638, 1290, 1566, 771, 397, 1581, 757, 1350, 689, 1266, 642, 1412, 1228, 414, 1556, 1301, 1121, 1596, 1507, 35, 701, 1325, 1511, 449, 1020, 1172, 970, 661, 1416, 445, 1377, 1485, 365, 581, 1309, 675, 1345, 781, 1385, 1086, 1533, 112, 185, 537, 911, 406, 1160, 830, 684, 1141, 1276, 797, 1043, 1153, 344, 629, 15, 435, 755, 1327, 333, 566, 970, 242, 698, 178, 851, 115, 995, 221, 1322, 1117, 999, 1276, 1584, 1223, 554, 663, 632, 753, 844, 1045, 654, 808, 976, 301, 1247, 1491, 764, 355, 66, 998, 627, 1455, 730, 1591, 953, 1519, 200, 814, 564, 944, 1073, 361, 830, 984, 286, 235, 1452, 1568, 887, 581, 1533]\n"
          ]
        }
      ]
    }
  ]
}