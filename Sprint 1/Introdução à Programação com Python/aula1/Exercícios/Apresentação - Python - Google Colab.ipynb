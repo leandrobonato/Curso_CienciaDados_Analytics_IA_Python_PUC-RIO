{
  "nbformat": 4,
  "nbformat_minor": 0,
  "metadata": {
    "colab": {
      "provenance": [],
      "name": "Apresentação.ipynb",
      "authorship_tag": "ABX9TyMTQRX0z4xn4lkXN5SErhI3",
      "include_colab_link": true
    },
    "kernelspec": {
      "name": "python3",
      "display_name": "Python 3"
    },
    "language_info": {
      "name": "python"
    }
  },
  "cells": [
    {
      "cell_type": "markdown",
      "metadata": {
        "id": "view-in-github",
        "colab_type": "text"
      },
      "source": [
        "<a href=\"https://colab.research.google.com/github/leandrobonato/Curso_CienciaDados_Analytics_IA_Python_PUC-RIO/blob/main/Apresenta%C3%A7%C3%A3o%20-%20Python%20-%20Google%20Colab.ipynb\" target=\"_parent\"><img src=\"https://colab.research.google.com/assets/colab-badge.svg\" alt=\"Open In Colab\"/></a>"
      ]
    },
    {
      "cell_type": "markdown",
      "source": [
        "#Apenas um teste.\n"
      ],
      "metadata": {
        "id": "icrocNkfKbpg"
      }
    },
    {
      "cell_type": "code",
      "source": [
        "10-3*2+4**3//8"
      ],
      "metadata": {
        "colab": {
          "base_uri": "https://localhost:8080/"
        },
        "id": "Mgur66M_I5MM",
        "outputId": "cd5da92f-5f72-435d-d0e4-7283cb87153e"
      },
      "execution_count": null,
      "outputs": [
        {
          "output_type": "execute_result",
          "data": {
            "text/plain": [
              "12"
            ]
          },
          "metadata": {},
          "execution_count": 7
        }
      ]
    },
    {
      "cell_type": "code",
      "source": [
        "10+20+30+40"
      ],
      "metadata": {
        "colab": {
          "base_uri": "https://localhost:8080/"
        },
        "id": "rg8JfFCiKBFf",
        "outputId": "1ac188b7-38e0-4e66-ea46-a88419a1f5ef"
      },
      "execution_count": null,
      "outputs": [
        {
          "output_type": "execute_result",
          "data": {
            "text/plain": [
              "100"
            ]
          },
          "metadata": {},
          "execution_count": 10
        }
      ]
    },
    {
      "cell_type": "code",
      "source": [
        "2**3"
      ],
      "metadata": {
        "colab": {
          "base_uri": "https://localhost:8080/"
        },
        "id": "l7S4MhWmKMC6",
        "outputId": "56a59cec-4c44-4182-bc31-a546f5b68c7b"
      },
      "execution_count": null,
      "outputs": [
        {
          "output_type": "execute_result",
          "data": {
            "text/plain": [
              "8"
            ]
          },
          "metadata": {},
          "execution_count": 13
        }
      ]
    },
    {
      "cell_type": "markdown",
      "source": [
        "#Segunda seção"
      ],
      "metadata": {
        "id": "rY_aGb5CKlo0"
      }
    },
    {
      "cell_type": "code",
      "source": [
        "print('Bom dia!')"
      ],
      "metadata": {
        "colab": {
          "base_uri": "https://localhost:8080/"
        },
        "id": "7-OXLcIWKVpB",
        "outputId": "8c202d55-46e1-4a5d-bc78-2cf8501c606c"
      },
      "execution_count": null,
      "outputs": [
        {
          "output_type": "stream",
          "name": "stdout",
          "text": [
            "Bom dia!\n"
          ]
        }
      ]
    },
    {
      "cell_type": "code",
      "source": [],
      "metadata": {
        "id": "9LPZvxgwKVrC"
      },
      "execution_count": null,
      "outputs": []
    },
    {
      "cell_type": "markdown",
      "source": [],
      "metadata": {
        "id": "o7kv4xp0Kjui"
      }
    }
  ]
}