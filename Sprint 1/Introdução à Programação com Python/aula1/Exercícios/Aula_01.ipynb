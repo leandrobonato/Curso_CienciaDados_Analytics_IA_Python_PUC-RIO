{
  "nbformat": 4,
  "nbformat_minor": 0,
  "metadata": {
    "colab": {
      "provenance": [],
      "toc_visible": true,
      "authorship_tag": "ABX9TyPOCzEe16xHLwfdhU7plwFD",
      "include_colab_link": true
    },
    "kernelspec": {
      "name": "python3",
      "display_name": "Python 3"
    },
    "language_info": {
      "name": "python"
    }
  },
  "cells": [
    {
      "cell_type": "markdown",
      "metadata": {
        "id": "view-in-github",
        "colab_type": "text"
      },
      "source": [
        "<a href=\"https://colab.research.google.com/github/leandrobonato/Curso_CienciaDados_Analytics_IA_Python_PUC-RIO/blob/main/Sprint%201/Introdu%C3%A7%C3%A3o%20%C3%A0%20Programa%C3%A7%C3%A3o%20com%20Python/aula1/Exerc%C3%ADcios/Aula_01.ipynb\" target=\"_parent\"><img src=\"https://colab.research.google.com/assets/colab-badge.svg\" alt=\"Open In Colab\"/></a>"
      ]
    },
    {
      "cell_type": "markdown",
      "source": [
        "#Tudo foi copiado, corrigido, e resolvido por Leandro Miozzo Bonato para reforçar o aprendizado."
      ],
      "metadata": {
        "id": "ddP8WUUwM65c"
      }
    },
    {
      "cell_type": "markdown",
      "source": [
        "##Aula 01 - Exercícios 01 - Operadores"
      ],
      "metadata": {
        "id": "VZRKoJOmXHIG"
      }
    },
    {
      "cell_type": "markdown",
      "source": [
        "###Roteiro da primeira lista de exercícios"
      ],
      "metadata": {
        "id": "W8keQLy-MH10"
      }
    },
    {
      "cell_type": "markdown",
      "source": [
        "Ao longo deste documento, haverá vários exemplos e exercícios comentados para consolidar o conhecimento adquirido sobre tipos de dados, operadores aritméticos e expressões aritméticas. Ao final, serão apresentados alguns desafios para os quais as respostas são fornecidas para simples conferência."
      ],
      "metadata": {
        "id": "0GSdEfDpMPlk"
      }
    },
    {
      "cell_type": "markdown",
      "source": [
        "###Operadores aritméticos e expressões"
      ],
      "metadata": {
        "id": "1ni7wIDyMdH0"
      }
    },
    {
      "cell_type": "code",
      "source": [
        "# Este é um comentário. Não é considerado pelo ambiente na execução do código\n",
        "# Execute esta célula que contém a expressão abaixo com dois valores reais.\n",
        "# Repare que é utilizado o ponto decimal.\n",
        "18.72 + 3.34    # É possível escrever um comentário ao lado de uma linha de código"
      ],
      "metadata": {
        "colab": {
          "base_uri": "https://localhost:8080/"
        },
        "id": "moya1Fq6MjHO",
        "outputId": "5d56309f-9d8f-4b9a-edbf-814bc3a3c885"
      },
      "execution_count": null,
      "outputs": [
        {
          "output_type": "execute_result",
          "data": {
            "text/plain": [
              "22.06"
            ]
          },
          "metadata": {},
          "execution_count": 107
        }
      ]
    },
    {
      "cell_type": "code",
      "source": [
        "# Mas cuidado! Ao executar o código abaixo, ocorrerá um erro.\n",
        "# Motivo: um espaço em branco antes da expressão.\n",
        "18.72 + 3.34 #Corrigido para a identação correta."
      ],
      "metadata": {
        "colab": {
          "base_uri": "https://localhost:8080/"
        },
        "id": "EDNolFVFMnTA",
        "outputId": "23a7ab43-1bdf-45ad-a4ce-75c68d15b735"
      },
      "execution_count": null,
      "outputs": [
        {
          "output_type": "execute_result",
          "data": {
            "text/plain": [
              "22.06"
            ]
          },
          "metadata": {},
          "execution_count": 108
        }
      ]
    },
    {
      "cell_type": "markdown",
      "source": [
        "Agora, execute as próximas 7 células com expressões envolvendo apenas valores inteiros. Certifique-se de analisar com cuidado os 3 últimos resultados."
      ],
      "metadata": {
        "id": "1otguxVuM2B0"
      }
    },
    {
      "cell_type": "code",
      "source": [
        "13 + 5 #Adição"
      ],
      "metadata": {
        "colab": {
          "base_uri": "https://localhost:8080/"
        },
        "id": "PYfr92D_M5pR",
        "outputId": "616a5eb6-3acf-4c22-ec1e-fc9579a6688b"
      },
      "execution_count": null,
      "outputs": [
        {
          "output_type": "execute_result",
          "data": {
            "text/plain": [
              "18"
            ]
          },
          "metadata": {},
          "execution_count": 109
        }
      ]
    },
    {
      "cell_type": "code",
      "source": [
        "13 - 5 #Subtração"
      ],
      "metadata": {
        "colab": {
          "base_uri": "https://localhost:8080/"
        },
        "id": "iDvm1w2SNR7g",
        "outputId": "18f4b874-76f8-4aa4-cc51-fdd5bedeb047"
      },
      "execution_count": null,
      "outputs": [
        {
          "output_type": "execute_result",
          "data": {
            "text/plain": [
              "8"
            ]
          },
          "metadata": {},
          "execution_count": 110
        }
      ]
    },
    {
      "cell_type": "code",
      "source": [
        "13 ** 5 #Exponenciação"
      ],
      "metadata": {
        "colab": {
          "base_uri": "https://localhost:8080/"
        },
        "id": "We-l-410NZJh",
        "outputId": "ca6149bd-466d-4716-ab29-5ddb6400c048"
      },
      "execution_count": null,
      "outputs": [
        {
          "output_type": "execute_result",
          "data": {
            "text/plain": [
              "371293"
            ]
          },
          "metadata": {},
          "execution_count": 111
        }
      ]
    },
    {
      "cell_type": "markdown",
      "source": [
        "O operador / é responsável por executar a operação de divisão como conhecemos na Matemática. Por isso, o resultado de 13 dividido por 5 tem como resultado 2.6."
      ],
      "metadata": {
        "id": "pX8n_3Z8Nz33"
      }
    },
    {
      "cell_type": "code",
      "source": [
        "13 / 5 #Divisão"
      ],
      "metadata": {
        "colab": {
          "base_uri": "https://localhost:8080/"
        },
        "id": "yEBjSjjmNa55",
        "outputId": "fb97a8b9-3c3b-4f7c-8167-8784c2e59f26"
      },
      "execution_count": null,
      "outputs": [
        {
          "output_type": "execute_result",
          "data": {
            "text/plain": [
              "2.6"
            ]
          },
          "metadata": {},
          "execution_count": 112
        }
      ]
    },
    {
      "cell_type": "markdown",
      "source": [
        "Já o operador // executa uma divisão na qual o resultado é o maior inteiro menor do que o quociente da divisão tradicional. Na expressão acima, o resultado é 2 porque este é o maior inteiro menor que 2.6 (resultado de 13 / 5)."
      ],
      "metadata": {
        "id": "9Shmv5FDN4gg"
      }
    },
    {
      "cell_type": "code",
      "source": [
        "13 // 5 #Divisão de inteiros"
      ],
      "metadata": {
        "colab": {
          "base_uri": "https://localhost:8080/"
        },
        "id": "zGRsZl5-Nkcv",
        "outputId": "1b6883fe-b42d-4d91-c743-19ffe21f9e24"
      },
      "execution_count": null,
      "outputs": [
        {
          "output_type": "execute_result",
          "data": {
            "text/plain": [
              "2"
            ]
          },
          "metadata": {},
          "execution_count": 113
        }
      ]
    },
    {
      "cell_type": "markdown",
      "source": [
        "O operador % calcula o resto da divisão do primeiro operando pelo segundo. No caso, o resultado é 3:\n",
        "13 - (13 // 5) * 5.\n"
      ],
      "metadata": {
        "id": "Uvh-HzY4N8UC"
      }
    },
    {
      "cell_type": "code",
      "source": [
        "13 % 5 #Resto da divisão"
      ],
      "metadata": {
        "colab": {
          "base_uri": "https://localhost:8080/"
        },
        "id": "fRFEuM_JNpn3",
        "outputId": "9ede559d-6fa3-47a7-ba8f-88a2aa45456e"
      },
      "execution_count": null,
      "outputs": [
        {
          "output_type": "execute_result",
          "data": {
            "text/plain": [
              "3"
            ]
          },
          "metadata": {},
          "execution_count": 114
        }
      ]
    },
    {
      "cell_type": "markdown",
      "source": [
        "Mas cuidado! A expressão abaixo gera um valor que pode parecer estranho para alguns. Lembre-se que o resultado é o maior inteiro menor do que o quociente da divisão tradicional (-2.6)."
      ],
      "metadata": {
        "id": "F-TZxdqRODI5"
      }
    },
    {
      "cell_type": "code",
      "source": [
        "(-13) // 5"
      ],
      "metadata": {
        "colab": {
          "base_uri": "https://localhost:8080/"
        },
        "id": "MpZfWN9HOG2h",
        "outputId": "99593972-d426-41cb-ae22-3335fba2d0d7"
      },
      "execution_count": null,
      "outputs": [
        {
          "output_type": "execute_result",
          "data": {
            "text/plain": [
              "-3"
            ]
          },
          "metadata": {},
          "execution_count": 115
        }
      ]
    },
    {
      "cell_type": "markdown",
      "source": [
        "Calcule o resultado da expressão aritmética abaixo."
      ],
      "metadata": {
        "id": "MsCkLYnROLCA"
      }
    },
    {
      "cell_type": "code",
      "source": [
        "10 - 3 * 2 + 4 ** 3 // 8\n",
        "#parte 1: exponenciação -> 4 ** 3 = 64\n",
        "#parte 2: divisão, multiplicação e divisão por inteiros -> 3 * 2 = 6\n",
        "#parte 3: o restante -> 64 // 8 = 8\n",
        "#parte 4: subtração -> 10 - 6 = 4\n",
        "#parte 5: adição -> 4 + 8 = 12"
      ],
      "metadata": {
        "colab": {
          "base_uri": "https://localhost:8080/"
        },
        "id": "-PvB_JzcOKTG",
        "outputId": "583e24af-1289-4491-e45d-ba636682837b"
      },
      "execution_count": null,
      "outputs": [
        {
          "output_type": "execute_result",
          "data": {
            "text/plain": [
              "12"
            ]
          },
          "metadata": {},
          "execution_count": 116
        }
      ]
    },
    {
      "cell_type": "markdown",
      "source": [
        "O resultado já era conhecido pois é a mesma expressão vista no texto do início da primeira aula. Mas como fica a expressão com alguns parênteses? O resultado muda? Experimente!"
      ],
      "metadata": {
        "id": "gxsbF_esPCe0"
      }
    },
    {
      "cell_type": "code",
      "source": [
        "(10 - 3) * 2 + 4 ** (3 // 8)\n",
        "#parte 1: parentênsis -> 10 - 3 = 7\n",
        "#parte 2: parentênsis -> 3 // 8 = 0\n",
        "#parte 3: exponenciação -> 4 ** 0 = 1 --> o truque está aqui, pois 4 exponenciado à 0 é sempre 1 e não zero.\n",
        "#parte 4: multiplicação -> 7 * 2 = 14\n",
        "#parte 5: adição -> 1 + 14 = 15"
      ],
      "metadata": {
        "colab": {
          "base_uri": "https://localhost:8080/"
        },
        "id": "eF7aUXh3PFrC",
        "outputId": "2a210532-ff6b-45db-e2d1-a827b2a30098"
      },
      "execution_count": null,
      "outputs": [
        {
          "output_type": "execute_result",
          "data": {
            "text/plain": [
              "15"
            ]
          },
          "metadata": {},
          "execution_count": 117
        }
      ]
    },
    {
      "cell_type": "markdown",
      "source": [
        "A execução do código da próxima célula provoca um erro comum, principalmente, para iniciantes na programação. Execute-a e observe a mensagem de erro exibida."
      ],
      "metadata": {
        "id": "3sAz9OXbQW95"
      }
    },
    {
      "cell_type": "code",
      "source": [
        "#10 / 0       # não é possível dividir um valor por zero!\n",
        "#para evitar esse erro, terá que fazer um IF\n",
        "numerador = 10\n",
        "divisor = 0\n",
        "divisao_segura = 0\n",
        "if divisor <= 0: divisao_segura = 0\n",
        "else: divisao_segura = numerador / divisor\n",
        "print(divisao_segura)"
      ],
      "metadata": {
        "colab": {
          "base_uri": "https://localhost:8080/"
        },
        "id": "C3GHgN9KQY9e",
        "outputId": "a1649bd1-1d4a-4800-cf11-9a51ff239204"
      },
      "execution_count": null,
      "outputs": [
        {
          "output_type": "stream",
          "name": "stdout",
          "text": [
            "0\n"
          ]
        }
      ]
    },
    {
      "cell_type": "markdown",
      "source": [
        "###Desafios"
      ],
      "metadata": {
        "id": "Xk3Dcq2HSRw4"
      }
    },
    {
      "cell_type": "markdown",
      "source": [
        "Agora, resolva os desafios abaixo, adicionando novas células de código e definindo as expressões necessárias para calcular o resultado. Repare que a resposta de cada desafio é dada.\n",
        "\n"
      ],
      "metadata": {
        "id": "4l_pUCubSbS4"
      }
    },
    {
      "cell_type": "markdown",
      "source": [
        "####DESAFIO 1\n",
        "\n",
        "Qual o volume, em metros cúbicos, de um reservatório, em forma de paralelepípedo, com 79 metros de comprimento, 10 metros de largura e 4 metros de profundidade?"
      ],
      "metadata": {
        "id": "LGb_53rvStLn"
      }
    },
    {
      "cell_type": "code",
      "source": [
        "comprimento = 79\n",
        "largura = 10\n",
        "profundidade = 4\n",
        "volume = 0\n",
        "\n",
        "volume = comprimento * largura * profundidade\n",
        "\n",
        "print(str(volume) + ' m³')"
      ],
      "metadata": {
        "colab": {
          "base_uri": "https://localhost:8080/"
        },
        "id": "DNb49YjISwNu",
        "outputId": "52309570-d9ca-436b-8f07-79236e294471"
      },
      "execution_count": null,
      "outputs": [
        {
          "output_type": "stream",
          "name": "stdout",
          "text": [
            "3160 m³\n"
          ]
        }
      ]
    },
    {
      "cell_type": "markdown",
      "source": [
        "####DESAFIO 2\n",
        "\n",
        "Considerando que 1 metro cúbico corresponde a 1000 litros de água, quantos litros cabem no reservatório do desafio 1?\n"
      ],
      "metadata": {
        "id": "BbGITbmFSh_C"
      }
    },
    {
      "cell_type": "code",
      "source": [
        "capacidade_volume = 1000\n",
        "capacidade_final = 0\n",
        "\n",
        "capacidade_final = volume * capacidade_volume\n",
        "\n",
        "print(str(capacidade_final) + ' litros de água')"
      ],
      "metadata": {
        "colab": {
          "base_uri": "https://localhost:8080/"
        },
        "id": "Osj94mHKTNFo",
        "outputId": "f8188b29-1a00-4775-a81c-ff3e1dcd642d"
      },
      "execution_count": null,
      "outputs": [
        {
          "output_type": "stream",
          "name": "stdout",
          "text": [
            "3160000 litros de água\n"
          ]
        }
      ]
    },
    {
      "cell_type": "markdown",
      "source": [
        "####DESAFIO 3\n",
        "\n",
        "Considere uma torneira que despeja 75 litros de água por hora. Em quantos minutos a torneira encheria o reservatório dos desafios 1 e 2?"
      ],
      "metadata": {
        "id": "pS-hJSScSl8C"
      }
    },
    {
      "cell_type": "code",
      "source": [
        "litros_agua_hora = 75\n",
        "tempo_enchimento_horas = 0\n",
        "tempo_minutos = 0\n",
        "tempo_dias = 0\n",
        "\n",
        "tempo_enchimento_horas = (capacidade_final / litros_agua_hora)\n",
        "tempo_minutos = tempo_enchimento_horas * 60 #converte de litros/hora para litros/minutos\n",
        "tempo_dias = tempo_enchimento_horas / 24 #converte de litros/hora para litros/dias\n",
        "\n",
        "print(str(round(tempo_enchimento_horas, 2)) + ' horas ou ' + str(tempo_minutos) + ' minutos ou ' + str(round(tempo_dias, 2)) + ' dias')"
      ],
      "metadata": {
        "colab": {
          "base_uri": "https://localhost:8080/"
        },
        "id": "qecCU1XBT06Q",
        "outputId": "c4e76a3b-a8c4-4b47-f0e9-44035a2a2c0b"
      },
      "execution_count": null,
      "outputs": [
        {
          "output_type": "stream",
          "name": "stdout",
          "text": [
            "42133.33 horas ou 2528000.0 minutos ou 1755.56 dias\n"
          ]
        }
      ]
    },
    {
      "cell_type": "markdown",
      "source": [
        "##Aula 01 - Exercícios 02 - Variáveis"
      ],
      "metadata": {
        "id": "udJ6M1RhXt29"
      }
    },
    {
      "cell_type": "markdown",
      "source": [
        "###Roteiro da segunda lista de exercícios\n"
      ],
      "metadata": {
        "id": "ohV2RAetZeMe"
      }
    },
    {
      "cell_type": "markdown",
      "source": [
        "Ao longo deste documento, haverá vários exemplos e exercícios comentados para consolidar o conhecimento adquirido sobre variáveis que envolve naturalmente as expressões aritméticas e seus operadores. Depois, resolva os desafios propostos cujas respostas encontram-se na última seção para sua conferência."
      ],
      "metadata": {
        "id": "0Pvu6ne4Zg8Q"
      }
    },
    {
      "cell_type": "markdown",
      "source": [
        "####Exemplos apostila"
      ],
      "metadata": {
        "id": "HAxaLcTlZmiL"
      }
    },
    {
      "cell_type": "code",
      "source": [
        "fator1 = 87 * 100 + 82\n",
        "\n",
        "print(str(fator1))"
      ],
      "metadata": {
        "colab": {
          "base_uri": "https://localhost:8080/"
        },
        "id": "5psHSe_eYUEA",
        "outputId": "98f375b1-6241-4931-de68-3388af55409e"
      },
      "execution_count": null,
      "outputs": [
        {
          "output_type": "stream",
          "name": "stdout",
          "text": [
            "8782\n"
          ]
        }
      ]
    },
    {
      "cell_type": "code",
      "source": [
        "fator2 = fator1 ** 2\n",
        "\n",
        "print(str(fator2))"
      ],
      "metadata": {
        "colab": {
          "base_uri": "https://localhost:8080/"
        },
        "id": "jgPO9O-uYgIw",
        "outputId": "3b5d8ff3-2f9b-4f4f-c819-b66001aec194"
      },
      "execution_count": null,
      "outputs": [
        {
          "output_type": "stream",
          "name": "stdout",
          "text": [
            "77123524\n"
          ]
        }
      ]
    },
    {
      "cell_type": "code",
      "source": [
        "total = 1\n",
        "total = total + 1\n",
        "\n",
        "print(total)"
      ],
      "metadata": {
        "colab": {
          "base_uri": "https://localhost:8080/"
        },
        "id": "fYo9PKfNYp7j",
        "outputId": "a49b6e40-7f8d-41eb-8515-9e07ddad8278"
      },
      "execution_count": null,
      "outputs": [
        {
          "output_type": "stream",
          "name": "stdout",
          "text": [
            "2\n"
          ]
        }
      ]
    },
    {
      "cell_type": "markdown",
      "source": [
        "####Variáveis"
      ],
      "metadata": {
        "id": "npP9zVukZpe0"
      }
    },
    {
      "cell_type": "markdown",
      "source": [
        "Para \"guardar\" o resultado de uma expressão é necessário utilizar uma variável. Na 1a. linha da próxima célula, o valor inteiro 15 será armazenado na variável especificada do lado esquerdo do sinal de atribuição: n1. Ao executar a 2a. linha, o conteúdo da variável n1 será exibido."
      ],
      "metadata": {
        "id": "y7-_cEgRZuRs"
      }
    },
    {
      "cell_type": "code",
      "source": [
        "n1 = (10 - 3) * 2 + 4 ** (3 // 8)\n",
        "print(str(n1))"
      ],
      "metadata": {
        "colab": {
          "base_uri": "https://localhost:8080/"
        },
        "id": "vu9AcrrHZ2gc",
        "outputId": "5c12f882-2506-48bc-c1a4-2c590d3ed8fc"
      },
      "execution_count": null,
      "outputs": [
        {
          "output_type": "stream",
          "name": "stdout",
          "text": [
            "15\n"
          ]
        }
      ]
    },
    {
      "cell_type": "markdown",
      "source": [
        "A partir da criação/inicialização da variável, é possível utilizá-la, por exemplo, em uma expressão. Na célula abaixo, o valor armazenado em n1 será elevado ao quadrado gerando o valor 225. Em seguida, esse valor será armazenado na variável do lado esquerdo do sinal de atribuição (n2). Por último, será impresso o valor armazenado em n2: 225."
      ],
      "metadata": {
        "id": "Scyxea4TZ8RK"
      }
    },
    {
      "cell_type": "code",
      "source": [
        "n1 = (10 - 3) * 2 + 4 ** (3 // 8)\n",
        "n2 = n1 ** 2\n",
        "print(str(n2))"
      ],
      "metadata": {
        "colab": {
          "base_uri": "https://localhost:8080/"
        },
        "id": "y_1H0VpKZ-K7",
        "outputId": "6f5239f3-4167-4869-9dba-9a4725c5e981"
      },
      "execution_count": null,
      "outputs": [
        {
          "output_type": "stream",
          "name": "stdout",
          "text": [
            "225\n"
          ]
        }
      ]
    },
    {
      "cell_type": "markdown",
      "source": [
        "Na célula acima, após executá-la, experimente clicar em cima do nome da variável n1 e manter o ponteiro do mouse em cima do nome da variável. O ambiente mostrará o valor armazenado em n1 e seu tipo (no caso, int).\n",
        "\n",
        "Uma variável armazena um valor de cada vez. Ou seja, ao armazenar um novo valor, o anterior é perdido. Veja o que acontece ao executar o código na próxima célula. Ao armazenar o valor 7.5 na variável nota, o valor 10.0 é perdido."
      ],
      "metadata": {
        "id": "J2dfNySLaElb"
      }
    },
    {
      "cell_type": "code",
      "source": [
        "nota = 10.0\n",
        "nota = 7.5\n",
        "print(str(nota))"
      ],
      "metadata": {
        "colab": {
          "base_uri": "https://localhost:8080/"
        },
        "id": "CodqJcRnaHDD",
        "outputId": "0d14f901-eee9-4212-c500-95af9ebbd241"
      },
      "execution_count": null,
      "outputs": [
        {
          "output_type": "stream",
          "name": "stdout",
          "text": [
            "7.5\n"
          ]
        }
      ]
    },
    {
      "cell_type": "markdown",
      "source": [
        "Python é uma linguagem de \"tipagem\" dinâmica, ou seja, o tipo de uma variável não é fixo. Por isso, é possível criar uma variável com determinado valor e depois atribuir à mesma variável um valor de outro tipo. Execute a célula abaixo que demonstra exatamente isso."
      ],
      "metadata": {
        "id": "5juQ6zFxaNCf"
      }
    },
    {
      "cell_type": "code",
      "source": [
        "x = 10.5\n",
        "x = 'Mudou para string!'\n",
        "print(x)"
      ],
      "metadata": {
        "colab": {
          "base_uri": "https://localhost:8080/"
        },
        "id": "Ti4_h0gpaPVr",
        "outputId": "b9093212-da7f-4304-f3fc-6b50dff625a1"
      },
      "execution_count": null,
      "outputs": [
        {
          "output_type": "stream",
          "name": "stdout",
          "text": [
            "Mudou para string!\n"
          ]
        }
      ]
    },
    {
      "cell_type": "markdown",
      "source": [
        "Agora, vamos provocar alguns erros comuns, principalmente, para iniciantes na programação. Execute as duas próximas células e observe as mensagens de erro exibidas."
      ],
      "metadata": {
        "id": "TRoC9WJpaTfJ"
      }
    },
    {
      "cell_type": "code",
      "source": [
        "#n = a + 5     # a variável a não foi criada/inicializada/definida;\n",
        "#n             # por isso, não é possível calcular o resultado da expressão;\n",
        "               # repare que a variável a já aparece sublinhada indicando erro"
      ],
      "metadata": {
        "id": "TjUiyTUzaVgO"
      },
      "execution_count": null,
      "outputs": []
    },
    {
      "cell_type": "code",
      "source": [
        "#10 / 0       # não é possível dividir um valor por zero!"
      ],
      "metadata": {
        "id": "wumoYzWFaizZ"
      },
      "execution_count": null,
      "outputs": []
    },
    {
      "cell_type": "markdown",
      "source": [
        "###Desafio"
      ],
      "metadata": {
        "id": "uAzN4pgwam0h"
      }
    },
    {
      "cell_type": "markdown",
      "source": [
        "Para resolver os desafios propostos, adicione novas células de código e defina as expressões necessárias para calcular os resultados. Depois, confira possíveis soluções na última seção."
      ],
      "metadata": {
        "id": "C7e9hlIyawd6"
      }
    },
    {
      "cell_type": "markdown",
      "source": [
        "#### **DESAFIO 1**\n",
        "\n",
        "Considere um reservatório com as seguintes medidas: 79 m de comprimento, 10 m de largura e 4 m de profundidade. Em quantos minutos uma torneira que despeja 75 litros de água por hora encheria essse reservatório? Sabe-se que um 1 metro cúbico corresponde a 1000 l de água.\n",
        "\n",
        "Importante: armazene o cálculo do volume do reservatório e da vazão por minuto em variáveis; depois, utilize essas duas variáveis no cálculo final.\n"
      ],
      "metadata": {
        "id": "Om-sU63VdR9d"
      }
    },
    {
      "cell_type": "code",
      "source": [
        "comprimento = 79\n",
        "largura = 10\n",
        "profundidade = 4\n",
        "volume = 0\n",
        "\n",
        "volume = comprimento * largura * profundidade\n",
        "\n",
        "print(str(volume) + ' m³')\n",
        "\n",
        "capacidade_volume = 1000\n",
        "capacidade_final = 0\n",
        "\n",
        "capacidade_final = volume * capacidade_volume\n",
        "\n",
        "print(str(capacidade_final) + ' litros de água')\n",
        "\n",
        "litros_agua_hora = 75\n",
        "tempo_enchimento_horas = 0\n",
        "tempo_minutos = 0\n",
        "tempo_dias = 0\n",
        "\n",
        "tempo_enchimento_horas = (capacidade_final / litros_agua_hora)\n",
        "tempo_minutos = tempo_enchimento_horas * 60 #converte de litros/hora para litros/minutos\n",
        "tempo_dias = tempo_enchimento_horas / 24 #converte de litros/hora para litros/dias\n",
        "\n",
        "print(str(round(tempo_enchimento_horas, 2)) + ' horas ou ' + str(tempo_minutos) + ' minutos ou ' + str(round(tempo_dias, 2)) + ' dias')"
      ],
      "metadata": {
        "colab": {
          "base_uri": "https://localhost:8080/"
        },
        "id": "niV6mVZudiQS",
        "outputId": "f3571501-fdab-4c13-d314-ce583d28c45c"
      },
      "execution_count": null,
      "outputs": [
        {
          "output_type": "stream",
          "name": "stdout",
          "text": [
            "3160 m³\n",
            "3160000 litros de água\n",
            "42133.33 horas ou 2528000.0 minutos ou 1755.56 dias\n"
          ]
        }
      ]
    },
    {
      "cell_type": "markdown",
      "source": [
        "####**DESAFIO 2**\n",
        "\n",
        "A fórmula de Bhaskara abaixo calcula as duas raízes reais de uma equação do 2º grau, uma utilizando o sinal '+' e a outra, o sinal '-'. Calcule as raízes para os coeficientes: a = 1, b = 5 e c = 6. Dica: um valor elevado ao expoente 0.5 é equivalente à raiz quadrada do valor.\n",
        "\n",
        "![image.png](data:image/png;base64,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)\n"
      ],
      "metadata": {
        "id": "8LPLKtWmdbIi"
      }
    },
    {
      "cell_type": "code",
      "source": [
        "import math\n",
        "\n",
        "a = 1\n",
        "b = 5\n",
        "c = 6\n",
        "raiz_delta = 0\n",
        "x1 = 0\n",
        "x2 = 0\n",
        "\n",
        "raiz_delta = math.sqrt(b ** 2 - 4 * a * c)\n",
        "x1 = (-b + raiz_delta) / 2 * a\n",
        "x2 = (-b - raiz_delta) / 2 * a\n",
        "\n",
        "print('x1: ' + str(x1) + '\\nx2: ' + str(x2))"
      ],
      "metadata": {
        "colab": {
          "base_uri": "https://localhost:8080/"
        },
        "id": "26k1I80AeCAz",
        "outputId": "642c845c-4498-4bef-f0b2-471261ef8c65"
      },
      "execution_count": null,
      "outputs": [
        {
          "output_type": "stream",
          "name": "stdout",
          "text": [
            "x1: -2.0\n",
            "x2: -3.0\n"
          ]
        }
      ]
    },
    {
      "cell_type": "markdown",
      "source": [
        "##Aula 01 - Exercícios 03 - Strings e Listas"
      ],
      "metadata": {
        "id": "NnAJD4yGiz67"
      }
    },
    {
      "cell_type": "markdown",
      "source": [
        "####Exemplos apostila"
      ],
      "metadata": {
        "id": "2PdujtdrjUpo"
      }
    },
    {
      "cell_type": "markdown",
      "source": [
        "#####Concatenação"
      ],
      "metadata": {
        "id": "HFJvnSi3jYk3"
      }
    },
    {
      "cell_type": "code",
      "source": [
        "print('Linguagem ' + 'Python')"
      ],
      "metadata": {
        "colab": {
          "base_uri": "https://localhost:8080/"
        },
        "id": "t8FK1RE0jE--",
        "outputId": "24b6b10e-68b0-4a82-e13e-77ff8b5cb683"
      },
      "execution_count": null,
      "outputs": [
        {
          "output_type": "stream",
          "name": "stdout",
          "text": [
            "Linguagem Python\n"
          ]
        }
      ]
    },
    {
      "cell_type": "markdown",
      "source": [
        "#####Replicação"
      ],
      "metadata": {
        "id": "_1pXUeVOjkfu"
      }
    },
    {
      "cell_type": "code",
      "source": [
        "print('Python' * 3)"
      ],
      "metadata": {
        "colab": {
          "base_uri": "https://localhost:8080/"
        },
        "id": "NwYWF7enjnKE",
        "outputId": "d853a420-4f61-4c08-dc2a-f710352b7d2a"
      },
      "execution_count": null,
      "outputs": [
        {
          "output_type": "stream",
          "name": "stdout",
          "text": [
            "PythonPythonPython\n"
          ]
        }
      ]
    },
    {
      "cell_type": "markdown",
      "source": [
        "#####Tamanho do texto"
      ],
      "metadata": {
        "id": "mn270ojCkDOt"
      }
    },
    {
      "cell_type": "code",
      "source": [
        "frase = 'Hello World!'\n",
        "qtdCaracteres = len(frase)\n",
        "\n",
        "print(str(qtdCaracteres))"
      ],
      "metadata": {
        "colab": {
          "base_uri": "https://localhost:8080/"
        },
        "id": "XfBGraW8j9Bq",
        "outputId": "278a6bfc-1f64-49d3-d93c-0517dc4bf69d"
      },
      "execution_count": null,
      "outputs": [
        {
          "output_type": "stream",
          "name": "stdout",
          "text": [
            "12\n"
          ]
        }
      ]
    },
    {
      "cell_type": "markdown",
      "source": [
        "#####Acessando caractere"
      ],
      "metadata": {
        "id": "oxEAIyjLkLzT"
      }
    },
    {
      "cell_type": "code",
      "source": [
        "print(frase[0])\n",
        "print(frase[6])\n",
        "print(frase[11]) #se colocar 12 como no exemplo da apostila irá gerar erro, pois a lista começa em 0"
      ],
      "metadata": {
        "colab": {
          "base_uri": "https://localhost:8080/"
        },
        "id": "pcoRkrGokPLa",
        "outputId": "a05a9333-3364-49e7-8f64-1ab50c123615"
      },
      "execution_count": null,
      "outputs": [
        {
          "output_type": "stream",
          "name": "stdout",
          "text": [
            "H\n",
            "W\n",
            "!\n"
          ]
        }
      ]
    },
    {
      "cell_type": "markdown",
      "source": [
        "#####Acessando ao contrários os caracteres da lista"
      ],
      "metadata": {
        "id": "ZcmbuDUVksVE"
      }
    },
    {
      "cell_type": "code",
      "source": [
        "print(frase[-1])\n",
        "print(frase[-6])\n",
        "print(frase[-8])"
      ],
      "metadata": {
        "colab": {
          "base_uri": "https://localhost:8080/"
        },
        "id": "v2PjdsY_kmnH",
        "outputId": "0ab0a9d5-6bf2-4040-b7e7-c60641eda2a6"
      },
      "execution_count": null,
      "outputs": [
        {
          "output_type": "stream",
          "name": "stdout",
          "text": [
            "!\n",
            "W\n",
            "o\n"
          ]
        }
      ]
    },
    {
      "cell_type": "markdown",
      "source": [
        "#####Modificando uma String"
      ],
      "metadata": {
        "id": "dZVoiNTclr_4"
      }
    },
    {
      "cell_type": "code",
      "source": [
        "s = frase\n",
        "s = s[:-1] + '?'\n",
        "print(s)"
      ],
      "metadata": {
        "colab": {
          "base_uri": "https://localhost:8080/"
        },
        "id": "hK1-Gb69lvws",
        "outputId": "7e6232d0-2483-45ca-da26-c3f63c8a1107"
      },
      "execution_count": null,
      "outputs": [
        {
          "output_type": "stream",
          "name": "stdout",
          "text": [
            "Hello World?\n"
          ]
        }
      ]
    },
    {
      "cell_type": "markdown",
      "source": [
        "#####Listas"
      ],
      "metadata": {
        "id": "asnhroH8mTVj"
      }
    },
    {
      "cell_type": "code",
      "source": [
        "lNomes = ['Pato Donald', 'Margarida', 'Mickey', 'Minnie']\n",
        "lQualquer = [-10.5, [True, 'Tio Patinhas'], [17, 19]]\n",
        "lNumeros = [2, 2, 1, 8 ,8 , 3 , 6 , 9]\n",
        "\n",
        "print('Números(posição 2): ' + str(lNumeros[2]))\n",
        "print('Números(última posição): ' + str(lNumeros[-1]))\n",
        "\n",
        "qtdElementos = len(lNumeros)\n",
        "print('Quantidade de elementos de números: ' + str(qtdElementos))\n",
        "\n",
        "qtdElementos = len(lQualquer)\n",
        "print('Quantidade de elementos de Qualquer: ' + str(qtdElementos))"
      ],
      "metadata": {
        "colab": {
          "base_uri": "https://localhost:8080/"
        },
        "id": "NbLUxminmXKw",
        "outputId": "5cf3eb39-5752-40e2-ae80-8bd1dcf09c2b"
      },
      "execution_count": null,
      "outputs": [
        {
          "output_type": "stream",
          "name": "stdout",
          "text": [
            "Números(posição 2): 1\n",
            "Números(última posição): 9\n",
            "Quantidade de elementos de números: 8\n",
            "Quantidade de elementos de Qualquer: 3\n"
          ]
        }
      ]
    },
    {
      "cell_type": "markdown",
      "source": [
        "##### Fatiamento de listas"
      ],
      "metadata": {
        "id": "TNAzDtg2oVoj"
      }
    },
    {
      "cell_type": "code",
      "source": [
        "lNomes[1:3]"
      ],
      "metadata": {
        "colab": {
          "base_uri": "https://localhost:8080/"
        },
        "id": "x39Q8rx1oY-n",
        "outputId": "0a8cfd04-77f1-42d8-9ac2-4d3222f72378"
      },
      "execution_count": null,
      "outputs": [
        {
          "output_type": "execute_result",
          "data": {
            "text/plain": [
              "['Margarida', 'Mickey']"
            ]
          },
          "metadata": {},
          "execution_count": 139
        }
      ]
    },
    {
      "cell_type": "code",
      "source": [
        "lNomes[::-1]"
      ],
      "metadata": {
        "colab": {
          "base_uri": "https://localhost:8080/"
        },
        "id": "E52aXwURogPE",
        "outputId": "f03b38b4-d1e9-46de-f5a1-b6ea31e354f6"
      },
      "execution_count": null,
      "outputs": [
        {
          "output_type": "execute_result",
          "data": {
            "text/plain": [
              "['Minnie', 'Mickey', 'Margarida', 'Pato Donald']"
            ]
          },
          "metadata": {},
          "execution_count": 140
        }
      ]
    },
    {
      "cell_type": "markdown",
      "source": [
        "####Desafios\n",
        "Agora, resolva os desafios abaixo, adicionando novas células de código e definindo as expressões necessárias para gerar o resultado esperado."
      ],
      "metadata": {
        "id": "lGFcnruRo9F5"
      }
    },
    {
      "cell_type": "markdown",
      "source": [
        "\n",
        "\n",
        "#####DESAFIO 1\n",
        "\n",
        "Crie uma variável com o seu nome e exiba a quantidade de caracteres armazenados na variável.\n"
      ],
      "metadata": {
        "id": "M3e5LD0jpcaO"
      }
    },
    {
      "cell_type": "code",
      "source": [
        "nome_aluno = 'Leandro'\n",
        "print(str(len(nome_aluno)))"
      ],
      "metadata": {
        "colab": {
          "base_uri": "https://localhost:8080/"
        },
        "id": "03YKThpgpkfr",
        "outputId": "244f5596-0265-4d41-8a20-494ff729aadb"
      },
      "execution_count": null,
      "outputs": [
        {
          "output_type": "stream",
          "name": "stdout",
          "text": [
            "7\n"
          ]
        }
      ]
    },
    {
      "cell_type": "markdown",
      "source": [
        "\n",
        "#####DESAFIO 2\n",
        "\n",
        "Crie uma variável com uma string representando a data de seu nascimento no formato 'dd/mm/aaaa'. Em seguida, crie e exiba uma senha composta pela concatenção das partes definidas abaixo, na ordem apresentada:\n",
        "\n",
        "*   último caractere do ano;\n",
        "*   1o. caractere do mês replicado 5 vezes;\n",
        "*   2o. caractere do dia;\n",
        "*   2o. caractere do ano replicado 2 vezes.\n"
      ],
      "metadata": {
        "id": "Kz-r7ibMpemg"
      }
    },
    {
      "cell_type": "code",
      "source": [
        "data_nascimento = '16/02/1991'\n",
        "senha = data_nascimento[-1] + data_nascimento[3] * 5 + data_nascimento[1] + data_nascimento[7] * 2\n",
        "print('Data nascimento (dd/mm/aaaa): ' + data_nascimento)\n",
        "print('Senha: ' + senha)"
      ],
      "metadata": {
        "colab": {
          "base_uri": "https://localhost:8080/"
        },
        "id": "-StV3A7upuTi",
        "outputId": "551c12c3-e35e-42a9-9043-d8f66e27d223"
      },
      "execution_count": null,
      "outputs": [
        {
          "output_type": "stream",
          "name": "stdout",
          "text": [
            "Data nascimento (dd/mm/aaaa): 16/02/1991\n",
            "Senha: 100000699\n"
          ]
        }
      ]
    },
    {
      "cell_type": "markdown",
      "source": [
        "\n",
        "#####DESAFIO 3\n",
        "Agora vamos criar uma senha mais forte! Crie uma variável com uma string representando a data de seu nascimento no formato 'dd/mm/aaaa'. Crie outra variável com o seu nome. Em seguida, crie e exiba uma senha composta pela concatenção das partes definidas abaixo, na ordem apresentada:\n",
        "\n",
        "* penúltimo caractere do ano;\n",
        "* caractere '#';\n",
        "* caractere do meio do nome;\n",
        "* 2o. caractere do mês replicada 3 vezes;\n",
        "* caractere '$';\n",
        "* antepenúltimo caractere do nome replicado 2 vezes."
      ],
      "metadata": {
        "id": "DneZ8BqypgRH"
      }
    },
    {
      "cell_type": "code",
      "source": [
        "senha_forte = data_nascimento[9] + '#' + nome_aluno[len(nome_aluno) // 2] + data_nascimento[4] * 3 + '$' + nome_aluno[-3] * 2\n",
        "senha_forte"
      ],
      "metadata": {
        "colab": {
          "base_uri": "https://localhost:8080/",
          "height": 35
        },
        "id": "kBkofvLBqs4A",
        "outputId": "1f82af46-2ed4-44fb-af11-05b8ca2f1849"
      },
      "execution_count": null,
      "outputs": [
        {
          "output_type": "execute_result",
          "data": {
            "text/plain": [
              "'1#n222$dd'"
            ],
            "application/vnd.google.colaboratory.intrinsic+json": {
              "type": "string"
            }
          },
          "metadata": {},
          "execution_count": 160
        }
      ]
    },
    {
      "cell_type": "markdown",
      "source": [
        "\n",
        "#####DESAFIO 4\n",
        "Crie uma variável string com todas as letras maiúsculas do alfabeto, de 'A' a 'Z'. Em seguida, crie uma variável lista com os valores inteiros 15, 24, 19, 7, 14 e 13. Considerando que cada inteiro da lista corresponde ao índice da posição de uma letra na string, exiba a concatenação de todas as 6 letras e descubra a \"palavra secreta\". Por exemplo, se a lista possuir os valores 14 e 0, a palavra secreta será 'OI'."
      ],
      "metadata": {
        "id": "bRvZxyKfphbV"
      }
    },
    {
      "cell_type": "code",
      "source": [
        "alfabeto = 'ABCDEFGHIJKLMNOPQRSTUVXZYW'\n",
        "lNumInteiros = [15, 24, 19, 7, 14, 13]\n",
        "print(alfabeto[lNumInteiros[0]] +\n",
        "      alfabeto[lNumInteiros[1]] +\n",
        "      alfabeto[lNumInteiros[2]] +\n",
        "      alfabeto[lNumInteiros[3]] +\n",
        "      alfabeto[lNumInteiros[4]] +\n",
        "      alfabeto[lNumInteiros[5]]\n",
        ")"
      ],
      "metadata": {
        "colab": {
          "base_uri": "https://localhost:8080/"
        },
        "id": "1l13xjNmrhr6",
        "outputId": "f755d70e-1fc0-484d-8927-e4cfce07ab0f"
      },
      "execution_count": null,
      "outputs": [
        {
          "output_type": "stream",
          "name": "stdout",
          "text": [
            "PYTHON\n"
          ]
        }
      ]
    },
    {
      "cell_type": "markdown",
      "source": [
        "##Aula 01 - Exercícios 4 - Conversão de tipos Módulos"
      ],
      "metadata": {
        "id": "VZPcNZYbJ4rL"
      }
    },
    {
      "cell_type": "markdown",
      "source": [
        "###Exemplos Apostila"
      ],
      "metadata": {
        "id": "AHW0es4TOSbD"
      }
    },
    {
      "cell_type": "markdown",
      "source": [
        "#####Conversão de tipos (casting)"
      ],
      "metadata": {
        "id": "gCpsvG3oKT0Z"
      }
    },
    {
      "cell_type": "code",
      "source": [
        "n1 = 10\n",
        "s1 = str(n1)\n",
        "n2 = float(s1)\n",
        "n3 = 87.52\n",
        "n4 = int(n3)\n",
        "s2 = str(n3)\n",
        "n5 = float(s2)\n",
        "\n",
        "print('S1: ' + s1)\n",
        "print('S2: ' + s2)\n",
        "print('n2: ' + str(n2))\n",
        "print('n3: ' + str(n3))\n",
        "print('n5: ' + str(n5))\n",
        "\n",
        "print(str([1, 2, 3, -0.5, 8752]))"
      ],
      "metadata": {
        "colab": {
          "base_uri": "https://localhost:8080/"
        },
        "id": "8_aIEOzRKSBK",
        "outputId": "ed0d1e87-5da0-4a0c-a440-28987414a021"
      },
      "execution_count": 13,
      "outputs": [
        {
          "output_type": "stream",
          "name": "stdout",
          "text": [
            "S1: 10\n",
            "S2: 87.52\n",
            "n2: 10.0\n",
            "n3: 87.52\n",
            "n5: 87.52\n",
            "[1, 2, 3, -0.5, 8752]\n"
          ]
        }
      ]
    },
    {
      "cell_type": "markdown",
      "source": [
        "#####Módulos"
      ],
      "metadata": {
        "id": "dCPf5a6iK9T9"
      }
    },
    {
      "cell_type": "markdown",
      "source": [
        "Todas as funcionalidades da biblioteca math"
      ],
      "metadata": {
        "id": "tGW7ZkezLc_-"
      }
    },
    {
      "cell_type": "code",
      "source": [
        "import math"
      ],
      "metadata": {
        "id": "51vI_OnXLBP1"
      },
      "execution_count": null,
      "outputs": []
    },
    {
      "cell_type": "markdown",
      "source": [
        "Todas as funcionalidades da biblioteca math, porém com o apelido de m"
      ],
      "metadata": {
        "id": "FtMfR7RVLkpH"
      }
    },
    {
      "cell_type": "code",
      "source": [
        "import math as m"
      ],
      "metadata": {
        "id": "p6bTgVWpLWzc"
      },
      "execution_count": null,
      "outputs": []
    },
    {
      "cell_type": "markdown",
      "source": [
        "Apenas as funcionalidades de raiz quadrada e seno da biblioteca math"
      ],
      "metadata": {
        "id": "fFRWIYnmLqfV"
      }
    },
    {
      "cell_type": "code",
      "source": [
        "from math import sqrt, sin"
      ],
      "metadata": {
        "id": "OxpdwzGvLYHx"
      },
      "execution_count": null,
      "outputs": []
    },
    {
      "cell_type": "code",
      "source": [
        "import math as m\n",
        "n = m.sqrt(25)\n",
        "print(str(n))\n"
      ],
      "metadata": {
        "colab": {
          "base_uri": "https://localhost:8080/"
        },
        "id": "7graONUCMTQL",
        "outputId": "1431bf4a-c426-4326-f935-a5c770a022e7"
      },
      "execution_count": 9,
      "outputs": [
        {
          "output_type": "stream",
          "name": "stdout",
          "text": [
            "5.0\n",
            "Help on built-in function sqrt in module math:\n",
            "\n",
            "sqrt(x, /)\n",
            "    Return the square root of x.\n",
            "\n"
          ]
        }
      ]
    },
    {
      "cell_type": "code",
      "source": [
        "import math as m\n",
        "help(m.sqrt)"
      ],
      "metadata": {
        "colab": {
          "base_uri": "https://localhost:8080/"
        },
        "id": "xPjqWxDJMqIh",
        "outputId": "8ac39760-523d-4581-eb8f-5c26df8af396"
      },
      "execution_count": 10,
      "outputs": [
        {
          "output_type": "stream",
          "name": "stdout",
          "text": [
            "Help on built-in function sqrt in module math:\n",
            "\n",
            "sqrt(x, /)\n",
            "    Return the square root of x.\n",
            "\n"
          ]
        }
      ]
    },
    {
      "cell_type": "markdown",
      "source": [
        "####Comentários"
      ],
      "metadata": {
        "id": "71C5u0c0M7FH"
      }
    },
    {
      "cell_type": "code",
      "source": [
        "#Cálculo da raiz quadrada\n",
        "n = m.sqrt(25)\n",
        "n"
      ],
      "metadata": {
        "colab": {
          "base_uri": "https://localhost:8080/"
        },
        "id": "HMhtJMBqM9M7",
        "outputId": "b8b2117c-bc4b-49a7-fec3-9a36e7f533fe"
      },
      "execution_count": 11,
      "outputs": [
        {
          "output_type": "execute_result",
          "data": {
            "text/plain": [
              "5.0"
            ]
          },
          "metadata": {},
          "execution_count": 11
        }
      ]
    },
    {
      "cell_type": "code",
      "source": [
        "n = m.sqrt(25) #Cálculo da raiz quadrada\n",
        "n"
      ],
      "metadata": {
        "colab": {
          "base_uri": "https://localhost:8080/"
        },
        "id": "-vwrizb-NOyh",
        "outputId": "ec29c3be-b9ae-474d-fa2a-e72db44db9e2"
      },
      "execution_count": 12,
      "outputs": [
        {
          "output_type": "execute_result",
          "data": {
            "text/plain": [
              "5.0"
            ]
          },
          "metadata": {},
          "execution_count": 12
        }
      ]
    },
    {
      "cell_type": "code",
      "source": [
        "# Módulo math: constantes e funções matemáticas\n",
        "import math         # primeiro passo - importação do módulo desejado\n",
        "dir(math)           # dir: exibe todas as constantes e funções existente no módulo"
      ],
      "metadata": {
        "colab": {
          "base_uri": "https://localhost:8080/"
        },
        "id": "GIKoAPOuNlAi",
        "outputId": "efad5070-d242-4b4f-8aa3-d588e666d101"
      },
      "execution_count": 14,
      "outputs": [
        {
          "output_type": "execute_result",
          "data": {
            "text/plain": [
              "['__doc__',\n",
              " '__loader__',\n",
              " '__name__',\n",
              " '__package__',\n",
              " '__spec__',\n",
              " 'acos',\n",
              " 'acosh',\n",
              " 'asin',\n",
              " 'asinh',\n",
              " 'atan',\n",
              " 'atan2',\n",
              " 'atanh',\n",
              " 'cbrt',\n",
              " 'ceil',\n",
              " 'comb',\n",
              " 'copysign',\n",
              " 'cos',\n",
              " 'cosh',\n",
              " 'degrees',\n",
              " 'dist',\n",
              " 'e',\n",
              " 'erf',\n",
              " 'erfc',\n",
              " 'exp',\n",
              " 'exp2',\n",
              " 'expm1',\n",
              " 'fabs',\n",
              " 'factorial',\n",
              " 'floor',\n",
              " 'fmod',\n",
              " 'frexp',\n",
              " 'fsum',\n",
              " 'gamma',\n",
              " 'gcd',\n",
              " 'hypot',\n",
              " 'inf',\n",
              " 'isclose',\n",
              " 'isfinite',\n",
              " 'isinf',\n",
              " 'isnan',\n",
              " 'isqrt',\n",
              " 'lcm',\n",
              " 'ldexp',\n",
              " 'lgamma',\n",
              " 'log',\n",
              " 'log10',\n",
              " 'log1p',\n",
              " 'log2',\n",
              " 'modf',\n",
              " 'nan',\n",
              " 'nextafter',\n",
              " 'perm',\n",
              " 'pi',\n",
              " 'pow',\n",
              " 'prod',\n",
              " 'radians',\n",
              " 'remainder',\n",
              " 'sin',\n",
              " 'sinh',\n",
              " 'sqrt',\n",
              " 'tan',\n",
              " 'tanh',\n",
              " 'tau',\n",
              " 'trunc',\n",
              " 'ulp']"
            ]
          },
          "metadata": {},
          "execution_count": 14
        }
      ]
    },
    {
      "cell_type": "code",
      "source": [
        "import random as r\n",
        "\n",
        "# Execute mais de uma vez esta célula e observe os valores exibidos\n",
        "# Função random: gera um valor aleatório no intervalo [0, 1); não inclui o 1\n",
        "\n",
        "print(str(r.random()))"
      ],
      "metadata": {
        "colab": {
          "base_uri": "https://localhost:8080/"
        },
        "id": "c-jpsTEONuQL",
        "outputId": "598f0d5e-e088-41d6-f68b-d8931b6112be"
      },
      "execution_count": 19,
      "outputs": [
        {
          "output_type": "stream",
          "name": "stdout",
          "text": [
            "0.8573516207406604\n"
          ]
        }
      ]
    },
    {
      "cell_type": "code",
      "source": [
        "# Execute mais de uma vez esta célula e observe os valores exibidos\n",
        "# Função randint: gera um valor aleatório no intervalo especificado; inclui extremos\n",
        "print(str(r.randint(1, 100)))"
      ],
      "metadata": {
        "colab": {
          "base_uri": "https://localhost:8080/"
        },
        "id": "TTZOz62NNwwl",
        "outputId": "92e23bb2-7d51-4c0a-e884-58fe2fffc341"
      },
      "execution_count": 20,
      "outputs": [
        {
          "output_type": "stream",
          "name": "stdout",
          "text": [
            "48\n"
          ]
        }
      ]
    },
    {
      "cell_type": "code",
      "source": [
        "# Execute mais de uma vez esta célula e observe os valores exibidos\n",
        "# Função sample: retorna uma lista com K elementos da sequência fornecida\n",
        "# No exemplo abaixo, foi fornecida uma string\n",
        "# O valor 5 (K) indica a quantidade de elementos desejados\n",
        "r.sample('abcdefghijklmnopqrstuvxwyz', 5)"
      ],
      "metadata": {
        "colab": {
          "base_uri": "https://localhost:8080/"
        },
        "id": "Fb_FTNcPOCIU",
        "outputId": "c735ffb5-5367-4597-d6b7-5f7879eca5d3"
      },
      "execution_count": 21,
      "outputs": [
        {
          "output_type": "execute_result",
          "data": {
            "text/plain": [
              "['s', 'f', 'm', 'q', 'b']"
            ]
          },
          "metadata": {},
          "execution_count": 21
        }
      ]
    },
    {
      "cell_type": "code",
      "source": [
        "# Execute mais de uma vez esta célula e observe os valores exibidos\n",
        "# No exemplo abaixo, foi fornecida uma lista ao invés de uma string\n",
        "r.sample([10.5, True, -9, 'python', 25, 'abc', 2587], 2)"
      ],
      "metadata": {
        "colab": {
          "base_uri": "https://localhost:8080/"
        },
        "id": "fmtBdqG8OFjq",
        "outputId": "f189f871-2c9f-4d12-f17e-9608c8c23783"
      },
      "execution_count": 22,
      "outputs": [
        {
          "output_type": "execute_result",
          "data": {
            "text/plain": [
              "[True, 'abc']"
            ]
          },
          "metadata": {},
          "execution_count": 22
        }
      ]
    },
    {
      "cell_type": "code",
      "source": [
        "import string\n",
        "dir(string)"
      ],
      "metadata": {
        "colab": {
          "base_uri": "https://localhost:8080/"
        },
        "id": "e51gvnwGOHn1",
        "outputId": "0530fdc9-ab2b-441e-cc87-69ad41f50d38"
      },
      "execution_count": 23,
      "outputs": [
        {
          "output_type": "execute_result",
          "data": {
            "text/plain": [
              "['Formatter',\n",
              " 'Template',\n",
              " '_ChainMap',\n",
              " '__all__',\n",
              " '__builtins__',\n",
              " '__cached__',\n",
              " '__doc__',\n",
              " '__file__',\n",
              " '__loader__',\n",
              " '__name__',\n",
              " '__package__',\n",
              " '__spec__',\n",
              " '_re',\n",
              " '_sentinel_dict',\n",
              " '_string',\n",
              " 'ascii_letters',\n",
              " 'ascii_lowercase',\n",
              " 'ascii_uppercase',\n",
              " 'capwords',\n",
              " 'digits',\n",
              " 'hexdigits',\n",
              " 'octdigits',\n",
              " 'printable',\n",
              " 'punctuation',\n",
              " 'whitespace']"
            ]
          },
          "metadata": {},
          "execution_count": 23
        }
      ]
    },
    {
      "cell_type": "code",
      "source": [
        "sL = string.ascii_lowercase\n",
        "sL"
      ],
      "metadata": {
        "colab": {
          "base_uri": "https://localhost:8080/",
          "height": 35
        },
        "id": "eAZTmwrGOKI_",
        "outputId": "b70c96d5-fc27-4562-9442-dc761e8b1f01"
      },
      "execution_count": 24,
      "outputs": [
        {
          "output_type": "execute_result",
          "data": {
            "text/plain": [
              "'abcdefghijklmnopqrstuvwxyz'"
            ],
            "application/vnd.google.colaboratory.intrinsic+json": {
              "type": "string"
            }
          },
          "metadata": {},
          "execution_count": 24
        }
      ]
    },
    {
      "cell_type": "code",
      "source": [
        "string.punctuation"
      ],
      "metadata": {
        "colab": {
          "base_uri": "https://localhost:8080/",
          "height": 35
        },
        "id": "R2VcQeYQOLfv",
        "outputId": "72222a3a-4ce0-4350-ce5e-3aa28e8b48aa"
      },
      "execution_count": 25,
      "outputs": [
        {
          "output_type": "execute_result",
          "data": {
            "text/plain": [
              "'!\"#$%&\\'()*+,-./:;<=>?@[\\\\]^_`{|}~'"
            ],
            "application/vnd.google.colaboratory.intrinsic+json": {
              "type": "string"
            }
          },
          "metadata": {},
          "execution_count": 25
        }
      ]
    },
    {
      "cell_type": "markdown",
      "source": [
        "###Desafios"
      ],
      "metadata": {
        "id": "Uud0wqeZOhfr"
      }
    },
    {
      "cell_type": "markdown",
      "source": [
        "#### **DESAFIO 01**\n",
        "\n",
        "Utilizando uma constante do módulo string, refaça o desafio 4 da lista anterior, reproduzido abaixo.\n",
        "\n",
        "Crie uma variável string com todas as letras maiúsculas do alfabeto. Em seguida, crie uma variável lista com os valores inteiros 15, 24, 19, 7, 14 e 13. Considerando que cada inteiro da lista corresponde ao índice da posição de uma letra na string, exiba a concatenação de todas as 6 letras e descubra a \"palavra secreta\". Por exemplo, se a lista possuir os valores 14 e 0, a palavra secreta será 'OI'.\n"
      ],
      "metadata": {
        "id": "Dp1CZeJMOkLQ"
      }
    },
    {
      "cell_type": "code",
      "source": [
        "_alfabeto = 'ABCDEFGHIJKLMNOPQRSTUVXZYW'\n",
        "lNumInteiros = [15, 24, 19, 7, 14, 13]\n",
        "print(_alfabeto[lNumInteiros[0]] +\n",
        "      _alfabeto[lNumInteiros[1]] +\n",
        "      _alfabeto[lNumInteiros[2]] +\n",
        "      _alfabeto[lNumInteiros[3]] +\n",
        "      _alfabeto[lNumInteiros[4]] +\n",
        "      _alfabeto[lNumInteiros[5]]\n",
        ")"
      ],
      "metadata": {
        "colab": {
          "base_uri": "https://localhost:8080/"
        },
        "id": "NJWqshJEO3yj",
        "outputId": "0a7bf158-0bf9-4214-cdf9-8ff6d8e50dc8"
      },
      "execution_count": 27,
      "outputs": [
        {
          "output_type": "stream",
          "name": "stdout",
          "text": [
            "PYTHON\n"
          ]
        }
      ]
    },
    {
      "cell_type": "markdown",
      "source": [
        "####**DESAFIO 2**\n",
        "\n",
        "Utilizando a função log10 do módulo math, calcule o log do valor 10000 na base 10."
      ],
      "metadata": {
        "id": "qpPv2BU9OrPJ"
      }
    },
    {
      "cell_type": "code",
      "source": [
        "from math import log10\n",
        "\n",
        "help(log10)"
      ],
      "metadata": {
        "colab": {
          "base_uri": "https://localhost:8080/"
        },
        "id": "xP_Nk74aPP-k",
        "outputId": "5fb5cff0-a0e9-4db7-f170-e7299a8dead9"
      },
      "execution_count": 28,
      "outputs": [
        {
          "output_type": "stream",
          "name": "stdout",
          "text": [
            "Help on built-in function log10 in module math:\n",
            "\n",
            "log10(x, /)\n",
            "    Return the base 10 logarithm of x.\n",
            "\n"
          ]
        }
      ]
    },
    {
      "cell_type": "code",
      "source": [
        "print(float(log10(10000)))"
      ],
      "metadata": {
        "colab": {
          "base_uri": "https://localhost:8080/"
        },
        "id": "iqn-96QUPfG-",
        "outputId": "cb350657-bbc2-43bb-ed42-f891d821a514"
      },
      "execution_count": 29,
      "outputs": [
        {
          "output_type": "stream",
          "name": "stdout",
          "text": [
            "4.0\n"
          ]
        }
      ]
    },
    {
      "cell_type": "markdown",
      "source": [
        "####DESAFIO 3\n",
        "\n",
        "Considere uma string composta por 4 algarismos como, por exemplo, '1234'. Exiba a soma dos algarismos da string exemplo. Importante: a sua solução deve funcionar para qualquer string composta por 4 algarismos. Por isso, depois de executar a sua solução, substitua a string '1234' por '8751' e execute-a novamente."
      ],
      "metadata": {
        "id": "ruQcrI-ROxe1"
      }
    },
    {
      "cell_type": "code",
      "source": [
        "s_item = '1234'\n",
        "print(str(int(s_item[0]) + int(s_item[1]) + int(s_item[2]) + int(s_item[3])))\n",
        "\n",
        "s_item = '8751'\n",
        "print(str(int(s_item[0]) + int(s_item[1]) + int(s_item[2]) + int(s_item[3])))"
      ],
      "metadata": {
        "colab": {
          "base_uri": "https://localhost:8080/"
        },
        "id": "keTDNH2hRB9V",
        "outputId": "f983d62a-4301-4668-b18c-e30745cf93fe"
      },
      "execution_count": 53,
      "outputs": [
        {
          "output_type": "stream",
          "name": "stdout",
          "text": [
            "10\n",
            "21\n"
          ]
        }
      ]
    },
    {
      "cell_type": "code",
      "source": [
        "import string as s\n",
        "dir(s)"
      ],
      "metadata": {
        "colab": {
          "base_uri": "https://localhost:8080/"
        },
        "id": "vhbav7WdPlU8",
        "outputId": "60fb76ba-7b38-4c82-d171-858b742b0443"
      },
      "execution_count": 34,
      "outputs": [
        {
          "output_type": "execute_result",
          "data": {
            "text/plain": [
              "['Formatter',\n",
              " 'Template',\n",
              " '_ChainMap',\n",
              " '__all__',\n",
              " '__builtins__',\n",
              " '__cached__',\n",
              " '__doc__',\n",
              " '__file__',\n",
              " '__loader__',\n",
              " '__name__',\n",
              " '__package__',\n",
              " '__spec__',\n",
              " '_re',\n",
              " '_sentinel_dict',\n",
              " '_string',\n",
              " 'ascii_letters',\n",
              " 'ascii_lowercase',\n",
              " 'ascii_uppercase',\n",
              " 'capwords',\n",
              " 'digits',\n",
              " 'hexdigits',\n",
              " 'octdigits',\n",
              " 'printable',\n",
              " 'punctuation',\n",
              " 'whitespace']"
            ]
          },
          "metadata": {},
          "execution_count": 34
        }
      ]
    },
    {
      "cell_type": "code",
      "source": [
        "help(s.Formatter)"
      ],
      "metadata": {
        "colab": {
          "base_uri": "https://localhost:8080/"
        },
        "id": "wT-I-1duQFSt",
        "outputId": "6da81de0-74da-41a2-a3a5-4109993bb5a4"
      },
      "execution_count": 37,
      "outputs": [
        {
          "output_type": "stream",
          "name": "stdout",
          "text": [
            "Help on class Formatter in module string:\n",
            "\n",
            "class Formatter(builtins.object)\n",
            " |  Methods defined here:\n",
            " |  \n",
            " |  check_unused_args(self, used_args, args, kwargs)\n",
            " |  \n",
            " |  convert_field(self, value, conversion)\n",
            " |  \n",
            " |  format(self, format_string, /, *args, **kwargs)\n",
            " |  \n",
            " |  format_field(self, value, format_spec)\n",
            " |  \n",
            " |  get_field(self, field_name, args, kwargs)\n",
            " |      # given a field_name, find the object it references.\n",
            " |      #  field_name:   the field being looked up, e.g. \"0.name\"\n",
            " |      #                 or \"lookup[3]\"\n",
            " |      #  used_args:    a set of which args have been used\n",
            " |      #  args, kwargs: as passed in to vformat\n",
            " |  \n",
            " |  get_value(self, key, args, kwargs)\n",
            " |  \n",
            " |  parse(self, format_string)\n",
            " |      # returns an iterable that contains tuples of the form:\n",
            " |      # (literal_text, field_name, format_spec, conversion)\n",
            " |      # literal_text can be zero length\n",
            " |      # field_name can be None, in which case there's no\n",
            " |      #  object to format and output\n",
            " |      # if field_name is not None, it is looked up, formatted\n",
            " |      #  with format_spec and conversion and then used\n",
            " |  \n",
            " |  vformat(self, format_string, args, kwargs)\n",
            " |  \n",
            " |  ----------------------------------------------------------------------\n",
            " |  Data descriptors defined here:\n",
            " |  \n",
            " |  __dict__\n",
            " |      dictionary for instance variables\n",
            " |  \n",
            " |  __weakref__\n",
            " |      list of weak references to the object\n",
            "\n"
          ]
        }
      ]
    },
    {
      "cell_type": "code",
      "source": [
        "help(s.digits)"
      ],
      "metadata": {
        "colab": {
          "base_uri": "https://localhost:8080/"
        },
        "id": "IaxWLU_pQCIE",
        "outputId": "7c76dde9-f670-44ec-d7e4-246d21ab466e"
      },
      "execution_count": 35,
      "outputs": [
        {
          "output_type": "stream",
          "name": "stdout",
          "text": [
            "No Python documentation found for '0123456789'.\n",
            "Use help() to get the interactive help utility.\n",
            "Use help(str) for help on the str class.\n",
            "\n"
          ]
        }
      ]
    },
    {
      "cell_type": "code",
      "source": [
        "help(s._string)"
      ],
      "metadata": {
        "colab": {
          "base_uri": "https://localhost:8080/"
        },
        "id": "SnWywwruQMwi",
        "outputId": "9e1c56ac-54e0-45a6-a915-ac30fe58c604"
      },
      "execution_count": 38,
      "outputs": [
        {
          "output_type": "stream",
          "name": "stdout",
          "text": [
            "Help on built-in module _string:\n",
            "\n",
            "NAME\n",
            "    _string - string helper module\n",
            "\n",
            "FUNCTIONS\n",
            "    formatter_field_name_split(...)\n",
            "        split the argument as a field name\n",
            "    \n",
            "    formatter_parser(...)\n",
            "        parse the argument as a format string\n",
            "\n",
            "FILE\n",
            "    (built-in)\n",
            "\n",
            "\n"
          ]
        }
      ]
    },
    {
      "cell_type": "code",
      "source": [
        "help(s.capwords)"
      ],
      "metadata": {
        "colab": {
          "base_uri": "https://localhost:8080/"
        },
        "id": "N78AQOprQV2B",
        "outputId": "095bcc40-9616-42ad-c699-8db53a47a499"
      },
      "execution_count": 39,
      "outputs": [
        {
          "output_type": "stream",
          "name": "stdout",
          "text": [
            "Help on function capwords in module string:\n",
            "\n",
            "capwords(s, sep=None)\n",
            "    capwords(s [,sep]) -> string\n",
            "    \n",
            "    Split the argument into words using split, capitalize each\n",
            "    word using capitalize, and join the capitalized words using\n",
            "    join.  If the optional second argument sep is absent or None,\n",
            "    runs of whitespace characters are replaced by a single space\n",
            "    and leading and trailing whitespace are removed, otherwise\n",
            "    sep is used to split and join the words.\n",
            "\n"
          ]
        }
      ]
    },
    {
      "cell_type": "code",
      "source": [
        "help(s._ChainMap)"
      ],
      "metadata": {
        "colab": {
          "base_uri": "https://localhost:8080/"
        },
        "id": "RK1AdXMxQq3-",
        "outputId": "6c4b15da-1e2e-4419-e932-d14288385b04"
      },
      "execution_count": 41,
      "outputs": [
        {
          "output_type": "stream",
          "name": "stdout",
          "text": [
            "Help on class ChainMap in module collections:\n",
            "\n",
            "class ChainMap(collections.abc.MutableMapping)\n",
            " |  ChainMap(*maps)\n",
            " |  \n",
            " |  A ChainMap groups multiple dicts (or other mappings) together\n",
            " |  to create a single, updateable view.\n",
            " |  \n",
            " |  The underlying mappings are stored in a list.  That list is public and can\n",
            " |  be accessed or updated using the *maps* attribute.  There is no other\n",
            " |  state.\n",
            " |  \n",
            " |  Lookups search the underlying mappings successively until a key is found.\n",
            " |  In contrast, writes, updates, and deletions only operate on the first\n",
            " |  mapping.\n",
            " |  \n",
            " |  Method resolution order:\n",
            " |      ChainMap\n",
            " |      collections.abc.MutableMapping\n",
            " |      collections.abc.Mapping\n",
            " |      collections.abc.Collection\n",
            " |      collections.abc.Sized\n",
            " |      collections.abc.Iterable\n",
            " |      collections.abc.Container\n",
            " |      builtins.object\n",
            " |  \n",
            " |  Methods defined here:\n",
            " |  \n",
            " |  __bool__(self)\n",
            " |  \n",
            " |  __contains__(self, key)\n",
            " |  \n",
            " |  __copy__ = copy(self)\n",
            " |  \n",
            " |  __delitem__(self, key)\n",
            " |  \n",
            " |  __getitem__(self, key)\n",
            " |  \n",
            " |  __init__(self, *maps)\n",
            " |      Initialize a ChainMap by setting *maps* to the given mappings.\n",
            " |      If no mappings are provided, a single empty dictionary is used.\n",
            " |  \n",
            " |  __ior__(self, other)\n",
            " |  \n",
            " |  __iter__(self)\n",
            " |  \n",
            " |  __len__(self)\n",
            " |  \n",
            " |  __missing__(self, key)\n",
            " |  \n",
            " |  __or__(self, other)\n",
            " |      Return self|value.\n",
            " |  \n",
            " |  __repr__(self)\n",
            " |      Return repr(self).\n",
            " |  \n",
            " |  __ror__(self, other)\n",
            " |      Return value|self.\n",
            " |  \n",
            " |  __setitem__(self, key, value)\n",
            " |  \n",
            " |  clear(self)\n",
            " |      Clear maps[0], leaving maps[1:] intact.\n",
            " |  \n",
            " |  copy(self)\n",
            " |      New ChainMap or subclass with a new copy of maps[0] and refs to maps[1:]\n",
            " |  \n",
            " |  get(self, key, default=None)\n",
            " |      D.get(k[,d]) -> D[k] if k in D, else d.  d defaults to None.\n",
            " |  \n",
            " |  new_child(self, m=None, **kwargs)\n",
            " |      New ChainMap with a new map followed by all previous maps.\n",
            " |      If no map is provided, an empty dict is used.\n",
            " |      Keyword arguments update the map or new empty dict.\n",
            " |  \n",
            " |  pop(self, key, *args)\n",
            " |      Remove *key* from maps[0] and return its value. Raise KeyError if *key* not in maps[0].\n",
            " |  \n",
            " |  popitem(self)\n",
            " |      Remove and return an item pair from maps[0]. Raise KeyError is maps[0] is empty.\n",
            " |  \n",
            " |  ----------------------------------------------------------------------\n",
            " |  Class methods defined here:\n",
            " |  \n",
            " |  fromkeys(iterable, *args)\n",
            " |      Create a ChainMap with a single dict created from the iterable.\n",
            " |  \n",
            " |  ----------------------------------------------------------------------\n",
            " |  Readonly properties defined here:\n",
            " |  \n",
            " |  parents\n",
            " |      New ChainMap from maps[1:].\n",
            " |  \n",
            " |  ----------------------------------------------------------------------\n",
            " |  Data descriptors defined here:\n",
            " |  \n",
            " |  __dict__\n",
            " |      dictionary for instance variables\n",
            " |  \n",
            " |  __weakref__\n",
            " |      list of weak references to the object\n",
            " |  \n",
            " |  ----------------------------------------------------------------------\n",
            " |  Data and other attributes defined here:\n",
            " |  \n",
            " |  __abstractmethods__ = frozenset()\n",
            " |  \n",
            " |  ----------------------------------------------------------------------\n",
            " |  Methods inherited from collections.abc.MutableMapping:\n",
            " |  \n",
            " |  setdefault(self, key, default=None)\n",
            " |      D.setdefault(k[,d]) -> D.get(k,d), also set D[k]=d if k not in D\n",
            " |  \n",
            " |  update(self, other=(), /, **kwds)\n",
            " |      D.update([E, ]**F) -> None.  Update D from mapping/iterable E and F.\n",
            " |      If E present and has a .keys() method, does:     for k in E: D[k] = E[k]\n",
            " |      If E present and lacks .keys() method, does:     for (k, v) in E: D[k] = v\n",
            " |      In either case, this is followed by: for k, v in F.items(): D[k] = v\n",
            " |  \n",
            " |  ----------------------------------------------------------------------\n",
            " |  Methods inherited from collections.abc.Mapping:\n",
            " |  \n",
            " |  __eq__(self, other)\n",
            " |      Return self==value.\n",
            " |  \n",
            " |  items(self)\n",
            " |      D.items() -> a set-like object providing a view on D's items\n",
            " |  \n",
            " |  keys(self)\n",
            " |      D.keys() -> a set-like object providing a view on D's keys\n",
            " |  \n",
            " |  values(self)\n",
            " |      D.values() -> an object providing a view on D's values\n",
            " |  \n",
            " |  ----------------------------------------------------------------------\n",
            " |  Data and other attributes inherited from collections.abc.Mapping:\n",
            " |  \n",
            " |  __hash__ = None\n",
            " |  \n",
            " |  __reversed__ = None\n",
            " |  \n",
            " |  ----------------------------------------------------------------------\n",
            " |  Class methods inherited from collections.abc.Collection:\n",
            " |  \n",
            " |  __subclasshook__(C)\n",
            " |      Abstract classes can override this to customize issubclass().\n",
            " |      \n",
            " |      This is invoked early on by abc.ABCMeta.__subclasscheck__().\n",
            " |      It should return True, False or NotImplemented.  If it returns\n",
            " |      NotImplemented, the normal algorithm is used.  Otherwise, it\n",
            " |      overrides the normal algorithm (and the outcome is cached).\n",
            " |  \n",
            " |  ----------------------------------------------------------------------\n",
            " |  Class methods inherited from collections.abc.Iterable:\n",
            " |  \n",
            " |  __class_getitem__ = GenericAlias(...)\n",
            " |      Represent a PEP 585 generic type\n",
            " |      \n",
            " |      E.g. for t = list[int], t.__origin__ is list and t.__args__ is (int,).\n",
            "\n"
          ]
        }
      ]
    },
    {
      "cell_type": "markdown",
      "source": [
        "##Aula 01 - Exercício 5 - Interagindo com o usuário: entrada e saída de dados"
      ],
      "metadata": {
        "id": "ywMvLABETykL"
      }
    },
    {
      "cell_type": "markdown",
      "source": [
        "###Exemplos Apostila"
      ],
      "metadata": {
        "id": "UHPmG8zlT-yx"
      }
    },
    {
      "cell_type": "markdown",
      "source": [
        "####Saída (impressão ou exibição) de dados\n",
        "\n",
        "método Print"
      ],
      "metadata": {
        "id": "5yne-aK4UC4K"
      }
    },
    {
      "cell_type": "code",
      "source": [
        "import math as m\n",
        "n = m.sqrt(25)\n",
        "print('Raíz quadrada de 25: ', n)"
      ],
      "metadata": {
        "colab": {
          "base_uri": "https://localhost:8080/"
        },
        "id": "BDn1scIqUEKA",
        "outputId": "8d0911bb-404c-4d48-8cfd-a9bacb20d281"
      },
      "execution_count": 58,
      "outputs": [
        {
          "output_type": "stream",
          "name": "stdout",
          "text": [
            "Raíz quadrada de 25:  5.0\n"
          ]
        }
      ]
    },
    {
      "cell_type": "code",
      "source": [
        "print('A raiz quadrada de 25 é: ', n, sep=' ', end='\\n')"
      ],
      "metadata": {
        "colab": {
          "base_uri": "https://localhost:8080/"
        },
        "id": "uj9QS8fJUvZ9",
        "outputId": "ec90e9f0-8503-47d0-b9b3-ab08ea10d0be"
      },
      "execution_count": 59,
      "outputs": [
        {
          "output_type": "stream",
          "name": "stdout",
          "text": [
            "A raiz quadrada de 25 é:  5.0\n"
          ]
        }
      ]
    },
    {
      "cell_type": "code",
      "source": [
        "a = 10\n",
        "b = 20\n",
        "\n",
        "print(a, b, sep=':')"
      ],
      "metadata": {
        "colab": {
          "base_uri": "https://localhost:8080/"
        },
        "id": "kxQUZgjaU9To",
        "outputId": "c03df416-3de1-4153-dac1-35ccbf863c17"
      },
      "execution_count": 60,
      "outputs": [
        {
          "output_type": "stream",
          "name": "stdout",
          "text": [
            "10:20\n"
          ]
        }
      ]
    },
    {
      "cell_type": "code",
      "source": [
        "print('Linha 1', end=' ')\n",
        "print('Linha 2')"
      ],
      "metadata": {
        "colab": {
          "base_uri": "https://localhost:8080/"
        },
        "id": "jYlJL479VITj",
        "outputId": "16c7fb55-b5c1-4f69-ae55-7865728cd206"
      },
      "execution_count": 62,
      "outputs": [
        {
          "output_type": "stream",
          "name": "stdout",
          "text": [
            "Linha 1 Linha 2\n"
          ]
        }
      ]
    },
    {
      "cell_type": "code",
      "source": [
        "nome = 'Mickey Mouse'\n",
        "ano = 1928\n",
        "print(f'O personagem {nome} foi criado em {ano}.')"
      ],
      "metadata": {
        "colab": {
          "base_uri": "https://localhost:8080/"
        },
        "id": "tXDwZVFmVb8E",
        "outputId": "1d940e84-dea8-48c5-97ba-c5af4dd0a583"
      },
      "execution_count": 65,
      "outputs": [
        {
          "output_type": "stream",
          "name": "stdout",
          "text": [
            "O personagem Mickey Mouse foi criado em 1928.\n"
          ]
        }
      ]
    },
    {
      "cell_type": "code",
      "source": [
        "n = 1234.56789\n",
        "print(f'{n}')\n",
        "print(f'{n:.3f}')\n",
        "print(f'{n:10.3f}')"
      ],
      "metadata": {
        "colab": {
          "base_uri": "https://localhost:8080/"
        },
        "id": "Dt-PnIcFVoa6",
        "outputId": "f60ed976-4b7b-4c94-a4f2-9b3182445a59"
      },
      "execution_count": 68,
      "outputs": [
        {
          "output_type": "stream",
          "name": "stdout",
          "text": [
            "1234.56789\n",
            "1234.568\n",
            "  1234.568\n"
          ]
        }
      ]
    },
    {
      "cell_type": "code",
      "source": [
        "print('Valor1\\tValor2\\tValor3\\tValor4')"
      ],
      "metadata": {
        "colab": {
          "base_uri": "https://localhost:8080/"
        },
        "id": "0P8J_qVnWFJF",
        "outputId": "54ceba73-531e-413d-cb2a-f4bc83c89fb5"
      },
      "execution_count": 70,
      "outputs": [
        {
          "output_type": "stream",
          "name": "stdout",
          "text": [
            "Valor1\tValor2\tValor3\tValor4\n"
          ]
        }
      ]
    },
    {
      "cell_type": "code",
      "source": [
        "n = 19\n",
        "print(f'[{n}] [{n:d}] [{n:5d}]')\n",
        "print(f'{n:o} {n:x}')\n",
        "print(f'{n:e}')"
      ],
      "metadata": {
        "colab": {
          "base_uri": "https://localhost:8080/"
        },
        "id": "8UkMcEyzWVE2",
        "outputId": "887f7505-1294-43e3-a393-a1d4b8aca262"
      },
      "execution_count": 71,
      "outputs": [
        {
          "output_type": "stream",
          "name": "stdout",
          "text": [
            "[19] [19] [   19]\n",
            "23 13\n",
            "1.900000e+01\n"
          ]
        }
      ]
    },
    {
      "cell_type": "code",
      "source": [
        "n1 = 10\n",
        "n2 = 20\n",
        "n3 = 30\n",
        "\n",
        "print(n1, n2, n3)\n",
        "print(n1, '\\n', n2, '\\n', n3)\n",
        "print(n1, '\\n', n2, '\\n', n3, sep='')\n",
        "print(n1, '\\nn', n2, '\\nn', n3, sep='')\n",
        "print('V1', '\\t', 'V2', '\\t', 'V3')\n",
        "print(n1, '\\t', n2, '\\t', n3)\n",
        "print(n1, '\\t', n2, '\\t', n3)"
      ],
      "metadata": {
        "colab": {
          "base_uri": "https://localhost:8080/"
        },
        "id": "FcFG2rSnXxs9",
        "outputId": "cbeeb41d-a47a-40c9-a8be-725f395b7df9"
      },
      "execution_count": 72,
      "outputs": [
        {
          "output_type": "stream",
          "name": "stdout",
          "text": [
            "10 20 30\n",
            "10 \n",
            " 20 \n",
            " 30\n",
            "10\n",
            "20\n",
            "30\n",
            "10\n",
            "n20\n",
            "n30\n",
            "V1 \t V2 \t V3\n",
            "10 \t 20 \t 30\n",
            "10 \t 20 \t 30\n"
          ]
        }
      ]
    },
    {
      "cell_type": "code",
      "source": [
        "n1 = 25\n",
        "print(f'Valor inteiro: {n1}')\n",
        "print(f'Valor inteiro: {n1:5d}')\n",
        "print(f'Valor inteiro: {n1:05d}')"
      ],
      "metadata": {
        "colab": {
          "base_uri": "https://localhost:8080/"
        },
        "id": "7JcXS-JbYRyy",
        "outputId": "13a2385a-3d47-4d21-d7dd-fa50ecd20182"
      },
      "execution_count": 73,
      "outputs": [
        {
          "output_type": "stream",
          "name": "stdout",
          "text": [
            "Valor inteiro: 25\n",
            "Valor inteiro:    25\n",
            "Valor inteiro: 00025\n"
          ]
        }
      ]
    },
    {
      "cell_type": "code",
      "source": [
        "n2 = 1234.567899\n",
        "print(f'Valor inteiro: {n2}')\n",
        "print(f'Valor inteiro: {n2:2f}')\n",
        "print(f'Valor inteiro: {n2:10.2f}')\n",
        "print(f'Valor inteiro: {n2:010.2f}')"
      ],
      "metadata": {
        "colab": {
          "base_uri": "https://localhost:8080/"
        },
        "id": "R5uKL6V5Yp7Z",
        "outputId": "bb0f59b9-ffc2-47ae-ee17-fb9f976c669a"
      },
      "execution_count": 74,
      "outputs": [
        {
          "output_type": "stream",
          "name": "stdout",
          "text": [
            "Valor inteiro: 1234.567899\n",
            "Valor inteiro: 1234.567899\n",
            "Valor inteiro:    1234.57\n",
            "Valor inteiro: 0001234.57\n"
          ]
        }
      ]
    },
    {
      "cell_type": "code",
      "source": [
        "vogais = 'AEIOU'\n",
        "print(f'Texto: {vogais}')\n",
        "print(f'Texto: {vogais:>10s}')\n",
        "print(f'Texto: {vogais:^10s}')"
      ],
      "metadata": {
        "colab": {
          "base_uri": "https://localhost:8080/"
        },
        "id": "aNIjAU5cY1dR",
        "outputId": "7b1afaf4-20d9-4861-853f-88318dab4f1f"
      },
      "execution_count": 76,
      "outputs": [
        {
          "output_type": "stream",
          "name": "stdout",
          "text": [
            "Texto: AEIOU\n",
            "Texto:      AEIOU\n",
            "Texto:   AEIOU   \n"
          ]
        }
      ]
    },
    {
      "cell_type": "markdown",
      "source": [
        "###Desafios"
      ],
      "metadata": {
        "id": "SehhA5JfZUvE"
      }
    },
    {
      "cell_type": "markdown",
      "source": [
        "####DESAFIO 1\n",
        "\n",
        "Escreva um programa que exiba o correspondente a 23 dias em semanas e dias. Exiba uma mensagem adequada usando as palavras 'semanas' e 'dias' após as respectivas quantidades.\n",
        "\n",
        "Importante: a sua solução deve funcionar para qualquer quantidade de dias. Por isso, depois de executar a sua solução para 23 dias, execute-a novamente para 144 dias."
      ],
      "metadata": {
        "id": "ejNb5dlGZaVv"
      }
    },
    {
      "cell_type": "code",
      "source": [
        "nDias = 23\n",
        "nSemanas = nDias // 7\n",
        "nRestoDias = nDias % 7\n",
        "\n",
        "print(f'{nSemanas} Semanas', end=' e ')\n",
        "print(f'{nRestoDias} dias')\n",
        "\n",
        "nDias = 144\n",
        "nSemanas = nDias // 7\n",
        "nRestoDias = nDias % 7\n",
        "print(f'{nSemanas} Semanas', end=' e ')\n",
        "print(f'{nRestoDias} dias')"
      ],
      "metadata": {
        "colab": {
          "base_uri": "https://localhost:8080/"
        },
        "id": "mTx-J-9rZiqB",
        "outputId": "b4c8f581-e53d-4b49-eb85-a52909b03c04"
      },
      "execution_count": 111,
      "outputs": [
        {
          "output_type": "stream",
          "name": "stdout",
          "text": [
            "3 Semanas e 2 dias\n",
            "20 Semanas e 4 dias\n"
          ]
        }
      ]
    },
    {
      "cell_type": "markdown",
      "source": [
        "####DESAFIO 2\n",
        "\n",
        "A cada execução, a função random do módulo de mesmo nome gera um valor real aletaório no intervalo [0, 1), ou seja, maior ou igual a 0 e menor do que 1. Escreva um programa que gere um valor aleatório com essa função e exiba-o de diferentes formas:\n",
        "\n",
        "* sem detalhes de formatação, sem utilizar uma f-string;\n",
        "* sem detalhes de formatação, utilizando uma f-string;\n",
        "* com 4 casas decimais;\n",
        "* com 4 casas em um campo de tamanho 7;\n",
        "* com 6 casas decimais em um campo de tamanho 12 e com zeros à frente."
      ],
      "metadata": {
        "id": "MlQi9wRPZc4u"
      }
    },
    {
      "cell_type": "code",
      "source": [
        "import random as r\n",
        "\n",
        "numero = r.random()\n",
        "print(numero)\n",
        "print(f'{numero}')\n",
        "print(f'{numero:1.4f}')\n",
        "print(f'{numero:7.4f}')\n",
        "print(f'{numero:012.6f}')"
      ],
      "metadata": {
        "colab": {
          "base_uri": "https://localhost:8080/"
        },
        "id": "kVxvrsEyaYzb",
        "outputId": "c28b6fa5-885a-4d23-ae08-613140c950e3"
      },
      "execution_count": 103,
      "outputs": [
        {
          "output_type": "stream",
          "name": "stdout",
          "text": [
            "0.5030701495985834\n",
            "0.5030701495985834\n",
            "0.5031\n",
            " 0.5031\n",
            "00000.503070\n"
          ]
        }
      ]
    }
  ]
}